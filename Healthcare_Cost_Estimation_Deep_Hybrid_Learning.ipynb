{
  "cells": [
    {
      "cell_type": "markdown",
      "source": [
        "**This work deals with a model to predict the healthcare cost using the fusion of ML and DL. The method we have proposed is Deep Hyrbid Learning. Tabular data with a regression problem to solve always inclines towards machine learning. Deep Learning is much popular for the imagess but not restricted only to it. DL is always complex for tabular data but what if we can use both ml and dl. My idea is not to ensemble which makes it much more complex rather use the benefits of both the ideologies. ML is simple, faster to model and learn but deep learning isnt. On the other hand Neural networks has the ability to short down the important features in a very huge dataset on its own without any feature selection work unlike we do in Machine Learning. Even though there are techniques around to select features for ML models. Deep learning is much effective in coming with the important features. So we use deep learning model on the data to extract important features and use those features on a machine learning model to get a better accuracy**"
      ],
      "metadata": {
        "id": "SJknwWBaz9Xr"
      },
      "id": "SJknwWBaz9Xr"
    },
    {
      "cell_type": "markdown",
      "source": [
        "# Random Forest - Phase 1"
      ],
      "metadata": {
        "id": "Roonr6gk2-2Q"
      },
      "id": "Roonr6gk2-2Q"
    },
    {
      "cell_type": "code",
      "execution_count": null,
      "id": "d8b3745f",
      "metadata": {
        "id": "d8b3745f"
      },
      "outputs": [],
      "source": [
        "import pandas as pd\n",
        "import numpy as np\n",
        "import seaborn as sns\n",
        "import warnings\n",
        "import matplotlib.pyplot as plt\n",
        "%matplotlib inline\n",
        "\n",
        "# To ignore any warnings\n",
        "import warnings\n",
        "warnings.filterwarnings(\"ignore\")\n"
      ]
    },
    {
      "cell_type": "code",
      "source": [
        "from google.colab import drive\n",
        "drive.mount('/content/drive')"
      ],
      "metadata": {
        "colab": {
          "base_uri": "https://localhost:8080/"
        },
        "id": "9NRdK_jkqjk1",
        "outputId": "9429a3b2-56b1-42dc-823e-e9200ef40d2f"
      },
      "id": "9NRdK_jkqjk1",
      "execution_count": null,
      "outputs": [
        {
          "output_type": "stream",
          "name": "stdout",
          "text": [
            "Mounted at /content/drive\n"
          ]
        }
      ]
    },
    {
      "cell_type": "code",
      "execution_count": null,
      "id": "77a123ec",
      "metadata": {
        "id": "77a123ec"
      },
      "outputs": [],
      "source": [
        "df = pd.read_csv(r'/content/drive/MyDrive/RF+NN/Inpatient_sparcs.csv',header=None)"
      ]
    },
    {
      "cell_type": "code",
      "execution_count": null,
      "id": "4f085fd7",
      "metadata": {
        "id": "4f085fd7",
        "colab": {
          "base_uri": "https://localhost:8080/"
        },
        "outputId": "3008d997-2047-4cce-c505-27c0260e16b4"
      },
      "outputs": [
        {
          "output_type": "execute_result",
          "data": {
            "text/plain": [
              "(2343570, 34)"
            ]
          },
          "metadata": {},
          "execution_count": 4
        }
      ],
      "source": [
        "df.shape"
      ]
    },
    {
      "cell_type": "code",
      "execution_count": null,
      "id": "72debd96",
      "metadata": {
        "id": "72debd96",
        "colab": {
          "base_uri": "https://localhost:8080/",
          "height": 1000
        },
        "outputId": "732a95ef-4e32-478c-d204-b1278801f8ee"
      },
      "outputs": [
        {
          "output_type": "execute_result",
          "data": {
            "text/plain": [
              "                                      0  \\\n",
              "0                 Hospital Service Area   \n",
              "1                       Hospital County   \n",
              "2          Operating Certificate Number   \n",
              "3                 Permanent Facility Id   \n",
              "4                         Facility Name   \n",
              "5                             Age Group   \n",
              "6                   Zip Code - 3 digits   \n",
              "7                                Gender   \n",
              "8                                  Race   \n",
              "9                             Ethnicity   \n",
              "10                       Length of Stay   \n",
              "11                    Type of Admission   \n",
              "12                  Patient Disposition   \n",
              "13                       Discharge Year   \n",
              "14                   CCS Diagnosis Code   \n",
              "15            CCS Diagnosis Description   \n",
              "16                   CCS Procedure Code   \n",
              "17            CCS Procedure Description   \n",
              "18                         APR DRG Code   \n",
              "19                  APR DRG Description   \n",
              "20                         APR MDC Code   \n",
              "21                  APR MDC Description   \n",
              "22         APR Severity of Illness Code   \n",
              "23  APR Severity of Illness Description   \n",
              "24                APR Risk of Mortality   \n",
              "25     APR Medical Surgical Description   \n",
              "26                   Payment Typology 1   \n",
              "27                   Payment Typology 2   \n",
              "28                   Payment Typology 3   \n",
              "29                         Birth Weight   \n",
              "30              Abortion Edit Indicator   \n",
              "31       Emergency Department Indicator   \n",
              "32                        Total Charges   \n",
              "33                          Total Costs   \n",
              "\n",
              "                                              1  \\\n",
              "0                                 Hudson Valley   \n",
              "1                                   Westchester   \n",
              "2                                       5903001   \n",
              "3                                        001061   \n",
              "4              Montefiore Mount Vernon Hospital   \n",
              "5                                      30 to 49   \n",
              "6                                           NaN   \n",
              "7                                             M   \n",
              "8                                         White   \n",
              "9                             Not Span/Hispanic   \n",
              "10                                           21   \n",
              "11                                     Elective   \n",
              "12                            Home or Self Care   \n",
              "13                                         2017   \n",
              "14                                          659   \n",
              "15  Schizophrenia and other psychotic disorders   \n",
              "16                                          000   \n",
              "17                                      NO PROC   \n",
              "18                                          750   \n",
              "19                                Schizophrenia   \n",
              "20                                           19   \n",
              "21                Mental Diseases and Disorders   \n",
              "22                                            2   \n",
              "23                                     Moderate   \n",
              "24                                        Minor   \n",
              "25                                      Medical   \n",
              "26                                     Medicare   \n",
              "27                                     Medicare   \n",
              "28                                     Self-Pay   \n",
              "29                                          NaN   \n",
              "30                                            N   \n",
              "31                                            N   \n",
              "32                                    114168.00   \n",
              "33                                     40464.04   \n",
              "\n",
              "                                                    2  \\\n",
              "0                                       Hudson Valley   \n",
              "1                                         Westchester   \n",
              "2                                             5903001   \n",
              "3                                              001061   \n",
              "4                    Montefiore Mount Vernon Hospital   \n",
              "5                                            50 to 69   \n",
              "6                                                 105   \n",
              "7                                                   M   \n",
              "8                                               White   \n",
              "9                                    Spanish/Hispanic   \n",
              "10                                                  8   \n",
              "11                                          Emergency   \n",
              "12                               Skilled Nursing Home   \n",
              "13                                               2017   \n",
              "14                                                099   \n",
              "15  Hypertension with complications and secondary ...   \n",
              "16                                                108   \n",
              "17                                INDWELLING CATHETER   \n",
              "18                                                194   \n",
              "19                                      Heart failure   \n",
              "20                                                 05   \n",
              "21   Diseases and Disorders of the Circulatory System   \n",
              "22                                                  3   \n",
              "23                                              Major   \n",
              "24                                           Moderate   \n",
              "25                                            Medical   \n",
              "26                                           Medicaid   \n",
              "27                                           Medicaid   \n",
              "28                                           Self-Pay   \n",
              "29                                                NaN   \n",
              "30                                                  N   \n",
              "31                                                  N   \n",
              "32                                           58517.00   \n",
              "33                                           26046.50   \n",
              "\n",
              "                                                    3  \\\n",
              "0                                       Hudson Valley   \n",
              "1                                         Westchester   \n",
              "2                                             5903001   \n",
              "3                                              001061   \n",
              "4                    Montefiore Mount Vernon Hospital   \n",
              "5                                            30 to 49   \n",
              "6                                                 105   \n",
              "7                                                   F   \n",
              "8                                               White   \n",
              "9                                             Unknown   \n",
              "10                                                  6   \n",
              "11                                          Emergency   \n",
              "12                              Court/Law Enforcement   \n",
              "13                                               2017   \n",
              "14                                                161   \n",
              "15               Other diseases of kidney and ureters   \n",
              "16                                                102   \n",
              "17                             URETERAL CATHETERIZATN   \n",
              "18                                                465   \n",
              "19  Urinary stones & acquired upper urinary tract ...   \n",
              "20                                                 11   \n",
              "21  Diseases and Disorders of the Kidney and Urina...   \n",
              "22                                                  2   \n",
              "23                                           Moderate   \n",
              "24                                           Moderate   \n",
              "25                                            Medical   \n",
              "26                          Department of Corrections   \n",
              "27                                           Self-Pay   \n",
              "28                                                NaN   \n",
              "29                                                NaN   \n",
              "30                                                  N   \n",
              "31                                                  N   \n",
              "32                                           39647.04   \n",
              "33                                           17397.59   \n",
              "\n",
              "                                                    4  \n",
              "0                                       Hudson Valley  \n",
              "1                                         Westchester  \n",
              "2                                             5903001  \n",
              "3                                              001061  \n",
              "4                    Montefiore Mount Vernon Hospital  \n",
              "5                                            50 to 69  \n",
              "6                                                 105  \n",
              "7                                                   F  \n",
              "8                                               White  \n",
              "9                                   Not Span/Hispanic  \n",
              "10                                                  4  \n",
              "11                                          Emergency  \n",
              "12                               Skilled Nursing Home  \n",
              "13                                               2017  \n",
              "14                                                238  \n",
              "15  Complications of surgical procedures or medica...  \n",
              "16                                                222  \n",
              "17                                  BLOOD TRANSFUSION  \n",
              "18                                                721  \n",
              "19  Post-operative, post-traumatic, other device i...  \n",
              "20                                                 18  \n",
              "21  Infectious and Parasitic Diseases, Systemic or...  \n",
              "22                                                  2  \n",
              "23                                           Moderate  \n",
              "24                                           Moderate  \n",
              "25                                            Medical  \n",
              "26                                           Medicaid  \n",
              "27                                           Medicaid  \n",
              "28                                           Self-Pay  \n",
              "29                                                NaN  \n",
              "30                                                  N  \n",
              "31                                                  N  \n",
              "32                                           36031.09  \n",
              "33                                           16118.84  "
            ],
            "text/html": [
              "\n",
              "  <div id=\"df-5424e446-0d1b-44ca-896c-ee18c8a9e297\">\n",
              "    <div class=\"colab-df-container\">\n",
              "      <div>\n",
              "<style scoped>\n",
              "    .dataframe tbody tr th:only-of-type {\n",
              "        vertical-align: middle;\n",
              "    }\n",
              "\n",
              "    .dataframe tbody tr th {\n",
              "        vertical-align: top;\n",
              "    }\n",
              "\n",
              "    .dataframe thead th {\n",
              "        text-align: right;\n",
              "    }\n",
              "</style>\n",
              "<table border=\"1\" class=\"dataframe\">\n",
              "  <thead>\n",
              "    <tr style=\"text-align: right;\">\n",
              "      <th></th>\n",
              "      <th>0</th>\n",
              "      <th>1</th>\n",
              "      <th>2</th>\n",
              "      <th>3</th>\n",
              "      <th>4</th>\n",
              "    </tr>\n",
              "  </thead>\n",
              "  <tbody>\n",
              "    <tr>\n",
              "      <th>0</th>\n",
              "      <td>Hospital Service Area</td>\n",
              "      <td>Hudson Valley</td>\n",
              "      <td>Hudson Valley</td>\n",
              "      <td>Hudson Valley</td>\n",
              "      <td>Hudson Valley</td>\n",
              "    </tr>\n",
              "    <tr>\n",
              "      <th>1</th>\n",
              "      <td>Hospital County</td>\n",
              "      <td>Westchester</td>\n",
              "      <td>Westchester</td>\n",
              "      <td>Westchester</td>\n",
              "      <td>Westchester</td>\n",
              "    </tr>\n",
              "    <tr>\n",
              "      <th>2</th>\n",
              "      <td>Operating Certificate Number</td>\n",
              "      <td>5903001</td>\n",
              "      <td>5903001</td>\n",
              "      <td>5903001</td>\n",
              "      <td>5903001</td>\n",
              "    </tr>\n",
              "    <tr>\n",
              "      <th>3</th>\n",
              "      <td>Permanent Facility Id</td>\n",
              "      <td>001061</td>\n",
              "      <td>001061</td>\n",
              "      <td>001061</td>\n",
              "      <td>001061</td>\n",
              "    </tr>\n",
              "    <tr>\n",
              "      <th>4</th>\n",
              "      <td>Facility Name</td>\n",
              "      <td>Montefiore Mount Vernon Hospital</td>\n",
              "      <td>Montefiore Mount Vernon Hospital</td>\n",
              "      <td>Montefiore Mount Vernon Hospital</td>\n",
              "      <td>Montefiore Mount Vernon Hospital</td>\n",
              "    </tr>\n",
              "    <tr>\n",
              "      <th>5</th>\n",
              "      <td>Age Group</td>\n",
              "      <td>30 to 49</td>\n",
              "      <td>50 to 69</td>\n",
              "      <td>30 to 49</td>\n",
              "      <td>50 to 69</td>\n",
              "    </tr>\n",
              "    <tr>\n",
              "      <th>6</th>\n",
              "      <td>Zip Code - 3 digits</td>\n",
              "      <td>NaN</td>\n",
              "      <td>105</td>\n",
              "      <td>105</td>\n",
              "      <td>105</td>\n",
              "    </tr>\n",
              "    <tr>\n",
              "      <th>7</th>\n",
              "      <td>Gender</td>\n",
              "      <td>M</td>\n",
              "      <td>M</td>\n",
              "      <td>F</td>\n",
              "      <td>F</td>\n",
              "    </tr>\n",
              "    <tr>\n",
              "      <th>8</th>\n",
              "      <td>Race</td>\n",
              "      <td>White</td>\n",
              "      <td>White</td>\n",
              "      <td>White</td>\n",
              "      <td>White</td>\n",
              "    </tr>\n",
              "    <tr>\n",
              "      <th>9</th>\n",
              "      <td>Ethnicity</td>\n",
              "      <td>Not Span/Hispanic</td>\n",
              "      <td>Spanish/Hispanic</td>\n",
              "      <td>Unknown</td>\n",
              "      <td>Not Span/Hispanic</td>\n",
              "    </tr>\n",
              "    <tr>\n",
              "      <th>10</th>\n",
              "      <td>Length of Stay</td>\n",
              "      <td>21</td>\n",
              "      <td>8</td>\n",
              "      <td>6</td>\n",
              "      <td>4</td>\n",
              "    </tr>\n",
              "    <tr>\n",
              "      <th>11</th>\n",
              "      <td>Type of Admission</td>\n",
              "      <td>Elective</td>\n",
              "      <td>Emergency</td>\n",
              "      <td>Emergency</td>\n",
              "      <td>Emergency</td>\n",
              "    </tr>\n",
              "    <tr>\n",
              "      <th>12</th>\n",
              "      <td>Patient Disposition</td>\n",
              "      <td>Home or Self Care</td>\n",
              "      <td>Skilled Nursing Home</td>\n",
              "      <td>Court/Law Enforcement</td>\n",
              "      <td>Skilled Nursing Home</td>\n",
              "    </tr>\n",
              "    <tr>\n",
              "      <th>13</th>\n",
              "      <td>Discharge Year</td>\n",
              "      <td>2017</td>\n",
              "      <td>2017</td>\n",
              "      <td>2017</td>\n",
              "      <td>2017</td>\n",
              "    </tr>\n",
              "    <tr>\n",
              "      <th>14</th>\n",
              "      <td>CCS Diagnosis Code</td>\n",
              "      <td>659</td>\n",
              "      <td>099</td>\n",
              "      <td>161</td>\n",
              "      <td>238</td>\n",
              "    </tr>\n",
              "    <tr>\n",
              "      <th>15</th>\n",
              "      <td>CCS Diagnosis Description</td>\n",
              "      <td>Schizophrenia and other psychotic disorders</td>\n",
              "      <td>Hypertension with complications and secondary ...</td>\n",
              "      <td>Other diseases of kidney and ureters</td>\n",
              "      <td>Complications of surgical procedures or medica...</td>\n",
              "    </tr>\n",
              "    <tr>\n",
              "      <th>16</th>\n",
              "      <td>CCS Procedure Code</td>\n",
              "      <td>000</td>\n",
              "      <td>108</td>\n",
              "      <td>102</td>\n",
              "      <td>222</td>\n",
              "    </tr>\n",
              "    <tr>\n",
              "      <th>17</th>\n",
              "      <td>CCS Procedure Description</td>\n",
              "      <td>NO PROC</td>\n",
              "      <td>INDWELLING CATHETER</td>\n",
              "      <td>URETERAL CATHETERIZATN</td>\n",
              "      <td>BLOOD TRANSFUSION</td>\n",
              "    </tr>\n",
              "    <tr>\n",
              "      <th>18</th>\n",
              "      <td>APR DRG Code</td>\n",
              "      <td>750</td>\n",
              "      <td>194</td>\n",
              "      <td>465</td>\n",
              "      <td>721</td>\n",
              "    </tr>\n",
              "    <tr>\n",
              "      <th>19</th>\n",
              "      <td>APR DRG Description</td>\n",
              "      <td>Schizophrenia</td>\n",
              "      <td>Heart failure</td>\n",
              "      <td>Urinary stones &amp; acquired upper urinary tract ...</td>\n",
              "      <td>Post-operative, post-traumatic, other device i...</td>\n",
              "    </tr>\n",
              "    <tr>\n",
              "      <th>20</th>\n",
              "      <td>APR MDC Code</td>\n",
              "      <td>19</td>\n",
              "      <td>05</td>\n",
              "      <td>11</td>\n",
              "      <td>18</td>\n",
              "    </tr>\n",
              "    <tr>\n",
              "      <th>21</th>\n",
              "      <td>APR MDC Description</td>\n",
              "      <td>Mental Diseases and Disorders</td>\n",
              "      <td>Diseases and Disorders of the Circulatory System</td>\n",
              "      <td>Diseases and Disorders of the Kidney and Urina...</td>\n",
              "      <td>Infectious and Parasitic Diseases, Systemic or...</td>\n",
              "    </tr>\n",
              "    <tr>\n",
              "      <th>22</th>\n",
              "      <td>APR Severity of Illness Code</td>\n",
              "      <td>2</td>\n",
              "      <td>3</td>\n",
              "      <td>2</td>\n",
              "      <td>2</td>\n",
              "    </tr>\n",
              "    <tr>\n",
              "      <th>23</th>\n",
              "      <td>APR Severity of Illness Description</td>\n",
              "      <td>Moderate</td>\n",
              "      <td>Major</td>\n",
              "      <td>Moderate</td>\n",
              "      <td>Moderate</td>\n",
              "    </tr>\n",
              "    <tr>\n",
              "      <th>24</th>\n",
              "      <td>APR Risk of Mortality</td>\n",
              "      <td>Minor</td>\n",
              "      <td>Moderate</td>\n",
              "      <td>Moderate</td>\n",
              "      <td>Moderate</td>\n",
              "    </tr>\n",
              "    <tr>\n",
              "      <th>25</th>\n",
              "      <td>APR Medical Surgical Description</td>\n",
              "      <td>Medical</td>\n",
              "      <td>Medical</td>\n",
              "      <td>Medical</td>\n",
              "      <td>Medical</td>\n",
              "    </tr>\n",
              "    <tr>\n",
              "      <th>26</th>\n",
              "      <td>Payment Typology 1</td>\n",
              "      <td>Medicare</td>\n",
              "      <td>Medicaid</td>\n",
              "      <td>Department of Corrections</td>\n",
              "      <td>Medicaid</td>\n",
              "    </tr>\n",
              "    <tr>\n",
              "      <th>27</th>\n",
              "      <td>Payment Typology 2</td>\n",
              "      <td>Medicare</td>\n",
              "      <td>Medicaid</td>\n",
              "      <td>Self-Pay</td>\n",
              "      <td>Medicaid</td>\n",
              "    </tr>\n",
              "    <tr>\n",
              "      <th>28</th>\n",
              "      <td>Payment Typology 3</td>\n",
              "      <td>Self-Pay</td>\n",
              "      <td>Self-Pay</td>\n",
              "      <td>NaN</td>\n",
              "      <td>Self-Pay</td>\n",
              "    </tr>\n",
              "    <tr>\n",
              "      <th>29</th>\n",
              "      <td>Birth Weight</td>\n",
              "      <td>NaN</td>\n",
              "      <td>NaN</td>\n",
              "      <td>NaN</td>\n",
              "      <td>NaN</td>\n",
              "    </tr>\n",
              "    <tr>\n",
              "      <th>30</th>\n",
              "      <td>Abortion Edit Indicator</td>\n",
              "      <td>N</td>\n",
              "      <td>N</td>\n",
              "      <td>N</td>\n",
              "      <td>N</td>\n",
              "    </tr>\n",
              "    <tr>\n",
              "      <th>31</th>\n",
              "      <td>Emergency Department Indicator</td>\n",
              "      <td>N</td>\n",
              "      <td>N</td>\n",
              "      <td>N</td>\n",
              "      <td>N</td>\n",
              "    </tr>\n",
              "    <tr>\n",
              "      <th>32</th>\n",
              "      <td>Total Charges</td>\n",
              "      <td>114168.00</td>\n",
              "      <td>58517.00</td>\n",
              "      <td>39647.04</td>\n",
              "      <td>36031.09</td>\n",
              "    </tr>\n",
              "    <tr>\n",
              "      <th>33</th>\n",
              "      <td>Total Costs</td>\n",
              "      <td>40464.04</td>\n",
              "      <td>26046.50</td>\n",
              "      <td>17397.59</td>\n",
              "      <td>16118.84</td>\n",
              "    </tr>\n",
              "  </tbody>\n",
              "</table>\n",
              "</div>\n",
              "      <button class=\"colab-df-convert\" onclick=\"convertToInteractive('df-5424e446-0d1b-44ca-896c-ee18c8a9e297')\"\n",
              "              title=\"Convert this dataframe to an interactive table.\"\n",
              "              style=\"display:none;\">\n",
              "        \n",
              "  <svg xmlns=\"http://www.w3.org/2000/svg\" height=\"24px\"viewBox=\"0 0 24 24\"\n",
              "       width=\"24px\">\n",
              "    <path d=\"M0 0h24v24H0V0z\" fill=\"none\"/>\n",
              "    <path d=\"M18.56 5.44l.94 2.06.94-2.06 2.06-.94-2.06-.94-.94-2.06-.94 2.06-2.06.94zm-11 1L8.5 8.5l.94-2.06 2.06-.94-2.06-.94L8.5 2.5l-.94 2.06-2.06.94zm10 10l.94 2.06.94-2.06 2.06-.94-2.06-.94-.94-2.06-.94 2.06-2.06.94z\"/><path d=\"M17.41 7.96l-1.37-1.37c-.4-.4-.92-.59-1.43-.59-.52 0-1.04.2-1.43.59L10.3 9.45l-7.72 7.72c-.78.78-.78 2.05 0 2.83L4 21.41c.39.39.9.59 1.41.59.51 0 1.02-.2 1.41-.59l7.78-7.78 2.81-2.81c.8-.78.8-2.07 0-2.86zM5.41 20L4 18.59l7.72-7.72 1.47 1.35L5.41 20z\"/>\n",
              "  </svg>\n",
              "      </button>\n",
              "      \n",
              "  <style>\n",
              "    .colab-df-container {\n",
              "      display:flex;\n",
              "      flex-wrap:wrap;\n",
              "      gap: 12px;\n",
              "    }\n",
              "\n",
              "    .colab-df-convert {\n",
              "      background-color: #E8F0FE;\n",
              "      border: none;\n",
              "      border-radius: 50%;\n",
              "      cursor: pointer;\n",
              "      display: none;\n",
              "      fill: #1967D2;\n",
              "      height: 32px;\n",
              "      padding: 0 0 0 0;\n",
              "      width: 32px;\n",
              "    }\n",
              "\n",
              "    .colab-df-convert:hover {\n",
              "      background-color: #E2EBFA;\n",
              "      box-shadow: 0px 1px 2px rgba(60, 64, 67, 0.3), 0px 1px 3px 1px rgba(60, 64, 67, 0.15);\n",
              "      fill: #174EA6;\n",
              "    }\n",
              "\n",
              "    [theme=dark] .colab-df-convert {\n",
              "      background-color: #3B4455;\n",
              "      fill: #D2E3FC;\n",
              "    }\n",
              "\n",
              "    [theme=dark] .colab-df-convert:hover {\n",
              "      background-color: #434B5C;\n",
              "      box-shadow: 0px 1px 3px 1px rgba(0, 0, 0, 0.15);\n",
              "      filter: drop-shadow(0px 1px 2px rgba(0, 0, 0, 0.3));\n",
              "      fill: #FFFFFF;\n",
              "    }\n",
              "  </style>\n",
              "\n",
              "      <script>\n",
              "        const buttonEl =\n",
              "          document.querySelector('#df-5424e446-0d1b-44ca-896c-ee18c8a9e297 button.colab-df-convert');\n",
              "        buttonEl.style.display =\n",
              "          google.colab.kernel.accessAllowed ? 'block' : 'none';\n",
              "\n",
              "        async function convertToInteractive(key) {\n",
              "          const element = document.querySelector('#df-5424e446-0d1b-44ca-896c-ee18c8a9e297');\n",
              "          const dataTable =\n",
              "            await google.colab.kernel.invokeFunction('convertToInteractive',\n",
              "                                                     [key], {});\n",
              "          if (!dataTable) return;\n",
              "\n",
              "          const docLinkHtml = 'Like what you see? Visit the ' +\n",
              "            '<a target=\"_blank\" href=https://colab.research.google.com/notebooks/data_table.ipynb>data table notebook</a>'\n",
              "            + ' to learn more about interactive tables.';\n",
              "          element.innerHTML = '';\n",
              "          dataTable['output_type'] = 'display_data';\n",
              "          await google.colab.output.renderOutput(dataTable, element);\n",
              "          const docLink = document.createElement('div');\n",
              "          docLink.innerHTML = docLinkHtml;\n",
              "          element.appendChild(docLink);\n",
              "        }\n",
              "      </script>\n",
              "    </div>\n",
              "  </div>\n",
              "  "
            ]
          },
          "metadata": {},
          "execution_count": 5
        }
      ],
      "source": [
        "df.head().T"
      ]
    },
    {
      "cell_type": "code",
      "execution_count": null,
      "id": "0483de13",
      "metadata": {
        "id": "0483de13",
        "colab": {
          "base_uri": "https://localhost:8080/",
          "height": 560
        },
        "outputId": "c12a0089-1870-4cf2-9ca4-924283b50a00"
      },
      "outputs": [
        {
          "output_type": "execute_result",
          "data": {
            "text/plain": [
              "                      0                1                             2   \\\n",
              "0  Hospital Service Area  Hospital County  Operating Certificate Number   \n",
              "1          Hudson Valley      Westchester                       5903001   \n",
              "2          Hudson Valley      Westchester                       5903001   \n",
              "3          Hudson Valley      Westchester                       5903001   \n",
              "4          Hudson Valley      Westchester                       5903001   \n",
              "\n",
              "                      3                                 4          5   \\\n",
              "0  Permanent Facility Id                     Facility Name  Age Group   \n",
              "1                 001061  Montefiore Mount Vernon Hospital   30 to 49   \n",
              "2                 001061  Montefiore Mount Vernon Hospital   50 to 69   \n",
              "3                 001061  Montefiore Mount Vernon Hospital   30 to 49   \n",
              "4                 001061  Montefiore Mount Vernon Hospital   50 to 69   \n",
              "\n",
              "                    6       7      8                  9   ...  \\\n",
              "0  Zip Code - 3 digits  Gender   Race          Ethnicity  ...   \n",
              "1                  NaN       M  White  Not Span/Hispanic  ...   \n",
              "2                  105       M  White   Spanish/Hispanic  ...   \n",
              "3                  105       F  White            Unknown  ...   \n",
              "4                  105       F  White  Not Span/Hispanic  ...   \n",
              "\n",
              "                      24                                25  \\\n",
              "0  APR Risk of Mortality  APR Medical Surgical Description   \n",
              "1                  Minor                           Medical   \n",
              "2               Moderate                           Medical   \n",
              "3               Moderate                           Medical   \n",
              "4               Moderate                           Medical   \n",
              "\n",
              "                          26                  27                  28  \\\n",
              "0         Payment Typology 1  Payment Typology 2  Payment Typology 3   \n",
              "1                   Medicare            Medicare            Self-Pay   \n",
              "2                   Medicaid            Medicaid            Self-Pay   \n",
              "3  Department of Corrections            Self-Pay                 NaN   \n",
              "4                   Medicaid            Medicaid            Self-Pay   \n",
              "\n",
              "             29                       30                              31  \\\n",
              "0  Birth Weight  Abortion Edit Indicator  Emergency Department Indicator   \n",
              "1           NaN                        N                               N   \n",
              "2           NaN                        N                               N   \n",
              "3           NaN                        N                               N   \n",
              "4           NaN                        N                               N   \n",
              "\n",
              "              32           33  \n",
              "0  Total Charges  Total Costs  \n",
              "1      114168.00     40464.04  \n",
              "2       58517.00     26046.50  \n",
              "3       39647.04     17397.59  \n",
              "4       36031.09     16118.84  \n",
              "\n",
              "[5 rows x 34 columns]"
            ],
            "text/html": [
              "\n",
              "  <div id=\"df-19ee70dc-f6d4-4680-940f-8fff54a34754\">\n",
              "    <div class=\"colab-df-container\">\n",
              "      <div>\n",
              "<style scoped>\n",
              "    .dataframe tbody tr th:only-of-type {\n",
              "        vertical-align: middle;\n",
              "    }\n",
              "\n",
              "    .dataframe tbody tr th {\n",
              "        vertical-align: top;\n",
              "    }\n",
              "\n",
              "    .dataframe thead th {\n",
              "        text-align: right;\n",
              "    }\n",
              "</style>\n",
              "<table border=\"1\" class=\"dataframe\">\n",
              "  <thead>\n",
              "    <tr style=\"text-align: right;\">\n",
              "      <th></th>\n",
              "      <th>0</th>\n",
              "      <th>1</th>\n",
              "      <th>2</th>\n",
              "      <th>3</th>\n",
              "      <th>4</th>\n",
              "      <th>5</th>\n",
              "      <th>6</th>\n",
              "      <th>7</th>\n",
              "      <th>8</th>\n",
              "      <th>9</th>\n",
              "      <th>...</th>\n",
              "      <th>24</th>\n",
              "      <th>25</th>\n",
              "      <th>26</th>\n",
              "      <th>27</th>\n",
              "      <th>28</th>\n",
              "      <th>29</th>\n",
              "      <th>30</th>\n",
              "      <th>31</th>\n",
              "      <th>32</th>\n",
              "      <th>33</th>\n",
              "    </tr>\n",
              "  </thead>\n",
              "  <tbody>\n",
              "    <tr>\n",
              "      <th>0</th>\n",
              "      <td>Hospital Service Area</td>\n",
              "      <td>Hospital County</td>\n",
              "      <td>Operating Certificate Number</td>\n",
              "      <td>Permanent Facility Id</td>\n",
              "      <td>Facility Name</td>\n",
              "      <td>Age Group</td>\n",
              "      <td>Zip Code - 3 digits</td>\n",
              "      <td>Gender</td>\n",
              "      <td>Race</td>\n",
              "      <td>Ethnicity</td>\n",
              "      <td>...</td>\n",
              "      <td>APR Risk of Mortality</td>\n",
              "      <td>APR Medical Surgical Description</td>\n",
              "      <td>Payment Typology 1</td>\n",
              "      <td>Payment Typology 2</td>\n",
              "      <td>Payment Typology 3</td>\n",
              "      <td>Birth Weight</td>\n",
              "      <td>Abortion Edit Indicator</td>\n",
              "      <td>Emergency Department Indicator</td>\n",
              "      <td>Total Charges</td>\n",
              "      <td>Total Costs</td>\n",
              "    </tr>\n",
              "    <tr>\n",
              "      <th>1</th>\n",
              "      <td>Hudson Valley</td>\n",
              "      <td>Westchester</td>\n",
              "      <td>5903001</td>\n",
              "      <td>001061</td>\n",
              "      <td>Montefiore Mount Vernon Hospital</td>\n",
              "      <td>30 to 49</td>\n",
              "      <td>NaN</td>\n",
              "      <td>M</td>\n",
              "      <td>White</td>\n",
              "      <td>Not Span/Hispanic</td>\n",
              "      <td>...</td>\n",
              "      <td>Minor</td>\n",
              "      <td>Medical</td>\n",
              "      <td>Medicare</td>\n",
              "      <td>Medicare</td>\n",
              "      <td>Self-Pay</td>\n",
              "      <td>NaN</td>\n",
              "      <td>N</td>\n",
              "      <td>N</td>\n",
              "      <td>114168.00</td>\n",
              "      <td>40464.04</td>\n",
              "    </tr>\n",
              "    <tr>\n",
              "      <th>2</th>\n",
              "      <td>Hudson Valley</td>\n",
              "      <td>Westchester</td>\n",
              "      <td>5903001</td>\n",
              "      <td>001061</td>\n",
              "      <td>Montefiore Mount Vernon Hospital</td>\n",
              "      <td>50 to 69</td>\n",
              "      <td>105</td>\n",
              "      <td>M</td>\n",
              "      <td>White</td>\n",
              "      <td>Spanish/Hispanic</td>\n",
              "      <td>...</td>\n",
              "      <td>Moderate</td>\n",
              "      <td>Medical</td>\n",
              "      <td>Medicaid</td>\n",
              "      <td>Medicaid</td>\n",
              "      <td>Self-Pay</td>\n",
              "      <td>NaN</td>\n",
              "      <td>N</td>\n",
              "      <td>N</td>\n",
              "      <td>58517.00</td>\n",
              "      <td>26046.50</td>\n",
              "    </tr>\n",
              "    <tr>\n",
              "      <th>3</th>\n",
              "      <td>Hudson Valley</td>\n",
              "      <td>Westchester</td>\n",
              "      <td>5903001</td>\n",
              "      <td>001061</td>\n",
              "      <td>Montefiore Mount Vernon Hospital</td>\n",
              "      <td>30 to 49</td>\n",
              "      <td>105</td>\n",
              "      <td>F</td>\n",
              "      <td>White</td>\n",
              "      <td>Unknown</td>\n",
              "      <td>...</td>\n",
              "      <td>Moderate</td>\n",
              "      <td>Medical</td>\n",
              "      <td>Department of Corrections</td>\n",
              "      <td>Self-Pay</td>\n",
              "      <td>NaN</td>\n",
              "      <td>NaN</td>\n",
              "      <td>N</td>\n",
              "      <td>N</td>\n",
              "      <td>39647.04</td>\n",
              "      <td>17397.59</td>\n",
              "    </tr>\n",
              "    <tr>\n",
              "      <th>4</th>\n",
              "      <td>Hudson Valley</td>\n",
              "      <td>Westchester</td>\n",
              "      <td>5903001</td>\n",
              "      <td>001061</td>\n",
              "      <td>Montefiore Mount Vernon Hospital</td>\n",
              "      <td>50 to 69</td>\n",
              "      <td>105</td>\n",
              "      <td>F</td>\n",
              "      <td>White</td>\n",
              "      <td>Not Span/Hispanic</td>\n",
              "      <td>...</td>\n",
              "      <td>Moderate</td>\n",
              "      <td>Medical</td>\n",
              "      <td>Medicaid</td>\n",
              "      <td>Medicaid</td>\n",
              "      <td>Self-Pay</td>\n",
              "      <td>NaN</td>\n",
              "      <td>N</td>\n",
              "      <td>N</td>\n",
              "      <td>36031.09</td>\n",
              "      <td>16118.84</td>\n",
              "    </tr>\n",
              "  </tbody>\n",
              "</table>\n",
              "<p>5 rows × 34 columns</p>\n",
              "</div>\n",
              "      <button class=\"colab-df-convert\" onclick=\"convertToInteractive('df-19ee70dc-f6d4-4680-940f-8fff54a34754')\"\n",
              "              title=\"Convert this dataframe to an interactive table.\"\n",
              "              style=\"display:none;\">\n",
              "        \n",
              "  <svg xmlns=\"http://www.w3.org/2000/svg\" height=\"24px\"viewBox=\"0 0 24 24\"\n",
              "       width=\"24px\">\n",
              "    <path d=\"M0 0h24v24H0V0z\" fill=\"none\"/>\n",
              "    <path d=\"M18.56 5.44l.94 2.06.94-2.06 2.06-.94-2.06-.94-.94-2.06-.94 2.06-2.06.94zm-11 1L8.5 8.5l.94-2.06 2.06-.94-2.06-.94L8.5 2.5l-.94 2.06-2.06.94zm10 10l.94 2.06.94-2.06 2.06-.94-2.06-.94-.94-2.06-.94 2.06-2.06.94z\"/><path d=\"M17.41 7.96l-1.37-1.37c-.4-.4-.92-.59-1.43-.59-.52 0-1.04.2-1.43.59L10.3 9.45l-7.72 7.72c-.78.78-.78 2.05 0 2.83L4 21.41c.39.39.9.59 1.41.59.51 0 1.02-.2 1.41-.59l7.78-7.78 2.81-2.81c.8-.78.8-2.07 0-2.86zM5.41 20L4 18.59l7.72-7.72 1.47 1.35L5.41 20z\"/>\n",
              "  </svg>\n",
              "      </button>\n",
              "      \n",
              "  <style>\n",
              "    .colab-df-container {\n",
              "      display:flex;\n",
              "      flex-wrap:wrap;\n",
              "      gap: 12px;\n",
              "    }\n",
              "\n",
              "    .colab-df-convert {\n",
              "      background-color: #E8F0FE;\n",
              "      border: none;\n",
              "      border-radius: 50%;\n",
              "      cursor: pointer;\n",
              "      display: none;\n",
              "      fill: #1967D2;\n",
              "      height: 32px;\n",
              "      padding: 0 0 0 0;\n",
              "      width: 32px;\n",
              "    }\n",
              "\n",
              "    .colab-df-convert:hover {\n",
              "      background-color: #E2EBFA;\n",
              "      box-shadow: 0px 1px 2px rgba(60, 64, 67, 0.3), 0px 1px 3px 1px rgba(60, 64, 67, 0.15);\n",
              "      fill: #174EA6;\n",
              "    }\n",
              "\n",
              "    [theme=dark] .colab-df-convert {\n",
              "      background-color: #3B4455;\n",
              "      fill: #D2E3FC;\n",
              "    }\n",
              "\n",
              "    [theme=dark] .colab-df-convert:hover {\n",
              "      background-color: #434B5C;\n",
              "      box-shadow: 0px 1px 3px 1px rgba(0, 0, 0, 0.15);\n",
              "      filter: drop-shadow(0px 1px 2px rgba(0, 0, 0, 0.3));\n",
              "      fill: #FFFFFF;\n",
              "    }\n",
              "  </style>\n",
              "\n",
              "      <script>\n",
              "        const buttonEl =\n",
              "          document.querySelector('#df-19ee70dc-f6d4-4680-940f-8fff54a34754 button.colab-df-convert');\n",
              "        buttonEl.style.display =\n",
              "          google.colab.kernel.accessAllowed ? 'block' : 'none';\n",
              "\n",
              "        async function convertToInteractive(key) {\n",
              "          const element = document.querySelector('#df-19ee70dc-f6d4-4680-940f-8fff54a34754');\n",
              "          const dataTable =\n",
              "            await google.colab.kernel.invokeFunction('convertToInteractive',\n",
              "                                                     [key], {});\n",
              "          if (!dataTable) return;\n",
              "\n",
              "          const docLinkHtml = 'Like what you see? Visit the ' +\n",
              "            '<a target=\"_blank\" href=https://colab.research.google.com/notebooks/data_table.ipynb>data table notebook</a>'\n",
              "            + ' to learn more about interactive tables.';\n",
              "          element.innerHTML = '';\n",
              "          dataTable['output_type'] = 'display_data';\n",
              "          await google.colab.output.renderOutput(dataTable, element);\n",
              "          const docLink = document.createElement('div');\n",
              "          docLink.innerHTML = docLinkHtml;\n",
              "          element.appendChild(docLink);\n",
              "        }\n",
              "      </script>\n",
              "    </div>\n",
              "  </div>\n",
              "  "
            ]
          },
          "metadata": {},
          "execution_count": 6
        }
      ],
      "source": [
        "df.head()"
      ]
    },
    {
      "cell_type": "code",
      "execution_count": null,
      "id": "d21dd347",
      "metadata": {
        "id": "d21dd347"
      },
      "outputs": [],
      "source": [
        "headers = [\"Hospital_Service_Area\",\"Hospital_County\",\"Operating_Certificate_Number\",\"Permanent_Facility_Id\",\"Facility_Name\",\"Age_Group\",\"Zip_Code\",\"Gender\",\"Race\",\"Ethnicity\",\"Length_of_Stay\",\"Type_of_Admission\",\"Patient_Disposition\",\"Discharge_Year\",\"CCS_Diagnosis_Code\",\"CCS_Diagnosis_Description\",\"CCS_Procedure_Code\",\"CCS_Procedure_Description\",\"APR-DRG_Code\",\"APR_DRG_Description\",\"APR_MDC_Code\",\"APR_MDC_Description\",\"APR_Severity_of_Illness_Code\",\"APR_Severity_of_Illness_Description\",\"APR_Risk_of_Mortality\",\"APR_Medical_Surgical_Description\",\"Payment_Typology1\",\"Payment_Typology2\",\"Payment_Typology3\",\"Birth_Weight\",\"Abortion_Edit_Indicator\",\"Emergency_Department_Indicator\",\"Total_Charges\",\"Total_Costs\"]"
      ]
    },
    {
      "cell_type": "code",
      "execution_count": null,
      "id": "6c09cd9f",
      "metadata": {
        "id": "6c09cd9f"
      },
      "outputs": [],
      "source": [
        "df.columns = headers"
      ]
    },
    {
      "cell_type": "code",
      "source": [
        "pd.options.display.max_columns = 40"
      ],
      "metadata": {
        "id": "2YbKqTRttZdH"
      },
      "id": "2YbKqTRttZdH",
      "execution_count": null,
      "outputs": []
    },
    {
      "cell_type": "code",
      "source": [
        "df = df.iloc[1:, :]"
      ],
      "metadata": {
        "id": "pJEPX7PttcEa"
      },
      "id": "pJEPX7PttcEa",
      "execution_count": null,
      "outputs": []
    },
    {
      "cell_type": "code",
      "execution_count": null,
      "id": "e54e4e6f",
      "metadata": {
        "id": "e54e4e6f",
        "colab": {
          "base_uri": "https://localhost:8080/",
          "height": 792
        },
        "outputId": "7e83e276-4100-474b-9a41-039d1ebf235c"
      },
      "outputs": [
        {
          "output_type": "execute_result",
          "data": {
            "text/plain": [
              "   Hospital_Service_Area Hospital_County Operating_Certificate_Number  \\\n",
              "1          Hudson Valley     Westchester                      5903001   \n",
              "2          Hudson Valley     Westchester                      5903001   \n",
              "3          Hudson Valley     Westchester                      5903001   \n",
              "4          Hudson Valley     Westchester                      5903001   \n",
              "5          Hudson Valley     Westchester                      5903001   \n",
              "6          Hudson Valley     Westchester                      5903001   \n",
              "7          Hudson Valley     Westchester                      5903001   \n",
              "8          Hudson Valley     Westchester                      5903001   \n",
              "9          Hudson Valley     Westchester                      5903001   \n",
              "10         Hudson Valley     Westchester                      5903001   \n",
              "\n",
              "   Permanent_Facility_Id                     Facility_Name Age_Group Zip_Code  \\\n",
              "1                 001061  Montefiore Mount Vernon Hospital  30 to 49      NaN   \n",
              "2                 001061  Montefiore Mount Vernon Hospital  50 to 69      105   \n",
              "3                 001061  Montefiore Mount Vernon Hospital  30 to 49      105   \n",
              "4                 001061  Montefiore Mount Vernon Hospital  50 to 69      105   \n",
              "5                 001061  Montefiore Mount Vernon Hospital  18 to 29      105   \n",
              "6                 001061  Montefiore Mount Vernon Hospital  50 to 69      105   \n",
              "7                 001061  Montefiore Mount Vernon Hospital  30 to 49      105   \n",
              "8                 001061  Montefiore Mount Vernon Hospital  30 to 49      105   \n",
              "9                 001061  Montefiore Mount Vernon Hospital  50 to 69      105   \n",
              "10                001061  Montefiore Mount Vernon Hospital  50 to 69      107   \n",
              "\n",
              "   Gender                    Race          Ethnicity Length_of_Stay  \\\n",
              "1       M                   White  Not Span/Hispanic             21   \n",
              "2       M                   White   Spanish/Hispanic              8   \n",
              "3       F                   White            Unknown              6   \n",
              "4       F                   White  Not Span/Hispanic              4   \n",
              "5       F                   White   Spanish/Hispanic              4   \n",
              "6       M  Black/African American  Not Span/Hispanic              3   \n",
              "7       F  Black/African American  Not Span/Hispanic              3   \n",
              "8       F  Black/African American            Unknown              4   \n",
              "9       M  Black/African American  Not Span/Hispanic              4   \n",
              "10      F  Black/African American  Not Span/Hispanic              3   \n",
              "\n",
              "   Type_of_Admission    Patient_Disposition Discharge_Year CCS_Diagnosis_Code  \\\n",
              "1           Elective      Home or Self Care           2017                659   \n",
              "2          Emergency   Skilled Nursing Home           2017                099   \n",
              "3          Emergency  Court/Law Enforcement           2017                161   \n",
              "4          Emergency   Skilled Nursing Home           2017                238   \n",
              "5          Emergency  Court/Law Enforcement           2017                002   \n",
              "6          Emergency    Short-term Hospital           2017                660   \n",
              "7          Emergency  Court/Law Enforcement           2017                102   \n",
              "8          Emergency      Home or Self Care           2017                050   \n",
              "9          Emergency      Home or Self Care           2017                245   \n",
              "10         Emergency      Home or Self Care           2017                245   \n",
              "\n",
              "                            CCS_Diagnosis_Description CCS_Procedure_Code  \\\n",
              "1         Schizophrenia and other psychotic disorders                000   \n",
              "2   Hypertension with complications and secondary ...                108   \n",
              "3                Other diseases of kidney and ureters                102   \n",
              "4   Complications of surgical procedures or medica...                222   \n",
              "5                        Septicemia (except in labor)                000   \n",
              "6                           Alcohol-related disorders                222   \n",
              "7                              Nonspecific chest pain                000   \n",
              "8                Diabetes mellitus with complications                222   \n",
              "9                                             Syncope                231   \n",
              "10                                            Syncope                000   \n",
              "\n",
              "   CCS_Procedure_Description APR-DRG_Code  \\\n",
              "1                    NO PROC          750   \n",
              "2        INDWELLING CATHETER          194   \n",
              "3     URETERAL CATHETERIZATN          465   \n",
              "4          BLOOD TRANSFUSION          721   \n",
              "5                    NO PROC          720   \n",
              "6          BLOOD TRANSFUSION          280   \n",
              "7                    NO PROC          203   \n",
              "8          BLOOD TRANSFUSION          420   \n",
              "9     OTHER THERAPEUTIC PRCS          204   \n",
              "10                   NO PROC          204   \n",
              "\n",
              "                                  APR_DRG_Description APR_MDC_Code  \\\n",
              "1                                       Schizophrenia           19   \n",
              "2                                       Heart failure           05   \n",
              "3   Urinary stones & acquired upper urinary tract ...           11   \n",
              "4   Post-operative, post-traumatic, other device i...           18   \n",
              "5                Septicemia & disseminated infections           18   \n",
              "6                             Alcoholic liver disease           07   \n",
              "7                                          Chest pain           05   \n",
              "8                                            Diabetes           10   \n",
              "9                                  Syncope & collapse           05   \n",
              "10                                 Syncope & collapse           05   \n",
              "\n",
              "                                  APR_MDC_Description  \\\n",
              "1                       Mental Diseases and Disorders   \n",
              "2    Diseases and Disorders of the Circulatory System   \n",
              "3   Diseases and Disorders of the Kidney and Urina...   \n",
              "4   Infectious and Parasitic Diseases, Systemic or...   \n",
              "5   Infectious and Parasitic Diseases, Systemic or...   \n",
              "6   Diseases and Disorders of the Hepatobiliary Sy...   \n",
              "7    Diseases and Disorders of the Circulatory System   \n",
              "8   Endocrine, Nutritional and Metabolic Diseases ...   \n",
              "9    Diseases and Disorders of the Circulatory System   \n",
              "10   Diseases and Disorders of the Circulatory System   \n",
              "\n",
              "   APR_Severity_of_Illness_Code APR_Severity_of_Illness_Description  \\\n",
              "1                             2                            Moderate   \n",
              "2                             3                               Major   \n",
              "3                             2                            Moderate   \n",
              "4                             2                            Moderate   \n",
              "5                             2                            Moderate   \n",
              "6                             3                               Major   \n",
              "7                             2                            Moderate   \n",
              "8                             3                               Major   \n",
              "9                             1                               Minor   \n",
              "10                            1                               Minor   \n",
              "\n",
              "   APR_Risk_of_Mortality APR_Medical_Surgical_Description  \\\n",
              "1                  Minor                          Medical   \n",
              "2               Moderate                          Medical   \n",
              "3               Moderate                          Medical   \n",
              "4               Moderate                          Medical   \n",
              "5                  Minor                          Medical   \n",
              "6                  Major                          Medical   \n",
              "7                  Minor                          Medical   \n",
              "8                  Major                          Medical   \n",
              "9                  Minor                          Medical   \n",
              "10                 Minor                          Medical   \n",
              "\n",
              "            Payment_Typology1         Payment_Typology2 Payment_Typology3  \\\n",
              "1                    Medicare                  Medicare          Self-Pay   \n",
              "2                    Medicaid                  Medicaid          Self-Pay   \n",
              "3   Department of Corrections                  Self-Pay               NaN   \n",
              "4                    Medicaid                  Medicaid          Self-Pay   \n",
              "5   Department of Corrections                  Self-Pay               NaN   \n",
              "6                    Medicare                  Medicare          Self-Pay   \n",
              "7                    Medicaid                  Self-Pay               NaN   \n",
              "8                    Medicaid                  Medicaid          Medicaid   \n",
              "9                    Medicaid                  Medicaid          Self-Pay   \n",
              "10   Private Health Insurance  Private Health Insurance          Self-Pay   \n",
              "\n",
              "   Birth_Weight Abortion_Edit_Indicator Emergency_Department_Indicator  \\\n",
              "1           NaN                       N                              N   \n",
              "2           NaN                       N                              N   \n",
              "3           NaN                       N                              N   \n",
              "4           NaN                       N                              N   \n",
              "5           NaN                       N                              N   \n",
              "6           NaN                       N                              N   \n",
              "7           NaN                       N                              N   \n",
              "8           NaN                       N                              N   \n",
              "9           NaN                       N                              N   \n",
              "10          NaN                       N                              N   \n",
              "\n",
              "   Total_Charges Total_Costs  \n",
              "1      114168.00    40464.04  \n",
              "2       58517.00    26046.50  \n",
              "3       39647.04    17397.59  \n",
              "4       36031.09    16118.84  \n",
              "5       30534.00    11921.05  \n",
              "6       49290.08    18503.26  \n",
              "7       20511.00     9103.80  \n",
              "8       55172.00    17682.94  \n",
              "9       31034.00    12649.61  \n",
              "10      25027.00     9751.06  "
            ],
            "text/html": [
              "\n",
              "  <div id=\"df-a4fa2593-347b-4fe0-b355-33188a7237a6\">\n",
              "    <div class=\"colab-df-container\">\n",
              "      <div>\n",
              "<style scoped>\n",
              "    .dataframe tbody tr th:only-of-type {\n",
              "        vertical-align: middle;\n",
              "    }\n",
              "\n",
              "    .dataframe tbody tr th {\n",
              "        vertical-align: top;\n",
              "    }\n",
              "\n",
              "    .dataframe thead th {\n",
              "        text-align: right;\n",
              "    }\n",
              "</style>\n",
              "<table border=\"1\" class=\"dataframe\">\n",
              "  <thead>\n",
              "    <tr style=\"text-align: right;\">\n",
              "      <th></th>\n",
              "      <th>Hospital_Service_Area</th>\n",
              "      <th>Hospital_County</th>\n",
              "      <th>Operating_Certificate_Number</th>\n",
              "      <th>Permanent_Facility_Id</th>\n",
              "      <th>Facility_Name</th>\n",
              "      <th>Age_Group</th>\n",
              "      <th>Zip_Code</th>\n",
              "      <th>Gender</th>\n",
              "      <th>Race</th>\n",
              "      <th>Ethnicity</th>\n",
              "      <th>Length_of_Stay</th>\n",
              "      <th>Type_of_Admission</th>\n",
              "      <th>Patient_Disposition</th>\n",
              "      <th>Discharge_Year</th>\n",
              "      <th>CCS_Diagnosis_Code</th>\n",
              "      <th>CCS_Diagnosis_Description</th>\n",
              "      <th>CCS_Procedure_Code</th>\n",
              "      <th>CCS_Procedure_Description</th>\n",
              "      <th>APR-DRG_Code</th>\n",
              "      <th>APR_DRG_Description</th>\n",
              "      <th>APR_MDC_Code</th>\n",
              "      <th>APR_MDC_Description</th>\n",
              "      <th>APR_Severity_of_Illness_Code</th>\n",
              "      <th>APR_Severity_of_Illness_Description</th>\n",
              "      <th>APR_Risk_of_Mortality</th>\n",
              "      <th>APR_Medical_Surgical_Description</th>\n",
              "      <th>Payment_Typology1</th>\n",
              "      <th>Payment_Typology2</th>\n",
              "      <th>Payment_Typology3</th>\n",
              "      <th>Birth_Weight</th>\n",
              "      <th>Abortion_Edit_Indicator</th>\n",
              "      <th>Emergency_Department_Indicator</th>\n",
              "      <th>Total_Charges</th>\n",
              "      <th>Total_Costs</th>\n",
              "    </tr>\n",
              "  </thead>\n",
              "  <tbody>\n",
              "    <tr>\n",
              "      <th>1</th>\n",
              "      <td>Hudson Valley</td>\n",
              "      <td>Westchester</td>\n",
              "      <td>5903001</td>\n",
              "      <td>001061</td>\n",
              "      <td>Montefiore Mount Vernon Hospital</td>\n",
              "      <td>30 to 49</td>\n",
              "      <td>NaN</td>\n",
              "      <td>M</td>\n",
              "      <td>White</td>\n",
              "      <td>Not Span/Hispanic</td>\n",
              "      <td>21</td>\n",
              "      <td>Elective</td>\n",
              "      <td>Home or Self Care</td>\n",
              "      <td>2017</td>\n",
              "      <td>659</td>\n",
              "      <td>Schizophrenia and other psychotic disorders</td>\n",
              "      <td>000</td>\n",
              "      <td>NO PROC</td>\n",
              "      <td>750</td>\n",
              "      <td>Schizophrenia</td>\n",
              "      <td>19</td>\n",
              "      <td>Mental Diseases and Disorders</td>\n",
              "      <td>2</td>\n",
              "      <td>Moderate</td>\n",
              "      <td>Minor</td>\n",
              "      <td>Medical</td>\n",
              "      <td>Medicare</td>\n",
              "      <td>Medicare</td>\n",
              "      <td>Self-Pay</td>\n",
              "      <td>NaN</td>\n",
              "      <td>N</td>\n",
              "      <td>N</td>\n",
              "      <td>114168.00</td>\n",
              "      <td>40464.04</td>\n",
              "    </tr>\n",
              "    <tr>\n",
              "      <th>2</th>\n",
              "      <td>Hudson Valley</td>\n",
              "      <td>Westchester</td>\n",
              "      <td>5903001</td>\n",
              "      <td>001061</td>\n",
              "      <td>Montefiore Mount Vernon Hospital</td>\n",
              "      <td>50 to 69</td>\n",
              "      <td>105</td>\n",
              "      <td>M</td>\n",
              "      <td>White</td>\n",
              "      <td>Spanish/Hispanic</td>\n",
              "      <td>8</td>\n",
              "      <td>Emergency</td>\n",
              "      <td>Skilled Nursing Home</td>\n",
              "      <td>2017</td>\n",
              "      <td>099</td>\n",
              "      <td>Hypertension with complications and secondary ...</td>\n",
              "      <td>108</td>\n",
              "      <td>INDWELLING CATHETER</td>\n",
              "      <td>194</td>\n",
              "      <td>Heart failure</td>\n",
              "      <td>05</td>\n",
              "      <td>Diseases and Disorders of the Circulatory System</td>\n",
              "      <td>3</td>\n",
              "      <td>Major</td>\n",
              "      <td>Moderate</td>\n",
              "      <td>Medical</td>\n",
              "      <td>Medicaid</td>\n",
              "      <td>Medicaid</td>\n",
              "      <td>Self-Pay</td>\n",
              "      <td>NaN</td>\n",
              "      <td>N</td>\n",
              "      <td>N</td>\n",
              "      <td>58517.00</td>\n",
              "      <td>26046.50</td>\n",
              "    </tr>\n",
              "    <tr>\n",
              "      <th>3</th>\n",
              "      <td>Hudson Valley</td>\n",
              "      <td>Westchester</td>\n",
              "      <td>5903001</td>\n",
              "      <td>001061</td>\n",
              "      <td>Montefiore Mount Vernon Hospital</td>\n",
              "      <td>30 to 49</td>\n",
              "      <td>105</td>\n",
              "      <td>F</td>\n",
              "      <td>White</td>\n",
              "      <td>Unknown</td>\n",
              "      <td>6</td>\n",
              "      <td>Emergency</td>\n",
              "      <td>Court/Law Enforcement</td>\n",
              "      <td>2017</td>\n",
              "      <td>161</td>\n",
              "      <td>Other diseases of kidney and ureters</td>\n",
              "      <td>102</td>\n",
              "      <td>URETERAL CATHETERIZATN</td>\n",
              "      <td>465</td>\n",
              "      <td>Urinary stones &amp; acquired upper urinary tract ...</td>\n",
              "      <td>11</td>\n",
              "      <td>Diseases and Disorders of the Kidney and Urina...</td>\n",
              "      <td>2</td>\n",
              "      <td>Moderate</td>\n",
              "      <td>Moderate</td>\n",
              "      <td>Medical</td>\n",
              "      <td>Department of Corrections</td>\n",
              "      <td>Self-Pay</td>\n",
              "      <td>NaN</td>\n",
              "      <td>NaN</td>\n",
              "      <td>N</td>\n",
              "      <td>N</td>\n",
              "      <td>39647.04</td>\n",
              "      <td>17397.59</td>\n",
              "    </tr>\n",
              "    <tr>\n",
              "      <th>4</th>\n",
              "      <td>Hudson Valley</td>\n",
              "      <td>Westchester</td>\n",
              "      <td>5903001</td>\n",
              "      <td>001061</td>\n",
              "      <td>Montefiore Mount Vernon Hospital</td>\n",
              "      <td>50 to 69</td>\n",
              "      <td>105</td>\n",
              "      <td>F</td>\n",
              "      <td>White</td>\n",
              "      <td>Not Span/Hispanic</td>\n",
              "      <td>4</td>\n",
              "      <td>Emergency</td>\n",
              "      <td>Skilled Nursing Home</td>\n",
              "      <td>2017</td>\n",
              "      <td>238</td>\n",
              "      <td>Complications of surgical procedures or medica...</td>\n",
              "      <td>222</td>\n",
              "      <td>BLOOD TRANSFUSION</td>\n",
              "      <td>721</td>\n",
              "      <td>Post-operative, post-traumatic, other device i...</td>\n",
              "      <td>18</td>\n",
              "      <td>Infectious and Parasitic Diseases, Systemic or...</td>\n",
              "      <td>2</td>\n",
              "      <td>Moderate</td>\n",
              "      <td>Moderate</td>\n",
              "      <td>Medical</td>\n",
              "      <td>Medicaid</td>\n",
              "      <td>Medicaid</td>\n",
              "      <td>Self-Pay</td>\n",
              "      <td>NaN</td>\n",
              "      <td>N</td>\n",
              "      <td>N</td>\n",
              "      <td>36031.09</td>\n",
              "      <td>16118.84</td>\n",
              "    </tr>\n",
              "    <tr>\n",
              "      <th>5</th>\n",
              "      <td>Hudson Valley</td>\n",
              "      <td>Westchester</td>\n",
              "      <td>5903001</td>\n",
              "      <td>001061</td>\n",
              "      <td>Montefiore Mount Vernon Hospital</td>\n",
              "      <td>18 to 29</td>\n",
              "      <td>105</td>\n",
              "      <td>F</td>\n",
              "      <td>White</td>\n",
              "      <td>Spanish/Hispanic</td>\n",
              "      <td>4</td>\n",
              "      <td>Emergency</td>\n",
              "      <td>Court/Law Enforcement</td>\n",
              "      <td>2017</td>\n",
              "      <td>002</td>\n",
              "      <td>Septicemia (except in labor)</td>\n",
              "      <td>000</td>\n",
              "      <td>NO PROC</td>\n",
              "      <td>720</td>\n",
              "      <td>Septicemia &amp; disseminated infections</td>\n",
              "      <td>18</td>\n",
              "      <td>Infectious and Parasitic Diseases, Systemic or...</td>\n",
              "      <td>2</td>\n",
              "      <td>Moderate</td>\n",
              "      <td>Minor</td>\n",
              "      <td>Medical</td>\n",
              "      <td>Department of Corrections</td>\n",
              "      <td>Self-Pay</td>\n",
              "      <td>NaN</td>\n",
              "      <td>NaN</td>\n",
              "      <td>N</td>\n",
              "      <td>N</td>\n",
              "      <td>30534.00</td>\n",
              "      <td>11921.05</td>\n",
              "    </tr>\n",
              "    <tr>\n",
              "      <th>6</th>\n",
              "      <td>Hudson Valley</td>\n",
              "      <td>Westchester</td>\n",
              "      <td>5903001</td>\n",
              "      <td>001061</td>\n",
              "      <td>Montefiore Mount Vernon Hospital</td>\n",
              "      <td>50 to 69</td>\n",
              "      <td>105</td>\n",
              "      <td>M</td>\n",
              "      <td>Black/African American</td>\n",
              "      <td>Not Span/Hispanic</td>\n",
              "      <td>3</td>\n",
              "      <td>Emergency</td>\n",
              "      <td>Short-term Hospital</td>\n",
              "      <td>2017</td>\n",
              "      <td>660</td>\n",
              "      <td>Alcohol-related disorders</td>\n",
              "      <td>222</td>\n",
              "      <td>BLOOD TRANSFUSION</td>\n",
              "      <td>280</td>\n",
              "      <td>Alcoholic liver disease</td>\n",
              "      <td>07</td>\n",
              "      <td>Diseases and Disorders of the Hepatobiliary Sy...</td>\n",
              "      <td>3</td>\n",
              "      <td>Major</td>\n",
              "      <td>Major</td>\n",
              "      <td>Medical</td>\n",
              "      <td>Medicare</td>\n",
              "      <td>Medicare</td>\n",
              "      <td>Self-Pay</td>\n",
              "      <td>NaN</td>\n",
              "      <td>N</td>\n",
              "      <td>N</td>\n",
              "      <td>49290.08</td>\n",
              "      <td>18503.26</td>\n",
              "    </tr>\n",
              "    <tr>\n",
              "      <th>7</th>\n",
              "      <td>Hudson Valley</td>\n",
              "      <td>Westchester</td>\n",
              "      <td>5903001</td>\n",
              "      <td>001061</td>\n",
              "      <td>Montefiore Mount Vernon Hospital</td>\n",
              "      <td>30 to 49</td>\n",
              "      <td>105</td>\n",
              "      <td>F</td>\n",
              "      <td>Black/African American</td>\n",
              "      <td>Not Span/Hispanic</td>\n",
              "      <td>3</td>\n",
              "      <td>Emergency</td>\n",
              "      <td>Court/Law Enforcement</td>\n",
              "      <td>2017</td>\n",
              "      <td>102</td>\n",
              "      <td>Nonspecific chest pain</td>\n",
              "      <td>000</td>\n",
              "      <td>NO PROC</td>\n",
              "      <td>203</td>\n",
              "      <td>Chest pain</td>\n",
              "      <td>05</td>\n",
              "      <td>Diseases and Disorders of the Circulatory System</td>\n",
              "      <td>2</td>\n",
              "      <td>Moderate</td>\n",
              "      <td>Minor</td>\n",
              "      <td>Medical</td>\n",
              "      <td>Medicaid</td>\n",
              "      <td>Self-Pay</td>\n",
              "      <td>NaN</td>\n",
              "      <td>NaN</td>\n",
              "      <td>N</td>\n",
              "      <td>N</td>\n",
              "      <td>20511.00</td>\n",
              "      <td>9103.80</td>\n",
              "    </tr>\n",
              "    <tr>\n",
              "      <th>8</th>\n",
              "      <td>Hudson Valley</td>\n",
              "      <td>Westchester</td>\n",
              "      <td>5903001</td>\n",
              "      <td>001061</td>\n",
              "      <td>Montefiore Mount Vernon Hospital</td>\n",
              "      <td>30 to 49</td>\n",
              "      <td>105</td>\n",
              "      <td>F</td>\n",
              "      <td>Black/African American</td>\n",
              "      <td>Unknown</td>\n",
              "      <td>4</td>\n",
              "      <td>Emergency</td>\n",
              "      <td>Home or Self Care</td>\n",
              "      <td>2017</td>\n",
              "      <td>050</td>\n",
              "      <td>Diabetes mellitus with complications</td>\n",
              "      <td>222</td>\n",
              "      <td>BLOOD TRANSFUSION</td>\n",
              "      <td>420</td>\n",
              "      <td>Diabetes</td>\n",
              "      <td>10</td>\n",
              "      <td>Endocrine, Nutritional and Metabolic Diseases ...</td>\n",
              "      <td>3</td>\n",
              "      <td>Major</td>\n",
              "      <td>Major</td>\n",
              "      <td>Medical</td>\n",
              "      <td>Medicaid</td>\n",
              "      <td>Medicaid</td>\n",
              "      <td>Medicaid</td>\n",
              "      <td>NaN</td>\n",
              "      <td>N</td>\n",
              "      <td>N</td>\n",
              "      <td>55172.00</td>\n",
              "      <td>17682.94</td>\n",
              "    </tr>\n",
              "    <tr>\n",
              "      <th>9</th>\n",
              "      <td>Hudson Valley</td>\n",
              "      <td>Westchester</td>\n",
              "      <td>5903001</td>\n",
              "      <td>001061</td>\n",
              "      <td>Montefiore Mount Vernon Hospital</td>\n",
              "      <td>50 to 69</td>\n",
              "      <td>105</td>\n",
              "      <td>M</td>\n",
              "      <td>Black/African American</td>\n",
              "      <td>Not Span/Hispanic</td>\n",
              "      <td>4</td>\n",
              "      <td>Emergency</td>\n",
              "      <td>Home or Self Care</td>\n",
              "      <td>2017</td>\n",
              "      <td>245</td>\n",
              "      <td>Syncope</td>\n",
              "      <td>231</td>\n",
              "      <td>OTHER THERAPEUTIC PRCS</td>\n",
              "      <td>204</td>\n",
              "      <td>Syncope &amp; collapse</td>\n",
              "      <td>05</td>\n",
              "      <td>Diseases and Disorders of the Circulatory System</td>\n",
              "      <td>1</td>\n",
              "      <td>Minor</td>\n",
              "      <td>Minor</td>\n",
              "      <td>Medical</td>\n",
              "      <td>Medicaid</td>\n",
              "      <td>Medicaid</td>\n",
              "      <td>Self-Pay</td>\n",
              "      <td>NaN</td>\n",
              "      <td>N</td>\n",
              "      <td>N</td>\n",
              "      <td>31034.00</td>\n",
              "      <td>12649.61</td>\n",
              "    </tr>\n",
              "    <tr>\n",
              "      <th>10</th>\n",
              "      <td>Hudson Valley</td>\n",
              "      <td>Westchester</td>\n",
              "      <td>5903001</td>\n",
              "      <td>001061</td>\n",
              "      <td>Montefiore Mount Vernon Hospital</td>\n",
              "      <td>50 to 69</td>\n",
              "      <td>107</td>\n",
              "      <td>F</td>\n",
              "      <td>Black/African American</td>\n",
              "      <td>Not Span/Hispanic</td>\n",
              "      <td>3</td>\n",
              "      <td>Emergency</td>\n",
              "      <td>Home or Self Care</td>\n",
              "      <td>2017</td>\n",
              "      <td>245</td>\n",
              "      <td>Syncope</td>\n",
              "      <td>000</td>\n",
              "      <td>NO PROC</td>\n",
              "      <td>204</td>\n",
              "      <td>Syncope &amp; collapse</td>\n",
              "      <td>05</td>\n",
              "      <td>Diseases and Disorders of the Circulatory System</td>\n",
              "      <td>1</td>\n",
              "      <td>Minor</td>\n",
              "      <td>Minor</td>\n",
              "      <td>Medical</td>\n",
              "      <td>Private Health Insurance</td>\n",
              "      <td>Private Health Insurance</td>\n",
              "      <td>Self-Pay</td>\n",
              "      <td>NaN</td>\n",
              "      <td>N</td>\n",
              "      <td>N</td>\n",
              "      <td>25027.00</td>\n",
              "      <td>9751.06</td>\n",
              "    </tr>\n",
              "  </tbody>\n",
              "</table>\n",
              "</div>\n",
              "      <button class=\"colab-df-convert\" onclick=\"convertToInteractive('df-a4fa2593-347b-4fe0-b355-33188a7237a6')\"\n",
              "              title=\"Convert this dataframe to an interactive table.\"\n",
              "              style=\"display:none;\">\n",
              "        \n",
              "  <svg xmlns=\"http://www.w3.org/2000/svg\" height=\"24px\"viewBox=\"0 0 24 24\"\n",
              "       width=\"24px\">\n",
              "    <path d=\"M0 0h24v24H0V0z\" fill=\"none\"/>\n",
              "    <path d=\"M18.56 5.44l.94 2.06.94-2.06 2.06-.94-2.06-.94-.94-2.06-.94 2.06-2.06.94zm-11 1L8.5 8.5l.94-2.06 2.06-.94-2.06-.94L8.5 2.5l-.94 2.06-2.06.94zm10 10l.94 2.06.94-2.06 2.06-.94-2.06-.94-.94-2.06-.94 2.06-2.06.94z\"/><path d=\"M17.41 7.96l-1.37-1.37c-.4-.4-.92-.59-1.43-.59-.52 0-1.04.2-1.43.59L10.3 9.45l-7.72 7.72c-.78.78-.78 2.05 0 2.83L4 21.41c.39.39.9.59 1.41.59.51 0 1.02-.2 1.41-.59l7.78-7.78 2.81-2.81c.8-.78.8-2.07 0-2.86zM5.41 20L4 18.59l7.72-7.72 1.47 1.35L5.41 20z\"/>\n",
              "  </svg>\n",
              "      </button>\n",
              "      \n",
              "  <style>\n",
              "    .colab-df-container {\n",
              "      display:flex;\n",
              "      flex-wrap:wrap;\n",
              "      gap: 12px;\n",
              "    }\n",
              "\n",
              "    .colab-df-convert {\n",
              "      background-color: #E8F0FE;\n",
              "      border: none;\n",
              "      border-radius: 50%;\n",
              "      cursor: pointer;\n",
              "      display: none;\n",
              "      fill: #1967D2;\n",
              "      height: 32px;\n",
              "      padding: 0 0 0 0;\n",
              "      width: 32px;\n",
              "    }\n",
              "\n",
              "    .colab-df-convert:hover {\n",
              "      background-color: #E2EBFA;\n",
              "      box-shadow: 0px 1px 2px rgba(60, 64, 67, 0.3), 0px 1px 3px 1px rgba(60, 64, 67, 0.15);\n",
              "      fill: #174EA6;\n",
              "    }\n",
              "\n",
              "    [theme=dark] .colab-df-convert {\n",
              "      background-color: #3B4455;\n",
              "      fill: #D2E3FC;\n",
              "    }\n",
              "\n",
              "    [theme=dark] .colab-df-convert:hover {\n",
              "      background-color: #434B5C;\n",
              "      box-shadow: 0px 1px 3px 1px rgba(0, 0, 0, 0.15);\n",
              "      filter: drop-shadow(0px 1px 2px rgba(0, 0, 0, 0.3));\n",
              "      fill: #FFFFFF;\n",
              "    }\n",
              "  </style>\n",
              "\n",
              "      <script>\n",
              "        const buttonEl =\n",
              "          document.querySelector('#df-a4fa2593-347b-4fe0-b355-33188a7237a6 button.colab-df-convert');\n",
              "        buttonEl.style.display =\n",
              "          google.colab.kernel.accessAllowed ? 'block' : 'none';\n",
              "\n",
              "        async function convertToInteractive(key) {\n",
              "          const element = document.querySelector('#df-a4fa2593-347b-4fe0-b355-33188a7237a6');\n",
              "          const dataTable =\n",
              "            await google.colab.kernel.invokeFunction('convertToInteractive',\n",
              "                                                     [key], {});\n",
              "          if (!dataTable) return;\n",
              "\n",
              "          const docLinkHtml = 'Like what you see? Visit the ' +\n",
              "            '<a target=\"_blank\" href=https://colab.research.google.com/notebooks/data_table.ipynb>data table notebook</a>'\n",
              "            + ' to learn more about interactive tables.';\n",
              "          element.innerHTML = '';\n",
              "          dataTable['output_type'] = 'display_data';\n",
              "          await google.colab.output.renderOutput(dataTable, element);\n",
              "          const docLink = document.createElement('div');\n",
              "          docLink.innerHTML = docLinkHtml;\n",
              "          element.appendChild(docLink);\n",
              "        }\n",
              "      </script>\n",
              "    </div>\n",
              "  </div>\n",
              "  "
            ]
          },
          "metadata": {},
          "execution_count": 11
        }
      ],
      "source": [
        "df.head(10)"
      ]
    },
    {
      "cell_type": "code",
      "execution_count": null,
      "id": "f087e4cf",
      "metadata": {
        "id": "f087e4cf"
      },
      "outputs": [],
      "source": [
        "df['Length_of_Stay'] = pd.to_numeric(df['Length_of_Stay'],errors = 'coerce')\n",
        "df['Total_Costs'] = pd.to_numeric(df['Total_Costs'],errors = 'coerce')\n",
        "df['Total_Charges'] = pd.to_numeric(df['Total_Charges'],errors = 'coerce')"
      ]
    },
    {
      "cell_type": "code",
      "source": [
        "df.dtypes"
      ],
      "metadata": {
        "id": "LXFV7J7bsEPg",
        "colab": {
          "base_uri": "https://localhost:8080/"
        },
        "outputId": "a1058f5d-125e-4227-8bc2-bfd7faae2545"
      },
      "id": "LXFV7J7bsEPg",
      "execution_count": null,
      "outputs": [
        {
          "output_type": "execute_result",
          "data": {
            "text/plain": [
              "Hospital_Service_Area                   object\n",
              "Hospital_County                         object\n",
              "Operating_Certificate_Number            object\n",
              "Permanent_Facility_Id                   object\n",
              "Facility_Name                           object\n",
              "Age_Group                               object\n",
              "Zip_Code                                object\n",
              "Gender                                  object\n",
              "Race                                    object\n",
              "Ethnicity                               object\n",
              "Length_of_Stay                         float64\n",
              "Type_of_Admission                       object\n",
              "Patient_Disposition                     object\n",
              "Discharge_Year                          object\n",
              "CCS_Diagnosis_Code                      object\n",
              "CCS_Diagnosis_Description               object\n",
              "CCS_Procedure_Code                      object\n",
              "CCS_Procedure_Description               object\n",
              "APR-DRG_Code                            object\n",
              "APR_DRG_Description                     object\n",
              "APR_MDC_Code                            object\n",
              "APR_MDC_Description                     object\n",
              "APR_Severity_of_Illness_Code            object\n",
              "APR_Severity_of_Illness_Description     object\n",
              "APR_Risk_of_Mortality                   object\n",
              "APR_Medical_Surgical_Description        object\n",
              "Payment_Typology1                       object\n",
              "Payment_Typology2                       object\n",
              "Payment_Typology3                       object\n",
              "Birth_Weight                            object\n",
              "Abortion_Edit_Indicator                 object\n",
              "Emergency_Department_Indicator          object\n",
              "Total_Charges                          float64\n",
              "Total_Costs                            float64\n",
              "dtype: object"
            ]
          },
          "metadata": {},
          "execution_count": 13
        }
      ]
    },
    {
      "cell_type": "code",
      "execution_count": null,
      "id": "13a8da8c",
      "metadata": {
        "id": "13a8da8c",
        "colab": {
          "base_uri": "https://localhost:8080/"
        },
        "outputId": "fd85cf36-cc2b-4bd9-f9e2-c94c33080a7e"
      },
      "outputs": [
        {
          "output_type": "execute_result",
          "data": {
            "text/plain": [
              "Hospital_Service_Area                     5155\n",
              "Hospital_County                           5155\n",
              "Operating_Certificate_Number              5155\n",
              "Permanent_Facility_Id                     5155\n",
              "Facility_Name                                0\n",
              "Age_Group                                    0\n",
              "Zip_Code                                 39019\n",
              "Gender                                       0\n",
              "Race                                         0\n",
              "Ethnicity                                    0\n",
              "Length_of_Stay                            1739\n",
              "Type_of_Admission                            0\n",
              "Patient_Disposition                          0\n",
              "Discharge_Year                               0\n",
              "CCS_Diagnosis_Code                           0\n",
              "CCS_Diagnosis_Description                    0\n",
              "CCS_Procedure_Code                           0\n",
              "CCS_Procedure_Description                    0\n",
              "APR-DRG_Code                                 0\n",
              "APR_DRG_Description                          0\n",
              "APR_MDC_Code                                 0\n",
              "APR_MDC_Description                          0\n",
              "APR_Severity_of_Illness_Code                 0\n",
              "APR_Severity_of_Illness_Description        240\n",
              "APR_Risk_of_Mortality                      240\n",
              "APR_Medical_Surgical_Description             0\n",
              "Payment_Typology1                            0\n",
              "Payment_Typology2                       878722\n",
              "Payment_Typology3                      1737244\n",
              "Birth_Weight                           2115685\n",
              "Abortion_Edit_Indicator                      0\n",
              "Emergency_Department_Indicator               0\n",
              "Total_Charges                                0\n",
              "Total_Costs                                  0\n",
              "dtype: int64"
            ]
          },
          "metadata": {},
          "execution_count": 14
        }
      ],
      "source": [
        "df.isnull().sum(axis = 0)"
      ]
    },
    {
      "cell_type": "markdown",
      "source": [
        "**Deletion of features which has a huge number of missing data**"
      ],
      "metadata": {
        "id": "za_GYtX6sMUQ"
      },
      "id": "za_GYtX6sMUQ"
    },
    {
      "cell_type": "markdown",
      "source": [],
      "metadata": {
        "id": "NRuzEiGmsMSv"
      },
      "id": "NRuzEiGmsMSv"
    },
    {
      "cell_type": "code",
      "execution_count": null,
      "id": "d4236623",
      "metadata": {
        "id": "d4236623"
      },
      "outputs": [],
      "source": [
        "del df['Birth_Weight']"
      ]
    },
    {
      "cell_type": "code",
      "execution_count": null,
      "id": "b8837abd",
      "metadata": {
        "id": "b8837abd"
      },
      "outputs": [],
      "source": [
        "del df['Payment_Typology3']"
      ]
    },
    {
      "cell_type": "code",
      "execution_count": null,
      "id": "56d8ce5e",
      "metadata": {
        "id": "56d8ce5e"
      },
      "outputs": [],
      "source": [
        "del df['Payment_Typology2']"
      ]
    },
    {
      "cell_type": "code",
      "execution_count": null,
      "id": "076ef6c0",
      "metadata": {
        "id": "076ef6c0",
        "colab": {
          "base_uri": "https://localhost:8080/"
        },
        "outputId": "252c1f27-f344-435e-ee34-649130b61737"
      },
      "outputs": [
        {
          "output_type": "execute_result",
          "data": {
            "text/plain": [
              "Hospital_Service_Area                   5155\n",
              "Hospital_County                         5155\n",
              "Operating_Certificate_Number            5155\n",
              "Permanent_Facility_Id                   5155\n",
              "Facility_Name                              0\n",
              "Age_Group                                  0\n",
              "Zip_Code                               39019\n",
              "Gender                                     0\n",
              "Race                                       0\n",
              "Ethnicity                                  0\n",
              "Length_of_Stay                          1739\n",
              "Type_of_Admission                          0\n",
              "Patient_Disposition                        0\n",
              "Discharge_Year                             0\n",
              "CCS_Diagnosis_Code                         0\n",
              "CCS_Diagnosis_Description                  0\n",
              "CCS_Procedure_Code                         0\n",
              "CCS_Procedure_Description                  0\n",
              "APR-DRG_Code                               0\n",
              "APR_DRG_Description                        0\n",
              "APR_MDC_Code                               0\n",
              "APR_MDC_Description                        0\n",
              "APR_Severity_of_Illness_Code               0\n",
              "APR_Severity_of_Illness_Description      240\n",
              "APR_Risk_of_Mortality                    240\n",
              "APR_Medical_Surgical_Description           0\n",
              "Payment_Typology1                          0\n",
              "Abortion_Edit_Indicator                    0\n",
              "Emergency_Department_Indicator             0\n",
              "Total_Charges                              0\n",
              "Total_Costs                                0\n",
              "dtype: int64"
            ]
          },
          "metadata": {},
          "execution_count": 18
        }
      ],
      "source": [
        "df.isnull().sum()"
      ]
    },
    {
      "cell_type": "code",
      "execution_count": null,
      "id": "b8723fa3",
      "metadata": {
        "id": "b8723fa3",
        "colab": {
          "base_uri": "https://localhost:8080/"
        },
        "outputId": "887b1920-f040-486b-c39d-794012c3e4aa"
      },
      "outputs": [
        {
          "output_type": "execute_result",
          "data": {
            "text/plain": [
              "(2343569, 31)"
            ]
          },
          "metadata": {},
          "execution_count": 19
        }
      ],
      "source": [
        "df.shape"
      ]
    },
    {
      "cell_type": "markdown",
      "source": [
        "**Removing Rows with Null values in any of the features**"
      ],
      "metadata": {
        "id": "TJUh4qZTsXqt"
      },
      "id": "TJUh4qZTsXqt"
    },
    {
      "cell_type": "code",
      "execution_count": null,
      "id": "d37943e5",
      "metadata": {
        "id": "d37943e5"
      },
      "outputs": [],
      "source": [
        "df.dropna(subset = [\"Hospital_Service_Area\"], inplace=True)"
      ]
    },
    {
      "cell_type": "code",
      "execution_count": null,
      "id": "d9c4759c",
      "metadata": {
        "id": "d9c4759c"
      },
      "outputs": [],
      "source": [
        "df.dropna(subset = [\"Hospital_County\"], inplace=True)"
      ]
    },
    {
      "cell_type": "code",
      "execution_count": null,
      "id": "9db8c0bd",
      "metadata": {
        "id": "9db8c0bd"
      },
      "outputs": [],
      "source": [
        "df.dropna(subset = [\"Operating_Certificate_Number\"], inplace=True)"
      ]
    },
    {
      "cell_type": "code",
      "execution_count": null,
      "id": "14d8354f",
      "metadata": {
        "id": "14d8354f"
      },
      "outputs": [],
      "source": [
        "df.dropna(subset = [\"Permanent_Facility_Id\"], inplace=True)"
      ]
    },
    {
      "cell_type": "code",
      "source": [
        "df.dropna(subset = [\"APR_Severity_of_Illness_Description\"], inplace=True)"
      ],
      "metadata": {
        "id": "J91szodasn3Q"
      },
      "id": "J91szodasn3Q",
      "execution_count": null,
      "outputs": []
    },
    {
      "cell_type": "code",
      "source": [
        "df.dropna(subset = [\"APR_Risk_of_Mortality\"], inplace=True)"
      ],
      "metadata": {
        "id": "8IUsZNQRspJP"
      },
      "id": "8IUsZNQRspJP",
      "execution_count": null,
      "outputs": []
    },
    {
      "cell_type": "code",
      "source": [
        "df.dropna(subset = [\"Zip_Code\"], inplace=True)"
      ],
      "metadata": {
        "id": "ItIZrSWWtHNT"
      },
      "id": "ItIZrSWWtHNT",
      "execution_count": null,
      "outputs": []
    },
    {
      "cell_type": "code",
      "source": [
        "df.dropna(subset = [\"Length_of_Stay\"], inplace=True)"
      ],
      "metadata": {
        "id": "N1Pf3qZDtHot"
      },
      "id": "N1Pf3qZDtHot",
      "execution_count": null,
      "outputs": []
    },
    {
      "cell_type": "code",
      "execution_count": null,
      "id": "06e109ed",
      "metadata": {
        "id": "06e109ed",
        "colab": {
          "base_uri": "https://localhost:8080/"
        },
        "outputId": "81afa38d-0a1d-4bc0-bd88-2cc0ec0c0aa1"
      },
      "outputs": [
        {
          "output_type": "execute_result",
          "data": {
            "text/plain": [
              "Hospital_Service_Area                  0\n",
              "Hospital_County                        0\n",
              "Operating_Certificate_Number           0\n",
              "Permanent_Facility_Id                  0\n",
              "Facility_Name                          0\n",
              "Age_Group                              0\n",
              "Zip_Code                               0\n",
              "Gender                                 0\n",
              "Race                                   0\n",
              "Ethnicity                              0\n",
              "Length_of_Stay                         0\n",
              "Type_of_Admission                      0\n",
              "Patient_Disposition                    0\n",
              "Discharge_Year                         0\n",
              "CCS_Diagnosis_Code                     0\n",
              "CCS_Diagnosis_Description              0\n",
              "CCS_Procedure_Code                     0\n",
              "CCS_Procedure_Description              0\n",
              "APR-DRG_Code                           0\n",
              "APR_DRG_Description                    0\n",
              "APR_MDC_Code                           0\n",
              "APR_MDC_Description                    0\n",
              "APR_Severity_of_Illness_Code           0\n",
              "APR_Severity_of_Illness_Description    0\n",
              "APR_Risk_of_Mortality                  0\n",
              "APR_Medical_Surgical_Description       0\n",
              "Payment_Typology1                      0\n",
              "Abortion_Edit_Indicator                0\n",
              "Emergency_Department_Indicator         0\n",
              "Total_Charges                          0\n",
              "Total_Costs                            0\n",
              "dtype: int64"
            ]
          },
          "metadata": {},
          "execution_count": 28
        }
      ],
      "source": [
        "df.isnull().sum()"
      ]
    },
    {
      "cell_type": "markdown",
      "source": [
        "No Feature has empty values now"
      ],
      "metadata": {
        "id": "5BVWc_pwtQYN"
      },
      "id": "5BVWc_pwtQYN"
    },
    {
      "cell_type": "code",
      "execution_count": null,
      "id": "d8908f57",
      "metadata": {
        "id": "d8908f57",
        "colab": {
          "base_uri": "https://localhost:8080/"
        },
        "outputId": "1ff81f60-8f03-4d5b-af60-f97e1dcdb7a6"
      },
      "outputs": [
        {
          "output_type": "stream",
          "name": "stdout",
          "text": [
            "<class 'pandas.core.frame.DataFrame'>\n",
            "Int64Index: 2302682 entries, 2 to 2343569\n",
            "Data columns (total 31 columns):\n",
            " #   Column                               Dtype  \n",
            "---  ------                               -----  \n",
            " 0   Hospital_Service_Area                object \n",
            " 1   Hospital_County                      object \n",
            " 2   Operating_Certificate_Number         object \n",
            " 3   Permanent_Facility_Id                object \n",
            " 4   Facility_Name                        object \n",
            " 5   Age_Group                            object \n",
            " 6   Zip_Code                             object \n",
            " 7   Gender                               object \n",
            " 8   Race                                 object \n",
            " 9   Ethnicity                            object \n",
            " 10  Length_of_Stay                       float64\n",
            " 11  Type_of_Admission                    object \n",
            " 12  Patient_Disposition                  object \n",
            " 13  Discharge_Year                       object \n",
            " 14  CCS_Diagnosis_Code                   object \n",
            " 15  CCS_Diagnosis_Description            object \n",
            " 16  CCS_Procedure_Code                   object \n",
            " 17  CCS_Procedure_Description            object \n",
            " 18  APR-DRG_Code                         object \n",
            " 19  APR_DRG_Description                  object \n",
            " 20  APR_MDC_Code                         object \n",
            " 21  APR_MDC_Description                  object \n",
            " 22  APR_Severity_of_Illness_Code         object \n",
            " 23  APR_Severity_of_Illness_Description  object \n",
            " 24  APR_Risk_of_Mortality                object \n",
            " 25  APR_Medical_Surgical_Description     object \n",
            " 26  Payment_Typology1                    object \n",
            " 27  Abortion_Edit_Indicator              object \n",
            " 28  Emergency_Department_Indicator       object \n",
            " 29  Total_Charges                        float64\n",
            " 30  Total_Costs                          float64\n",
            "dtypes: float64(3), object(28)\n",
            "memory usage: 562.2+ MB\n"
          ]
        }
      ],
      "source": [
        "df.info()"
      ]
    },
    {
      "cell_type": "markdown",
      "source": [
        "### **Removal of the features which might not affect the healthcare cost**"
      ],
      "metadata": {
        "id": "E-sh4e4OxDvo"
      },
      "id": "E-sh4e4OxDvo"
    },
    {
      "cell_type": "code",
      "source": [
        "del df['Hospital_Service_Area']"
      ],
      "metadata": {
        "id": "ffzr5O6xxLnD"
      },
      "id": "ffzr5O6xxLnD",
      "execution_count": null,
      "outputs": []
    },
    {
      "cell_type": "code",
      "source": [
        "del df['Hospital_County']\n"
      ],
      "metadata": {
        "id": "uwsBaWeuxLl9"
      },
      "id": "uwsBaWeuxLl9",
      "execution_count": null,
      "outputs": []
    },
    {
      "cell_type": "code",
      "source": [
        "del df['Operating_Certificate_Number']"
      ],
      "metadata": {
        "id": "iiPns1bSxPJE"
      },
      "id": "iiPns1bSxPJE",
      "execution_count": null,
      "outputs": []
    },
    {
      "cell_type": "code",
      "source": [
        "del df['Permanent_Facility_Id']"
      ],
      "metadata": {
        "id": "yAun3B5gxQAN"
      },
      "id": "yAun3B5gxQAN",
      "execution_count": null,
      "outputs": []
    },
    {
      "cell_type": "code",
      "source": [
        "del df['Zip_Code']"
      ],
      "metadata": {
        "id": "mr5iY732xQ1n"
      },
      "id": "mr5iY732xQ1n",
      "execution_count": null,
      "outputs": []
    },
    {
      "cell_type": "code",
      "source": [
        "del df['Race']"
      ],
      "metadata": {
        "id": "VF8_7liTxSTj"
      },
      "id": "VF8_7liTxSTj",
      "execution_count": null,
      "outputs": []
    },
    {
      "cell_type": "code",
      "source": [
        "del df['Ethnicity']"
      ],
      "metadata": {
        "id": "TPqzx-IRxTuc"
      },
      "id": "TPqzx-IRxTuc",
      "execution_count": null,
      "outputs": []
    },
    {
      "cell_type": "code",
      "source": [
        "del df['Patient_Disposition']"
      ],
      "metadata": {
        "id": "_sw8dA0YxVPW"
      },
      "id": "_sw8dA0YxVPW",
      "execution_count": null,
      "outputs": []
    },
    {
      "cell_type": "code",
      "source": [
        "del df['Discharge_Year']"
      ],
      "metadata": {
        "id": "_EEscnE2xX21"
      },
      "id": "_EEscnE2xX21",
      "execution_count": null,
      "outputs": []
    },
    {
      "cell_type": "markdown",
      "source": [
        "## ***Exploring the Data***"
      ],
      "metadata": {
        "id": "DqwFOm9UxcSv"
      },
      "id": "DqwFOm9UxcSv"
    },
    {
      "cell_type": "code",
      "source": [
        "# Checking the Missing Values by Visualiztion\n",
        "sns.heatmap(df.isnull(), yticklabels=False, cmap= \"viridis\")"
      ],
      "metadata": {
        "id": "WaIj23-x-Bwu",
        "colab": {
          "base_uri": "https://localhost:8080/",
          "height": 455
        },
        "outputId": "ba973228-474c-4205-b0ad-83b8dd66ee90"
      },
      "id": "WaIj23-x-Bwu",
      "execution_count": null,
      "outputs": [
        {
          "output_type": "execute_result",
          "data": {
            "text/plain": [
              "<matplotlib.axes._subplots.AxesSubplot at 0x7f289f17ead0>"
            ]
          },
          "metadata": {},
          "execution_count": 39
        },
        {
          "output_type": "display_data",
          "data": {
            "text/plain": [
              "<Figure size 432x288 with 2 Axes>"
            ],
            "image/png": "[encoded data removed]"
          },
          "metadata": {
            "needs_background": "light"
          }
        }
      ]
    },
    {
      "cell_type": "code",
      "source": [
        "df['APR_Risk_of_Mortality'].value_counts()"
      ],
      "metadata": {
        "id": "ZALBWeyyxXfe",
        "colab": {
          "base_uri": "https://localhost:8080/"
        },
        "outputId": "1f2c3534-e7af-4e5a-8aac-c4f63d941bd9"
      },
      "id": "ZALBWeyyxXfe",
      "execution_count": null,
      "outputs": [
        {
          "output_type": "execute_result",
          "data": {
            "text/plain": [
              "Minor       1313337\n",
              "Moderate     500735\n",
              "Major        372440\n",
              "Extreme      116170\n",
              "Name: APR_Risk_of_Mortality, dtype: int64"
            ]
          },
          "metadata": {},
          "execution_count": 40
        }
      ]
    },
    {
      "cell_type": "code",
      "source": [
        "df.APR_Risk_of_Mortality.value_counts().plot(kind='barh')"
      ],
      "metadata": {
        "id": "MbOPtB0i0-mb",
        "colab": {
          "base_uri": "https://localhost:8080/",
          "height": 295
        },
        "outputId": "01560fcb-7471-4831-aeac-5d327964c2c0"
      },
      "id": "MbOPtB0i0-mb",
      "execution_count": null,
      "outputs": [
        {
          "output_type": "execute_result",
          "data": {
            "text/plain": [
              "<matplotlib.axes._subplots.AxesSubplot at 0x7f289ee0f150>"
            ]
          },
          "metadata": {},
          "execution_count": 41
        },
        {
          "output_type": "display_data",
          "data": {
            "text/plain": [
              "<Figure size 432x288 with 1 Axes>"
            ],
            "image/png": "[encoded data removed]"
          },
          "metadata": {
            "needs_background": "light"
          }
        }
      ]
    },
    {
      "cell_type": "code",
      "source": [
        "df['APR_Medical_Surgical_Description'].value_counts()"
      ],
      "metadata": {
        "id": "A_2G2BhwyRCw",
        "colab": {
          "base_uri": "https://localhost:8080/"
        },
        "outputId": "1b7f93f2-f793-445a-eb58-184e8b4f9e23"
      },
      "id": "A_2G2BhwyRCw",
      "execution_count": null,
      "outputs": [
        {
          "output_type": "execute_result",
          "data": {
            "text/plain": [
              "Medical     1713122\n",
              "Surgical     589560\n",
              "Name: APR_Medical_Surgical_Description, dtype: int64"
            ]
          },
          "metadata": {},
          "execution_count": 42
        }
      ]
    },
    {
      "cell_type": "code",
      "source": [
        "df.APR_Medical_Surgical_Description.value_counts().plot(kind='barh')"
      ],
      "metadata": {
        "id": "Y4mW0Sey1SDy",
        "colab": {
          "base_uri": "https://localhost:8080/",
          "height": 295
        },
        "outputId": "f26dff3f-4a76-4e34-d8df-5500cdab04f3"
      },
      "id": "Y4mW0Sey1SDy",
      "execution_count": null,
      "outputs": [
        {
          "output_type": "execute_result",
          "data": {
            "text/plain": [
              "<matplotlib.axes._subplots.AxesSubplot at 0x7f287de7aa50>"
            ]
          },
          "metadata": {},
          "execution_count": 43
        },
        {
          "output_type": "display_data",
          "data": {
            "text/plain": [
              "<Figure size 432x288 with 1 Axes>"
            ],
            "image/png": "[encoded data removed]"
          },
          "metadata": {
            "needs_background": "light"
          }
        }
      ]
    },
    {
      "cell_type": "code",
      "source": [
        "df['Payment_Typology1'].value_counts()"
      ],
      "metadata": {
        "id": "MAf7VRvoySIZ",
        "colab": {
          "base_uri": "https://localhost:8080/"
        },
        "outputId": "1f0576ab-4eca-4365-f77c-fbb7e3c22617"
      },
      "id": "MAf7VRvoySIZ",
      "execution_count": null,
      "outputs": [
        {
          "output_type": "execute_result",
          "data": {
            "text/plain": [
              "Medicare                     897426\n",
              "Medicaid                     687928\n",
              "Private Health Insurance     337882\n",
              "Blue Cross/Blue Shield       258108\n",
              "Self-Pay                      43242\n",
              "Managed Care, Unspecified     31714\n",
              "Miscellaneous/Other           27639\n",
              "Federal/State/Local/VA        13986\n",
              "Department of Corrections      2512\n",
              "Unknown                        2245\n",
              "Name: Payment_Typology1, dtype: int64"
            ]
          },
          "metadata": {},
          "execution_count": 44
        }
      ]
    },
    {
      "cell_type": "code",
      "source": [
        "df.Payment_Typology1.value_counts().plot(kind='barh')"
      ],
      "metadata": {
        "id": "dbLFUoOS1ZES",
        "colab": {
          "base_uri": "https://localhost:8080/",
          "height": 282
        },
        "outputId": "ef1c9b00-8bdf-4323-c2f7-38cc028ea5e4"
      },
      "id": "dbLFUoOS1ZES",
      "execution_count": null,
      "outputs": [
        {
          "output_type": "execute_result",
          "data": {
            "text/plain": [
              "<matplotlib.axes._subplots.AxesSubplot at 0x7f287de49710>"
            ]
          },
          "metadata": {},
          "execution_count": 45
        },
        {
          "output_type": "display_data",
          "data": {
            "text/plain": [
              "<Figure size 432x288 with 1 Axes>"
            ],
            "image/png": "[encoded data removed]"
          },
          "metadata": {
            "needs_background": "light"
          }
        }
      ]
    },
    {
      "cell_type": "code",
      "source": [
        "df['Abortion_Edit_Indicator'].value_counts()"
      ],
      "metadata": {
        "id": "mev4alj3yTuu",
        "colab": {
          "base_uri": "https://localhost:8080/"
        },
        "outputId": "3e3c22e9-227a-4d68-e9fd-821b81b24e9a"
      },
      "id": "mev4alj3yTuu",
      "execution_count": null,
      "outputs": [
        {
          "output_type": "execute_result",
          "data": {
            "text/plain": [
              "N    2302682\n",
              "Name: Abortion_Edit_Indicator, dtype: int64"
            ]
          },
          "metadata": {},
          "execution_count": 46
        }
      ]
    },
    {
      "cell_type": "markdown",
      "source": [
        "Removing this feature as only few diagnosis deals with pregnancy or abortion"
      ],
      "metadata": {
        "id": "uF3XVyMYyYwR"
      },
      "id": "uF3XVyMYyYwR"
    },
    {
      "cell_type": "code",
      "source": [
        "del df['Abortion_Edit_Indicator']"
      ],
      "metadata": {
        "id": "Krn_Uh6byVY6"
      },
      "id": "Krn_Uh6byVY6",
      "execution_count": null,
      "outputs": []
    },
    {
      "cell_type": "code",
      "source": [
        "del df['Emergency_Department_Indicator']"
      ],
      "metadata": {
        "id": "zjXoO_kOynJB"
      },
      "id": "zjXoO_kOynJB",
      "execution_count": null,
      "outputs": []
    },
    {
      "cell_type": "markdown",
      "source": [
        "Removing the duplicated rows"
      ],
      "metadata": {
        "id": "jx294QtZyuAT"
      },
      "id": "jx294QtZyuAT"
    },
    {
      "cell_type": "code",
      "source": [
        "df.duplicated().sum()"
      ],
      "metadata": {
        "id": "qZWgsJ70ywf1",
        "colab": {
          "base_uri": "https://localhost:8080/"
        },
        "outputId": "2e322273-ca88-4d6a-f2fa-6ddd86e12b2a"
      },
      "id": "qZWgsJ70ywf1",
      "execution_count": null,
      "outputs": [
        {
          "output_type": "execute_result",
          "data": {
            "text/plain": [
              "61349"
            ]
          },
          "metadata": {},
          "execution_count": 49
        }
      ]
    },
    {
      "cell_type": "code",
      "source": [
        "df.drop_duplicates(subset=None, keep='first', inplace=False, ignore_index=False)"
      ],
      "metadata": {
        "id": "ekTeyTBWyw92",
        "colab": {
          "base_uri": "https://localhost:8080/",
          "height": 904
        },
        "outputId": "2c5ba8a9-bf42-4bda-a734-0aac92d7d623"
      },
      "id": "ekTeyTBWyw92",
      "execution_count": null,
      "outputs": [
        {
          "output_type": "execute_result",
          "data": {
            "text/plain": [
              "                                             Facility_Name    Age_Group  \\\n",
              "2                         Montefiore Mount Vernon Hospital     50 to 69   \n",
              "3                         Montefiore Mount Vernon Hospital     30 to 49   \n",
              "4                         Montefiore Mount Vernon Hospital     50 to 69   \n",
              "5                         Montefiore Mount Vernon Hospital     18 to 29   \n",
              "6                         Montefiore Mount Vernon Hospital     50 to 69   \n",
              "...                                                    ...          ...   \n",
              "2343564                       Hospital for Special Surgery     50 to 69   \n",
              "2343565                 Good Samaritan Hospital of Suffern     50 to 69   \n",
              "2343566                 Good Samaritan Hospital of Suffern     50 to 69   \n",
              "2343568  Montefiore Med Center - Jack D Weiler Hosp of ...  70 or Older   \n",
              "2343569                            St James Mercy Hospital     18 to 29   \n",
              "\n",
              "        Gender  Length_of_Stay Type_of_Admission CCS_Diagnosis_Code  \\\n",
              "2            M             8.0         Emergency                099   \n",
              "3            F             6.0         Emergency                161   \n",
              "4            F             4.0         Emergency                238   \n",
              "5            F             4.0         Emergency                002   \n",
              "6            M             3.0         Emergency                660   \n",
              "...        ...             ...               ...                ...   \n",
              "2343564      M             8.0          Elective                238   \n",
              "2343565      F             2.0          Elective                133   \n",
              "2343566      F             2.0         Emergency                101   \n",
              "2343568      F             2.0          Elective                 25   \n",
              "2343569      F             1.0         Emergency                660   \n",
              "\n",
              "                                 CCS_Diagnosis_Description CCS_Procedure_Code  \\\n",
              "2        Hypertension with complications and secondary ...                108   \n",
              "3                     Other diseases of kidney and ureters                102   \n",
              "4        Complications of surgical procedures or medica...                222   \n",
              "5                             Septicemia (except in labor)                000   \n",
              "6                                Alcohol-related disorders                222   \n",
              "...                                                    ...                ...   \n",
              "2343564  Complications of surgical procedures or medica...                142   \n",
              "2343565                    Other lower respiratory disease                 36   \n",
              "2343566   Coronary atherosclerosis and other heart disease                  0   \n",
              "2343568                                   Cancer of uterus                124   \n",
              "2343569                          Alcohol-related disorders                219   \n",
              "\n",
              "        CCS_Procedure_Description APR-DRG_Code  \\\n",
              "2             INDWELLING CATHETER          194   \n",
              "3          URETERAL CATHETERIZATN          465   \n",
              "4               BLOOD TRANSFUSION          721   \n",
              "5                         NO PROC          720   \n",
              "6               BLOOD TRANSFUSION          280   \n",
              "...                           ...          ...   \n",
              "2343564     PARTIAL EXCISION BONE          309   \n",
              "2343565   LOBECTOMY/PNEUMONECTOMY          120   \n",
              "2343566                   NO PROC          198   \n",
              "2343568      HYSTERECTOMY; AB/VAG          512   \n",
              "2343569     ALCO/DRUG REHAB/DETOX          775   \n",
              "\n",
              "                                       APR_DRG_Description APR_MDC_Code  \\\n",
              "2                                            Heart failure           05   \n",
              "3        Urinary stones & acquired upper urinary tract ...           11   \n",
              "4        Post-operative, post-traumatic, other device i...           18   \n",
              "5                     Septicemia & disseminated infections           18   \n",
              "6                                  Alcoholic liver disease           07   \n",
              "...                                                    ...          ...   \n",
              "2343564            Other significant hip and femur surgery            8   \n",
              "2343565               Major respiratory & chest procedures            4   \n",
              "2343566         Angina pectoris & coronary atherosclerosis            5   \n",
              "2343568  Uterine & adnexa procedures for non-ovarian & ...           13   \n",
              "2343569                         Alcohol abuse & dependence           20   \n",
              "\n",
              "                                       APR_MDC_Description  \\\n",
              "2         Diseases and Disorders of the Circulatory System   \n",
              "3        Diseases and Disorders of the Kidney and Urina...   \n",
              "4        Infectious and Parasitic Diseases, Systemic or...   \n",
              "5        Infectious and Parasitic Diseases, Systemic or...   \n",
              "6        Diseases and Disorders of the Hepatobiliary Sy...   \n",
              "...                                                    ...   \n",
              "2343564  Diseases and Disorders of the Musculoskeletal ...   \n",
              "2343565   Diseases and Disorders of the Respiratory System   \n",
              "2343566   Diseases and Disorders of the Circulatory System   \n",
              "2343568  Diseases and Disorders of the Female Reproduct...   \n",
              "2343569  Alcohol/Drug Use and Alcohol/Drug Induced Orga...   \n",
              "\n",
              "        APR_Severity_of_Illness_Code APR_Severity_of_Illness_Description  \\\n",
              "2                                  3                               Major   \n",
              "3                                  2                            Moderate   \n",
              "4                                  2                            Moderate   \n",
              "5                                  2                            Moderate   \n",
              "6                                  3                               Major   \n",
              "...                              ...                                 ...   \n",
              "2343564                            2                            Moderate   \n",
              "2343565                            1                               Minor   \n",
              "2343566                            2                            Moderate   \n",
              "2343568                            2                            Moderate   \n",
              "2343569                            2                            Moderate   \n",
              "\n",
              "        APR_Risk_of_Mortality APR_Medical_Surgical_Description  \\\n",
              "2                    Moderate                          Medical   \n",
              "3                    Moderate                          Medical   \n",
              "4                    Moderate                          Medical   \n",
              "5                       Minor                          Medical   \n",
              "6                       Major                          Medical   \n",
              "...                       ...                              ...   \n",
              "2343564                 Minor                         Surgical   \n",
              "2343565              Moderate                         Surgical   \n",
              "2343566              Moderate                          Medical   \n",
              "2343568                 Minor                         Surgical   \n",
              "2343569                 Minor                          Medical   \n",
              "\n",
              "                 Payment_Typology1  Total_Charges  Total_Costs  \n",
              "2                         Medicaid       58517.00     26046.50  \n",
              "3        Department of Corrections       39647.04     17397.59  \n",
              "4                         Medicaid       36031.09     16118.84  \n",
              "5        Department of Corrections       30534.00     11921.05  \n",
              "6                         Medicare       49290.08     18503.26  \n",
              "...                            ...            ...          ...  \n",
              "2343564   Private Health Insurance       93547.00     33621.00  \n",
              "2343565   Private Health Insurance       87545.08     16781.23  \n",
              "2343566                   Medicaid       31896.05      6003.38  \n",
              "2343568                   Medicare       66399.81     13068.87  \n",
              "2343569                   Medicaid        2933.75      1225.95  \n",
              "\n",
              "[2241333 rows x 20 columns]"
            ],
            "text/html": [
              "\n",
              "  <div id=\"df-b6183aa7-a30b-4bd5-8a7e-53c2db75ecef\">\n",
              "    <div class=\"colab-df-container\">\n",
              "      <div>\n",
              "<style scoped>\n",
              "    .dataframe tbody tr th:only-of-type {\n",
              "        vertical-align: middle;\n",
              "    }\n",
              "\n",
              "    .dataframe tbody tr th {\n",
              "        vertical-align: top;\n",
              "    }\n",
              "\n",
              "    .dataframe thead th {\n",
              "        text-align: right;\n",
              "    }\n",
              "</style>\n",
              "<table border=\"1\" class=\"dataframe\">\n",
              "  <thead>\n",
              "    <tr style=\"text-align: right;\">\n",
              "      <th></th>\n",
              "      <th>Facility_Name</th>\n",
              "      <th>Age_Group</th>\n",
              "      <th>Gender</th>\n",
              "      <th>Length_of_Stay</th>\n",
              "      <th>Type_of_Admission</th>\n",
              "      <th>CCS_Diagnosis_Code</th>\n",
              "      <th>CCS_Diagnosis_Description</th>\n",
              "      <th>CCS_Procedure_Code</th>\n",
              "      <th>CCS_Procedure_Description</th>\n",
              "      <th>APR-DRG_Code</th>\n",
              "      <th>APR_DRG_Description</th>\n",
              "      <th>APR_MDC_Code</th>\n",
              "      <th>APR_MDC_Description</th>\n",
              "      <th>APR_Severity_of_Illness_Code</th>\n",
              "      <th>APR_Severity_of_Illness_Description</th>\n",
              "      <th>APR_Risk_of_Mortality</th>\n",
              "      <th>APR_Medical_Surgical_Description</th>\n",
              "      <th>Payment_Typology1</th>\n",
              "      <th>Total_Charges</th>\n",
              "      <th>Total_Costs</th>\n",
              "    </tr>\n",
              "  </thead>\n",
              "  <tbody>\n",
              "    <tr>\n",
              "      <th>2</th>\n",
              "      <td>Montefiore Mount Vernon Hospital</td>\n",
              "      <td>50 to 69</td>\n",
              "      <td>M</td>\n",
              "      <td>8.0</td>\n",
              "      <td>Emergency</td>\n",
              "      <td>099</td>\n",
              "      <td>Hypertension with complications and secondary ...</td>\n",
              "      <td>108</td>\n",
              "      <td>INDWELLING CATHETER</td>\n",
              "      <td>194</td>\n",
              "      <td>Heart failure</td>\n",
              "      <td>05</td>\n",
              "      <td>Diseases and Disorders of the Circulatory System</td>\n",
              "      <td>3</td>\n",
              "      <td>Major</td>\n",
              "      <td>Moderate</td>\n",
              "      <td>Medical</td>\n",
              "      <td>Medicaid</td>\n",
              "      <td>58517.00</td>\n",
              "      <td>26046.50</td>\n",
              "    </tr>\n",
              "    <tr>\n",
              "      <th>3</th>\n",
              "      <td>Montefiore Mount Vernon Hospital</td>\n",
              "      <td>30 to 49</td>\n",
              "      <td>F</td>\n",
              "      <td>6.0</td>\n",
              "      <td>Emergency</td>\n",
              "      <td>161</td>\n",
              "      <td>Other diseases of kidney and ureters</td>\n",
              "      <td>102</td>\n",
              "      <td>URETERAL CATHETERIZATN</td>\n",
              "      <td>465</td>\n",
              "      <td>Urinary stones &amp; acquired upper urinary tract ...</td>\n",
              "      <td>11</td>\n",
              "      <td>Diseases and Disorders of the Kidney and Urina...</td>\n",
              "      <td>2</td>\n",
              "      <td>Moderate</td>\n",
              "      <td>Moderate</td>\n",
              "      <td>Medical</td>\n",
              "      <td>Department of Corrections</td>\n",
              "      <td>39647.04</td>\n",
              "      <td>17397.59</td>\n",
              "    </tr>\n",
              "    <tr>\n",
              "      <th>4</th>\n",
              "      <td>Montefiore Mount Vernon Hospital</td>\n",
              "      <td>50 to 69</td>\n",
              "      <td>F</td>\n",
              "      <td>4.0</td>\n",
              "      <td>Emergency</td>\n",
              "      <td>238</td>\n",
              "      <td>Complications of surgical procedures or medica...</td>\n",
              "      <td>222</td>\n",
              "      <td>BLOOD TRANSFUSION</td>\n",
              "      <td>721</td>\n",
              "      <td>Post-operative, post-traumatic, other device i...</td>\n",
              "      <td>18</td>\n",
              "      <td>Infectious and Parasitic Diseases, Systemic or...</td>\n",
              "      <td>2</td>\n",
              "      <td>Moderate</td>\n",
              "      <td>Moderate</td>\n",
              "      <td>Medical</td>\n",
              "      <td>Medicaid</td>\n",
              "      <td>36031.09</td>\n",
              "      <td>16118.84</td>\n",
              "    </tr>\n",
              "    <tr>\n",
              "      <th>5</th>\n",
              "      <td>Montefiore Mount Vernon Hospital</td>\n",
              "      <td>18 to 29</td>\n",
              "      <td>F</td>\n",
              "      <td>4.0</td>\n",
              "      <td>Emergency</td>\n",
              "      <td>002</td>\n",
              "      <td>Septicemia (except in labor)</td>\n",
              "      <td>000</td>\n",
              "      <td>NO PROC</td>\n",
              "      <td>720</td>\n",
              "      <td>Septicemia &amp; disseminated infections</td>\n",
              "      <td>18</td>\n",
              "      <td>Infectious and Parasitic Diseases, Systemic or...</td>\n",
              "      <td>2</td>\n",
              "      <td>Moderate</td>\n",
              "      <td>Minor</td>\n",
              "      <td>Medical</td>\n",
              "      <td>Department of Corrections</td>\n",
              "      <td>30534.00</td>\n",
              "      <td>11921.05</td>\n",
              "    </tr>\n",
              "    <tr>\n",
              "      <th>6</th>\n",
              "      <td>Montefiore Mount Vernon Hospital</td>\n",
              "      <td>50 to 69</td>\n",
              "      <td>M</td>\n",
              "      <td>3.0</td>\n",
              "      <td>Emergency</td>\n",
              "      <td>660</td>\n",
              "      <td>Alcohol-related disorders</td>\n",
              "      <td>222</td>\n",
              "      <td>BLOOD TRANSFUSION</td>\n",
              "      <td>280</td>\n",
              "      <td>Alcoholic liver disease</td>\n",
              "      <td>07</td>\n",
              "      <td>Diseases and Disorders of the Hepatobiliary Sy...</td>\n",
              "      <td>3</td>\n",
              "      <td>Major</td>\n",
              "      <td>Major</td>\n",
              "      <td>Medical</td>\n",
              "      <td>Medicare</td>\n",
              "      <td>49290.08</td>\n",
              "      <td>18503.26</td>\n",
              "    </tr>\n",
              "    <tr>\n",
              "      <th>...</th>\n",
              "      <td>...</td>\n",
              "      <td>...</td>\n",
              "      <td>...</td>\n",
              "      <td>...</td>\n",
              "      <td>...</td>\n",
              "      <td>...</td>\n",
              "      <td>...</td>\n",
              "      <td>...</td>\n",
              "      <td>...</td>\n",
              "      <td>...</td>\n",
              "      <td>...</td>\n",
              "      <td>...</td>\n",
              "      <td>...</td>\n",
              "      <td>...</td>\n",
              "      <td>...</td>\n",
              "      <td>...</td>\n",
              "      <td>...</td>\n",
              "      <td>...</td>\n",
              "      <td>...</td>\n",
              "      <td>...</td>\n",
              "    </tr>\n",
              "    <tr>\n",
              "      <th>2343564</th>\n",
              "      <td>Hospital for Special Surgery</td>\n",
              "      <td>50 to 69</td>\n",
              "      <td>M</td>\n",
              "      <td>8.0</td>\n",
              "      <td>Elective</td>\n",
              "      <td>238</td>\n",
              "      <td>Complications of surgical procedures or medica...</td>\n",
              "      <td>142</td>\n",
              "      <td>PARTIAL EXCISION BONE</td>\n",
              "      <td>309</td>\n",
              "      <td>Other significant hip and femur surgery</td>\n",
              "      <td>8</td>\n",
              "      <td>Diseases and Disorders of the Musculoskeletal ...</td>\n",
              "      <td>2</td>\n",
              "      <td>Moderate</td>\n",
              "      <td>Minor</td>\n",
              "      <td>Surgical</td>\n",
              "      <td>Private Health Insurance</td>\n",
              "      <td>93547.00</td>\n",
              "      <td>33621.00</td>\n",
              "    </tr>\n",
              "    <tr>\n",
              "      <th>2343565</th>\n",
              "      <td>Good Samaritan Hospital of Suffern</td>\n",
              "      <td>50 to 69</td>\n",
              "      <td>F</td>\n",
              "      <td>2.0</td>\n",
              "      <td>Elective</td>\n",
              "      <td>133</td>\n",
              "      <td>Other lower respiratory disease</td>\n",
              "      <td>36</td>\n",
              "      <td>LOBECTOMY/PNEUMONECTOMY</td>\n",
              "      <td>120</td>\n",
              "      <td>Major respiratory &amp; chest procedures</td>\n",
              "      <td>4</td>\n",
              "      <td>Diseases and Disorders of the Respiratory System</td>\n",
              "      <td>1</td>\n",
              "      <td>Minor</td>\n",
              "      <td>Moderate</td>\n",
              "      <td>Surgical</td>\n",
              "      <td>Private Health Insurance</td>\n",
              "      <td>87545.08</td>\n",
              "      <td>16781.23</td>\n",
              "    </tr>\n",
              "    <tr>\n",
              "      <th>2343566</th>\n",
              "      <td>Good Samaritan Hospital of Suffern</td>\n",
              "      <td>50 to 69</td>\n",
              "      <td>F</td>\n",
              "      <td>2.0</td>\n",
              "      <td>Emergency</td>\n",
              "      <td>101</td>\n",
              "      <td>Coronary atherosclerosis and other heart disease</td>\n",
              "      <td>0</td>\n",
              "      <td>NO PROC</td>\n",
              "      <td>198</td>\n",
              "      <td>Angina pectoris &amp; coronary atherosclerosis</td>\n",
              "      <td>5</td>\n",
              "      <td>Diseases and Disorders of the Circulatory System</td>\n",
              "      <td>2</td>\n",
              "      <td>Moderate</td>\n",
              "      <td>Moderate</td>\n",
              "      <td>Medical</td>\n",
              "      <td>Medicaid</td>\n",
              "      <td>31896.05</td>\n",
              "      <td>6003.38</td>\n",
              "    </tr>\n",
              "    <tr>\n",
              "      <th>2343568</th>\n",
              "      <td>Montefiore Med Center - Jack D Weiler Hosp of ...</td>\n",
              "      <td>70 or Older</td>\n",
              "      <td>F</td>\n",
              "      <td>2.0</td>\n",
              "      <td>Elective</td>\n",
              "      <td>25</td>\n",
              "      <td>Cancer of uterus</td>\n",
              "      <td>124</td>\n",
              "      <td>HYSTERECTOMY; AB/VAG</td>\n",
              "      <td>512</td>\n",
              "      <td>Uterine &amp; adnexa procedures for non-ovarian &amp; ...</td>\n",
              "      <td>13</td>\n",
              "      <td>Diseases and Disorders of the Female Reproduct...</td>\n",
              "      <td>2</td>\n",
              "      <td>Moderate</td>\n",
              "      <td>Minor</td>\n",
              "      <td>Surgical</td>\n",
              "      <td>Medicare</td>\n",
              "      <td>66399.81</td>\n",
              "      <td>13068.87</td>\n",
              "    </tr>\n",
              "    <tr>\n",
              "      <th>2343569</th>\n",
              "      <td>St James Mercy Hospital</td>\n",
              "      <td>18 to 29</td>\n",
              "      <td>F</td>\n",
              "      <td>1.0</td>\n",
              "      <td>Emergency</td>\n",
              "      <td>660</td>\n",
              "      <td>Alcohol-related disorders</td>\n",
              "      <td>219</td>\n",
              "      <td>ALCO/DRUG REHAB/DETOX</td>\n",
              "      <td>775</td>\n",
              "      <td>Alcohol abuse &amp; dependence</td>\n",
              "      <td>20</td>\n",
              "      <td>Alcohol/Drug Use and Alcohol/Drug Induced Orga...</td>\n",
              "      <td>2</td>\n",
              "      <td>Moderate</td>\n",
              "      <td>Minor</td>\n",
              "      <td>Medical</td>\n",
              "      <td>Medicaid</td>\n",
              "      <td>2933.75</td>\n",
              "      <td>1225.95</td>\n",
              "    </tr>\n",
              "  </tbody>\n",
              "</table>\n",
              "<p>2241333 rows × 20 columns</p>\n",
              "</div>\n",
              "      <button class=\"colab-df-convert\" onclick=\"convertToInteractive('df-b6183aa7-a30b-4bd5-8a7e-53c2db75ecef')\"\n",
              "              title=\"Convert this dataframe to an interactive table.\"\n",
              "              style=\"display:none;\">\n",
              "        \n",
              "  <svg xmlns=\"http://www.w3.org/2000/svg\" height=\"24px\"viewBox=\"0 0 24 24\"\n",
              "       width=\"24px\">\n",
              "    <path d=\"M0 0h24v24H0V0z\" fill=\"none\"/>\n",
              "    <path d=\"M18.56 5.44l.94 2.06.94-2.06 2.06-.94-2.06-.94-.94-2.06-.94 2.06-2.06.94zm-11 1L8.5 8.5l.94-2.06 2.06-.94-2.06-.94L8.5 2.5l-.94 2.06-2.06.94zm10 10l.94 2.06.94-2.06 2.06-.94-2.06-.94-.94-2.06-.94 2.06-2.06.94z\"/><path d=\"M17.41 7.96l-1.37-1.37c-.4-.4-.92-.59-1.43-.59-.52 0-1.04.2-1.43.59L10.3 9.45l-7.72 7.72c-.78.78-.78 2.05 0 2.83L4 21.41c.39.39.9.59 1.41.59.51 0 1.02-.2 1.41-.59l7.78-7.78 2.81-2.81c.8-.78.8-2.07 0-2.86zM5.41 20L4 18.59l7.72-7.72 1.47 1.35L5.41 20z\"/>\n",
              "  </svg>\n",
              "      </button>\n",
              "      \n",
              "  <style>\n",
              "    .colab-df-container {\n",
              "      display:flex;\n",
              "      flex-wrap:wrap;\n",
              "      gap: 12px;\n",
              "    }\n",
              "\n",
              "    .colab-df-convert {\n",
              "      background-color: #E8F0FE;\n",
              "      border: none;\n",
              "      border-radius: 50%;\n",
              "      cursor: pointer;\n",
              "      display: none;\n",
              "      fill: #1967D2;\n",
              "      height: 32px;\n",
              "      padding: 0 0 0 0;\n",
              "      width: 32px;\n",
              "    }\n",
              "\n",
              "    .colab-df-convert:hover {\n",
              "      background-color: #E2EBFA;\n",
              "      box-shadow: 0px 1px 2px rgba(60, 64, 67, 0.3), 0px 1px 3px 1px rgba(60, 64, 67, 0.15);\n",
              "      fill: #174EA6;\n",
              "    }\n",
              "\n",
              "    [theme=dark] .colab-df-convert {\n",
              "      background-color: #3B4455;\n",
              "      fill: #D2E3FC;\n",
              "    }\n",
              "\n",
              "    [theme=dark] .colab-df-convert:hover {\n",
              "      background-color: #434B5C;\n",
              "      box-shadow: 0px 1px 3px 1px rgba(0, 0, 0, 0.15);\n",
              "      filter: drop-shadow(0px 1px 2px rgba(0, 0, 0, 0.3));\n",
              "      fill: #FFFFFF;\n",
              "    }\n",
              "  </style>\n",
              "\n",
              "      <script>\n",
              "        const buttonEl =\n",
              "          document.querySelector('#df-b6183aa7-a30b-4bd5-8a7e-53c2db75ecef button.colab-df-convert');\n",
              "        buttonEl.style.display =\n",
              "          google.colab.kernel.accessAllowed ? 'block' : 'none';\n",
              "\n",
              "        async function convertToInteractive(key) {\n",
              "          const element = document.querySelector('#df-b6183aa7-a30b-4bd5-8a7e-53c2db75ecef');\n",
              "          const dataTable =\n",
              "            await google.colab.kernel.invokeFunction('convertToInteractive',\n",
              "                                                     [key], {});\n",
              "          if (!dataTable) return;\n",
              "\n",
              "          const docLinkHtml = 'Like what you see? Visit the ' +\n",
              "            '<a target=\"_blank\" href=https://colab.research.google.com/notebooks/data_table.ipynb>data table notebook</a>'\n",
              "            + ' to learn more about interactive tables.';\n",
              "          element.innerHTML = '';\n",
              "          dataTable['output_type'] = 'display_data';\n",
              "          await google.colab.output.renderOutput(dataTable, element);\n",
              "          const docLink = document.createElement('div');\n",
              "          docLink.innerHTML = docLinkHtml;\n",
              "          element.appendChild(docLink);\n",
              "        }\n",
              "      </script>\n",
              "    </div>\n",
              "  </div>\n",
              "  "
            ]
          },
          "metadata": {},
          "execution_count": 50
        }
      ]
    },
    {
      "cell_type": "code",
      "source": [
        "df.reset_index(inplace = True)\n",
        "\n",
        "df"
      ],
      "metadata": {
        "id": "aBit-o3sy0o1",
        "colab": {
          "base_uri": "https://localhost:8080/",
          "height": 904
        },
        "outputId": "c100c58e-1fe1-48f4-fc14-5a58efabe68e"
      },
      "id": "aBit-o3sy0o1",
      "execution_count": null,
      "outputs": [
        {
          "output_type": "execute_result",
          "data": {
            "text/plain": [
              "           index                                      Facility_Name  \\\n",
              "0              2                   Montefiore Mount Vernon Hospital   \n",
              "1              3                   Montefiore Mount Vernon Hospital   \n",
              "2              4                   Montefiore Mount Vernon Hospital   \n",
              "3              5                   Montefiore Mount Vernon Hospital   \n",
              "4              6                   Montefiore Mount Vernon Hospital   \n",
              "...          ...                                                ...   \n",
              "2302677  2343564                       Hospital for Special Surgery   \n",
              "2302678  2343565                 Good Samaritan Hospital of Suffern   \n",
              "2302679  2343566                 Good Samaritan Hospital of Suffern   \n",
              "2302680  2343568  Montefiore Med Center - Jack D Weiler Hosp of ...   \n",
              "2302681  2343569                            St James Mercy Hospital   \n",
              "\n",
              "           Age_Group Gender  Length_of_Stay Type_of_Admission  \\\n",
              "0           50 to 69      M             8.0         Emergency   \n",
              "1           30 to 49      F             6.0         Emergency   \n",
              "2           50 to 69      F             4.0         Emergency   \n",
              "3           18 to 29      F             4.0         Emergency   \n",
              "4           50 to 69      M             3.0         Emergency   \n",
              "...              ...    ...             ...               ...   \n",
              "2302677     50 to 69      M             8.0          Elective   \n",
              "2302678     50 to 69      F             2.0          Elective   \n",
              "2302679     50 to 69      F             2.0         Emergency   \n",
              "2302680  70 or Older      F             2.0          Elective   \n",
              "2302681     18 to 29      F             1.0         Emergency   \n",
              "\n",
              "        CCS_Diagnosis_Code                          CCS_Diagnosis_Description  \\\n",
              "0                      099  Hypertension with complications and secondary ...   \n",
              "1                      161               Other diseases of kidney and ureters   \n",
              "2                      238  Complications of surgical procedures or medica...   \n",
              "3                      002                       Septicemia (except in labor)   \n",
              "4                      660                          Alcohol-related disorders   \n",
              "...                    ...                                                ...   \n",
              "2302677                238  Complications of surgical procedures or medica...   \n",
              "2302678                133                    Other lower respiratory disease   \n",
              "2302679                101   Coronary atherosclerosis and other heart disease   \n",
              "2302680                 25                                   Cancer of uterus   \n",
              "2302681                660                          Alcohol-related disorders   \n",
              "\n",
              "        CCS_Procedure_Code CCS_Procedure_Description APR-DRG_Code  \\\n",
              "0                      108       INDWELLING CATHETER          194   \n",
              "1                      102    URETERAL CATHETERIZATN          465   \n",
              "2                      222         BLOOD TRANSFUSION          721   \n",
              "3                      000                   NO PROC          720   \n",
              "4                      222         BLOOD TRANSFUSION          280   \n",
              "...                    ...                       ...          ...   \n",
              "2302677                142     PARTIAL EXCISION BONE          309   \n",
              "2302678                 36   LOBECTOMY/PNEUMONECTOMY          120   \n",
              "2302679                  0                   NO PROC          198   \n",
              "2302680                124      HYSTERECTOMY; AB/VAG          512   \n",
              "2302681                219     ALCO/DRUG REHAB/DETOX          775   \n",
              "\n",
              "                                       APR_DRG_Description APR_MDC_Code  \\\n",
              "0                                            Heart failure           05   \n",
              "1        Urinary stones & acquired upper urinary tract ...           11   \n",
              "2        Post-operative, post-traumatic, other device i...           18   \n",
              "3                     Septicemia & disseminated infections           18   \n",
              "4                                  Alcoholic liver disease           07   \n",
              "...                                                    ...          ...   \n",
              "2302677            Other significant hip and femur surgery            8   \n",
              "2302678               Major respiratory & chest procedures            4   \n",
              "2302679         Angina pectoris & coronary atherosclerosis            5   \n",
              "2302680  Uterine & adnexa procedures for non-ovarian & ...           13   \n",
              "2302681                         Alcohol abuse & dependence           20   \n",
              "\n",
              "                                       APR_MDC_Description  \\\n",
              "0         Diseases and Disorders of the Circulatory System   \n",
              "1        Diseases and Disorders of the Kidney and Urina...   \n",
              "2        Infectious and Parasitic Diseases, Systemic or...   \n",
              "3        Infectious and Parasitic Diseases, Systemic or...   \n",
              "4        Diseases and Disorders of the Hepatobiliary Sy...   \n",
              "...                                                    ...   \n",
              "2302677  Diseases and Disorders of the Musculoskeletal ...   \n",
              "2302678   Diseases and Disorders of the Respiratory System   \n",
              "2302679   Diseases and Disorders of the Circulatory System   \n",
              "2302680  Diseases and Disorders of the Female Reproduct...   \n",
              "2302681  Alcohol/Drug Use and Alcohol/Drug Induced Orga...   \n",
              "\n",
              "        APR_Severity_of_Illness_Code APR_Severity_of_Illness_Description  \\\n",
              "0                                  3                               Major   \n",
              "1                                  2                            Moderate   \n",
              "2                                  2                            Moderate   \n",
              "3                                  2                            Moderate   \n",
              "4                                  3                               Major   \n",
              "...                              ...                                 ...   \n",
              "2302677                            2                            Moderate   \n",
              "2302678                            1                               Minor   \n",
              "2302679                            2                            Moderate   \n",
              "2302680                            2                            Moderate   \n",
              "2302681                            2                            Moderate   \n",
              "\n",
              "        APR_Risk_of_Mortality APR_Medical_Surgical_Description  \\\n",
              "0                    Moderate                          Medical   \n",
              "1                    Moderate                          Medical   \n",
              "2                    Moderate                          Medical   \n",
              "3                       Minor                          Medical   \n",
              "4                       Major                          Medical   \n",
              "...                       ...                              ...   \n",
              "2302677                 Minor                         Surgical   \n",
              "2302678              Moderate                         Surgical   \n",
              "2302679              Moderate                          Medical   \n",
              "2302680                 Minor                         Surgical   \n",
              "2302681                 Minor                          Medical   \n",
              "\n",
              "                 Payment_Typology1  Total_Charges  Total_Costs  \n",
              "0                         Medicaid       58517.00     26046.50  \n",
              "1        Department of Corrections       39647.04     17397.59  \n",
              "2                         Medicaid       36031.09     16118.84  \n",
              "3        Department of Corrections       30534.00     11921.05  \n",
              "4                         Medicare       49290.08     18503.26  \n",
              "...                            ...            ...          ...  \n",
              "2302677   Private Health Insurance       93547.00     33621.00  \n",
              "2302678   Private Health Insurance       87545.08     16781.23  \n",
              "2302679                   Medicaid       31896.05      6003.38  \n",
              "2302680                   Medicare       66399.81     13068.87  \n",
              "2302681                   Medicaid        2933.75      1225.95  \n",
              "\n",
              "[2302682 rows x 21 columns]"
            ],
            "text/html": [
              "\n",
              "  <div id=\"df-a458b6d0-022a-45ab-b00e-9efebc83a5e1\">\n",
              "    <div class=\"colab-df-container\">\n",
              "      <div>\n",
              "<style scoped>\n",
              "    .dataframe tbody tr th:only-of-type {\n",
              "        vertical-align: middle;\n",
              "    }\n",
              "\n",
              "    .dataframe tbody tr th {\n",
              "        vertical-align: top;\n",
              "    }\n",
              "\n",
              "    .dataframe thead th {\n",
              "        text-align: right;\n",
              "    }\n",
              "</style>\n",
              "<table border=\"1\" class=\"dataframe\">\n",
              "  <thead>\n",
              "    <tr style=\"text-align: right;\">\n",
              "      <th></th>\n",
              "      <th>index</th>\n",
              "      <th>Facility_Name</th>\n",
              "      <th>Age_Group</th>\n",
              "      <th>Gender</th>\n",
              "      <th>Length_of_Stay</th>\n",
              "      <th>Type_of_Admission</th>\n",
              "      <th>CCS_Diagnosis_Code</th>\n",
              "      <th>CCS_Diagnosis_Description</th>\n",
              "      <th>CCS_Procedure_Code</th>\n",
              "      <th>CCS_Procedure_Description</th>\n",
              "      <th>APR-DRG_Code</th>\n",
              "      <th>APR_DRG_Description</th>\n",
              "      <th>APR_MDC_Code</th>\n",
              "      <th>APR_MDC_Description</th>\n",
              "      <th>APR_Severity_of_Illness_Code</th>\n",
              "      <th>APR_Severity_of_Illness_Description</th>\n",
              "      <th>APR_Risk_of_Mortality</th>\n",
              "      <th>APR_Medical_Surgical_Description</th>\n",
              "      <th>Payment_Typology1</th>\n",
              "      <th>Total_Charges</th>\n",
              "      <th>Total_Costs</th>\n",
              "    </tr>\n",
              "  </thead>\n",
              "  <tbody>\n",
              "    <tr>\n",
              "      <th>0</th>\n",
              "      <td>2</td>\n",
              "      <td>Montefiore Mount Vernon Hospital</td>\n",
              "      <td>50 to 69</td>\n",
              "      <td>M</td>\n",
              "      <td>8.0</td>\n",
              "      <td>Emergency</td>\n",
              "      <td>099</td>\n",
              "      <td>Hypertension with complications and secondary ...</td>\n",
              "      <td>108</td>\n",
              "      <td>INDWELLING CATHETER</td>\n",
              "      <td>194</td>\n",
              "      <td>Heart failure</td>\n",
              "      <td>05</td>\n",
              "      <td>Diseases and Disorders of the Circulatory System</td>\n",
              "      <td>3</td>\n",
              "      <td>Major</td>\n",
              "      <td>Moderate</td>\n",
              "      <td>Medical</td>\n",
              "      <td>Medicaid</td>\n",
              "      <td>58517.00</td>\n",
              "      <td>26046.50</td>\n",
              "    </tr>\n",
              "    <tr>\n",
              "      <th>1</th>\n",
              "      <td>3</td>\n",
              "      <td>Montefiore Mount Vernon Hospital</td>\n",
              "      <td>30 to 49</td>\n",
              "      <td>F</td>\n",
              "      <td>6.0</td>\n",
              "      <td>Emergency</td>\n",
              "      <td>161</td>\n",
              "      <td>Other diseases of kidney and ureters</td>\n",
              "      <td>102</td>\n",
              "      <td>URETERAL CATHETERIZATN</td>\n",
              "      <td>465</td>\n",
              "      <td>Urinary stones &amp; acquired upper urinary tract ...</td>\n",
              "      <td>11</td>\n",
              "      <td>Diseases and Disorders of the Kidney and Urina...</td>\n",
              "      <td>2</td>\n",
              "      <td>Moderate</td>\n",
              "      <td>Moderate</td>\n",
              "      <td>Medical</td>\n",
              "      <td>Department of Corrections</td>\n",
              "      <td>39647.04</td>\n",
              "      <td>17397.59</td>\n",
              "    </tr>\n",
              "    <tr>\n",
              "      <th>2</th>\n",
              "      <td>4</td>\n",
              "      <td>Montefiore Mount Vernon Hospital</td>\n",
              "      <td>50 to 69</td>\n",
              "      <td>F</td>\n",
              "      <td>4.0</td>\n",
              "      <td>Emergency</td>\n",
              "      <td>238</td>\n",
              "      <td>Complications of surgical procedures or medica...</td>\n",
              "      <td>222</td>\n",
              "      <td>BLOOD TRANSFUSION</td>\n",
              "      <td>721</td>\n",
              "      <td>Post-operative, post-traumatic, other device i...</td>\n",
              "      <td>18</td>\n",
              "      <td>Infectious and Parasitic Diseases, Systemic or...</td>\n",
              "      <td>2</td>\n",
              "      <td>Moderate</td>\n",
              "      <td>Moderate</td>\n",
              "      <td>Medical</td>\n",
              "      <td>Medicaid</td>\n",
              "      <td>36031.09</td>\n",
              "      <td>16118.84</td>\n",
              "    </tr>\n",
              "    <tr>\n",
              "      <th>3</th>\n",
              "      <td>5</td>\n",
              "      <td>Montefiore Mount Vernon Hospital</td>\n",
              "      <td>18 to 29</td>\n",
              "      <td>F</td>\n",
              "      <td>4.0</td>\n",
              "      <td>Emergency</td>\n",
              "      <td>002</td>\n",
              "      <td>Septicemia (except in labor)</td>\n",
              "      <td>000</td>\n",
              "      <td>NO PROC</td>\n",
              "      <td>720</td>\n",
              "      <td>Septicemia &amp; disseminated infections</td>\n",
              "      <td>18</td>\n",
              "      <td>Infectious and Parasitic Diseases, Systemic or...</td>\n",
              "      <td>2</td>\n",
              "      <td>Moderate</td>\n",
              "      <td>Minor</td>\n",
              "      <td>Medical</td>\n",
              "      <td>Department of Corrections</td>\n",
              "      <td>30534.00</td>\n",
              "      <td>11921.05</td>\n",
              "    </tr>\n",
              "    <tr>\n",
              "      <th>4</th>\n",
              "      <td>6</td>\n",
              "      <td>Montefiore Mount Vernon Hospital</td>\n",
              "      <td>50 to 69</td>\n",
              "      <td>M</td>\n",
              "      <td>3.0</td>\n",
              "      <td>Emergency</td>\n",
              "      <td>660</td>\n",
              "      <td>Alcohol-related disorders</td>\n",
              "      <td>222</td>\n",
              "      <td>BLOOD TRANSFUSION</td>\n",
              "      <td>280</td>\n",
              "      <td>Alcoholic liver disease</td>\n",
              "      <td>07</td>\n",
              "      <td>Diseases and Disorders of the Hepatobiliary Sy...</td>\n",
              "      <td>3</td>\n",
              "      <td>Major</td>\n",
              "      <td>Major</td>\n",
              "      <td>Medical</td>\n",
              "      <td>Medicare</td>\n",
              "      <td>49290.08</td>\n",
              "      <td>18503.26</td>\n",
              "    </tr>\n",
              "    <tr>\n",
              "      <th>...</th>\n",
              "      <td>...</td>\n",
              "      <td>...</td>\n",
              "      <td>...</td>\n",
              "      <td>...</td>\n",
              "      <td>...</td>\n",
              "      <td>...</td>\n",
              "      <td>...</td>\n",
              "      <td>...</td>\n",
              "      <td>...</td>\n",
              "      <td>...</td>\n",
              "      <td>...</td>\n",
              "      <td>...</td>\n",
              "      <td>...</td>\n",
              "      <td>...</td>\n",
              "      <td>...</td>\n",
              "      <td>...</td>\n",
              "      <td>...</td>\n",
              "      <td>...</td>\n",
              "      <td>...</td>\n",
              "      <td>...</td>\n",
              "      <td>...</td>\n",
              "    </tr>\n",
              "    <tr>\n",
              "      <th>2302677</th>\n",
              "      <td>2343564</td>\n",
              "      <td>Hospital for Special Surgery</td>\n",
              "      <td>50 to 69</td>\n",
              "      <td>M</td>\n",
              "      <td>8.0</td>\n",
              "      <td>Elective</td>\n",
              "      <td>238</td>\n",
              "      <td>Complications of surgical procedures or medica...</td>\n",
              "      <td>142</td>\n",
              "      <td>PARTIAL EXCISION BONE</td>\n",
              "      <td>309</td>\n",
              "      <td>Other significant hip and femur surgery</td>\n",
              "      <td>8</td>\n",
              "      <td>Diseases and Disorders of the Musculoskeletal ...</td>\n",
              "      <td>2</td>\n",
              "      <td>Moderate</td>\n",
              "      <td>Minor</td>\n",
              "      <td>Surgical</td>\n",
              "      <td>Private Health Insurance</td>\n",
              "      <td>93547.00</td>\n",
              "      <td>33621.00</td>\n",
              "    </tr>\n",
              "    <tr>\n",
              "      <th>2302678</th>\n",
              "      <td>2343565</td>\n",
              "      <td>Good Samaritan Hospital of Suffern</td>\n",
              "      <td>50 to 69</td>\n",
              "      <td>F</td>\n",
              "      <td>2.0</td>\n",
              "      <td>Elective</td>\n",
              "      <td>133</td>\n",
              "      <td>Other lower respiratory disease</td>\n",
              "      <td>36</td>\n",
              "      <td>LOBECTOMY/PNEUMONECTOMY</td>\n",
              "      <td>120</td>\n",
              "      <td>Major respiratory &amp; chest procedures</td>\n",
              "      <td>4</td>\n",
              "      <td>Diseases and Disorders of the Respiratory System</td>\n",
              "      <td>1</td>\n",
              "      <td>Minor</td>\n",
              "      <td>Moderate</td>\n",
              "      <td>Surgical</td>\n",
              "      <td>Private Health Insurance</td>\n",
              "      <td>87545.08</td>\n",
              "      <td>16781.23</td>\n",
              "    </tr>\n",
              "    <tr>\n",
              "      <th>2302679</th>\n",
              "      <td>2343566</td>\n",
              "      <td>Good Samaritan Hospital of Suffern</td>\n",
              "      <td>50 to 69</td>\n",
              "      <td>F</td>\n",
              "      <td>2.0</td>\n",
              "      <td>Emergency</td>\n",
              "      <td>101</td>\n",
              "      <td>Coronary atherosclerosis and other heart disease</td>\n",
              "      <td>0</td>\n",
              "      <td>NO PROC</td>\n",
              "      <td>198</td>\n",
              "      <td>Angina pectoris &amp; coronary atherosclerosis</td>\n",
              "      <td>5</td>\n",
              "      <td>Diseases and Disorders of the Circulatory System</td>\n",
              "      <td>2</td>\n",
              "      <td>Moderate</td>\n",
              "      <td>Moderate</td>\n",
              "      <td>Medical</td>\n",
              "      <td>Medicaid</td>\n",
              "      <td>31896.05</td>\n",
              "      <td>6003.38</td>\n",
              "    </tr>\n",
              "    <tr>\n",
              "      <th>2302680</th>\n",
              "      <td>2343568</td>\n",
              "      <td>Montefiore Med Center - Jack D Weiler Hosp of ...</td>\n",
              "      <td>70 or Older</td>\n",
              "      <td>F</td>\n",
              "      <td>2.0</td>\n",
              "      <td>Elective</td>\n",
              "      <td>25</td>\n",
              "      <td>Cancer of uterus</td>\n",
              "      <td>124</td>\n",
              "      <td>HYSTERECTOMY; AB/VAG</td>\n",
              "      <td>512</td>\n",
              "      <td>Uterine &amp; adnexa procedures for non-ovarian &amp; ...</td>\n",
              "      <td>13</td>\n",
              "      <td>Diseases and Disorders of the Female Reproduct...</td>\n",
              "      <td>2</td>\n",
              "      <td>Moderate</td>\n",
              "      <td>Minor</td>\n",
              "      <td>Surgical</td>\n",
              "      <td>Medicare</td>\n",
              "      <td>66399.81</td>\n",
              "      <td>13068.87</td>\n",
              "    </tr>\n",
              "    <tr>\n",
              "      <th>2302681</th>\n",
              "      <td>2343569</td>\n",
              "      <td>St James Mercy Hospital</td>\n",
              "      <td>18 to 29</td>\n",
              "      <td>F</td>\n",
              "      <td>1.0</td>\n",
              "      <td>Emergency</td>\n",
              "      <td>660</td>\n",
              "      <td>Alcohol-related disorders</td>\n",
              "      <td>219</td>\n",
              "      <td>ALCO/DRUG REHAB/DETOX</td>\n",
              "      <td>775</td>\n",
              "      <td>Alcohol abuse &amp; dependence</td>\n",
              "      <td>20</td>\n",
              "      <td>Alcohol/Drug Use and Alcohol/Drug Induced Orga...</td>\n",
              "      <td>2</td>\n",
              "      <td>Moderate</td>\n",
              "      <td>Minor</td>\n",
              "      <td>Medical</td>\n",
              "      <td>Medicaid</td>\n",
              "      <td>2933.75</td>\n",
              "      <td>1225.95</td>\n",
              "    </tr>\n",
              "  </tbody>\n",
              "</table>\n",
              "<p>2302682 rows × 21 columns</p>\n",
              "</div>\n",
              "      <button class=\"colab-df-convert\" onclick=\"convertToInteractive('df-a458b6d0-022a-45ab-b00e-9efebc83a5e1')\"\n",
              "              title=\"Convert this dataframe to an interactive table.\"\n",
              "              style=\"display:none;\">\n",
              "        \n",
              "  <svg xmlns=\"http://www.w3.org/2000/svg\" height=\"24px\"viewBox=\"0 0 24 24\"\n",
              "       width=\"24px\">\n",
              "    <path d=\"M0 0h24v24H0V0z\" fill=\"none\"/>\n",
              "    <path d=\"M18.56 5.44l.94 2.06.94-2.06 2.06-.94-2.06-.94-.94-2.06-.94 2.06-2.06.94zm-11 1L8.5 8.5l.94-2.06 2.06-.94-2.06-.94L8.5 2.5l-.94 2.06-2.06.94zm10 10l.94 2.06.94-2.06 2.06-.94-2.06-.94-.94-2.06-.94 2.06-2.06.94z\"/><path d=\"M17.41 7.96l-1.37-1.37c-.4-.4-.92-.59-1.43-.59-.52 0-1.04.2-1.43.59L10.3 9.45l-7.72 7.72c-.78.78-.78 2.05 0 2.83L4 21.41c.39.39.9.59 1.41.59.51 0 1.02-.2 1.41-.59l7.78-7.78 2.81-2.81c.8-.78.8-2.07 0-2.86zM5.41 20L4 18.59l7.72-7.72 1.47 1.35L5.41 20z\"/>\n",
              "  </svg>\n",
              "      </button>\n",
              "      \n",
              "  <style>\n",
              "    .colab-df-container {\n",
              "      display:flex;\n",
              "      flex-wrap:wrap;\n",
              "      gap: 12px;\n",
              "    }\n",
              "\n",
              "    .colab-df-convert {\n",
              "      background-color: #E8F0FE;\n",
              "      border: none;\n",
              "      border-radius: 50%;\n",
              "      cursor: pointer;\n",
              "      display: none;\n",
              "      fill: #1967D2;\n",
              "      height: 32px;\n",
              "      padding: 0 0 0 0;\n",
              "      width: 32px;\n",
              "    }\n",
              "\n",
              "    .colab-df-convert:hover {\n",
              "      background-color: #E2EBFA;\n",
              "      box-shadow: 0px 1px 2px rgba(60, 64, 67, 0.3), 0px 1px 3px 1px rgba(60, 64, 67, 0.15);\n",
              "      fill: #174EA6;\n",
              "    }\n",
              "\n",
              "    [theme=dark] .colab-df-convert {\n",
              "      background-color: #3B4455;\n",
              "      fill: #D2E3FC;\n",
              "    }\n",
              "\n",
              "    [theme=dark] .colab-df-convert:hover {\n",
              "      background-color: #434B5C;\n",
              "      box-shadow: 0px 1px 3px 1px rgba(0, 0, 0, 0.15);\n",
              "      filter: drop-shadow(0px 1px 2px rgba(0, 0, 0, 0.3));\n",
              "      fill: #FFFFFF;\n",
              "    }\n",
              "  </style>\n",
              "\n",
              "      <script>\n",
              "        const buttonEl =\n",
              "          document.querySelector('#df-a458b6d0-022a-45ab-b00e-9efebc83a5e1 button.colab-df-convert');\n",
              "        buttonEl.style.display =\n",
              "          google.colab.kernel.accessAllowed ? 'block' : 'none';\n",
              "\n",
              "        async function convertToInteractive(key) {\n",
              "          const element = document.querySelector('#df-a458b6d0-022a-45ab-b00e-9efebc83a5e1');\n",
              "          const dataTable =\n",
              "            await google.colab.kernel.invokeFunction('convertToInteractive',\n",
              "                                                     [key], {});\n",
              "          if (!dataTable) return;\n",
              "\n",
              "          const docLinkHtml = 'Like what you see? Visit the ' +\n",
              "            '<a target=\"_blank\" href=https://colab.research.google.com/notebooks/data_table.ipynb>data table notebook</a>'\n",
              "            + ' to learn more about interactive tables.';\n",
              "          element.innerHTML = '';\n",
              "          dataTable['output_type'] = 'display_data';\n",
              "          await google.colab.output.renderOutput(dataTable, element);\n",
              "          const docLink = document.createElement('div');\n",
              "          docLink.innerHTML = docLinkHtml;\n",
              "          element.appendChild(docLink);\n",
              "        }\n",
              "      </script>\n",
              "    </div>\n",
              "  </div>\n",
              "  "
            ]
          },
          "metadata": {},
          "execution_count": 51
        }
      ]
    },
    {
      "cell_type": "code",
      "source": [
        "del df['index']"
      ],
      "metadata": {
        "id": "fyCa1Tn7y4_V"
      },
      "id": "fyCa1Tn7y4_V",
      "execution_count": null,
      "outputs": []
    },
    {
      "cell_type": "code",
      "source": [
        "df.head()"
      ],
      "metadata": {
        "id": "xZiK4bqBy614",
        "colab": {
          "base_uri": "https://localhost:8080/",
          "height": 461
        },
        "outputId": "94c6c97f-1c2d-4fdd-a21d-1e5e7a705f0d"
      },
      "id": "xZiK4bqBy614",
      "execution_count": null,
      "outputs": [
        {
          "output_type": "execute_result",
          "data": {
            "text/plain": [
              "                      Facility_Name Age_Group Gender  Length_of_Stay  \\\n",
              "0  Montefiore Mount Vernon Hospital  50 to 69      M             8.0   \n",
              "1  Montefiore Mount Vernon Hospital  30 to 49      F             6.0   \n",
              "2  Montefiore Mount Vernon Hospital  50 to 69      F             4.0   \n",
              "3  Montefiore Mount Vernon Hospital  18 to 29      F             4.0   \n",
              "4  Montefiore Mount Vernon Hospital  50 to 69      M             3.0   \n",
              "\n",
              "  Type_of_Admission CCS_Diagnosis_Code  \\\n",
              "0         Emergency                099   \n",
              "1         Emergency                161   \n",
              "2         Emergency                238   \n",
              "3         Emergency                002   \n",
              "4         Emergency                660   \n",
              "\n",
              "                           CCS_Diagnosis_Description CCS_Procedure_Code  \\\n",
              "0  Hypertension with complications and secondary ...                108   \n",
              "1               Other diseases of kidney and ureters                102   \n",
              "2  Complications of surgical procedures or medica...                222   \n",
              "3                       Septicemia (except in labor)                000   \n",
              "4                          Alcohol-related disorders                222   \n",
              "\n",
              "  CCS_Procedure_Description APR-DRG_Code  \\\n",
              "0       INDWELLING CATHETER          194   \n",
              "1    URETERAL CATHETERIZATN          465   \n",
              "2         BLOOD TRANSFUSION          721   \n",
              "3                   NO PROC          720   \n",
              "4         BLOOD TRANSFUSION          280   \n",
              "\n",
              "                                 APR_DRG_Description APR_MDC_Code  \\\n",
              "0                                      Heart failure           05   \n",
              "1  Urinary stones & acquired upper urinary tract ...           11   \n",
              "2  Post-operative, post-traumatic, other device i...           18   \n",
              "3               Septicemia & disseminated infections           18   \n",
              "4                            Alcoholic liver disease           07   \n",
              "\n",
              "                                 APR_MDC_Description  \\\n",
              "0   Diseases and Disorders of the Circulatory System   \n",
              "1  Diseases and Disorders of the Kidney and Urina...   \n",
              "2  Infectious and Parasitic Diseases, Systemic or...   \n",
              "3  Infectious and Parasitic Diseases, Systemic or...   \n",
              "4  Diseases and Disorders of the Hepatobiliary Sy...   \n",
              "\n",
              "  APR_Severity_of_Illness_Code APR_Severity_of_Illness_Description  \\\n",
              "0                            3                               Major   \n",
              "1                            2                            Moderate   \n",
              "2                            2                            Moderate   \n",
              "3                            2                            Moderate   \n",
              "4                            3                               Major   \n",
              "\n",
              "  APR_Risk_of_Mortality APR_Medical_Surgical_Description  \\\n",
              "0              Moderate                          Medical   \n",
              "1              Moderate                          Medical   \n",
              "2              Moderate                          Medical   \n",
              "3                 Minor                          Medical   \n",
              "4                 Major                          Medical   \n",
              "\n",
              "           Payment_Typology1  Total_Charges  Total_Costs  \n",
              "0                   Medicaid       58517.00     26046.50  \n",
              "1  Department of Corrections       39647.04     17397.59  \n",
              "2                   Medicaid       36031.09     16118.84  \n",
              "3  Department of Corrections       30534.00     11921.05  \n",
              "4                   Medicare       49290.08     18503.26  "
            ],
            "text/html": [
              "\n",
              "  <div id=\"df-64932769-53df-4ac5-82a7-1ce80b2a34d4\">\n",
              "    <div class=\"colab-df-container\">\n",
              "      <div>\n",
              "<style scoped>\n",
              "    .dataframe tbody tr th:only-of-type {\n",
              "        vertical-align: middle;\n",
              "    }\n",
              "\n",
              "    .dataframe tbody tr th {\n",
              "        vertical-align: top;\n",
              "    }\n",
              "\n",
              "    .dataframe thead th {\n",
              "        text-align: right;\n",
              "    }\n",
              "</style>\n",
              "<table border=\"1\" class=\"dataframe\">\n",
              "  <thead>\n",
              "    <tr style=\"text-align: right;\">\n",
              "      <th></th>\n",
              "      <th>Facility_Name</th>\n",
              "      <th>Age_Group</th>\n",
              "      <th>Gender</th>\n",
              "      <th>Length_of_Stay</th>\n",
              "      <th>Type_of_Admission</th>\n",
              "      <th>CCS_Diagnosis_Code</th>\n",
              "      <th>CCS_Diagnosis_Description</th>\n",
              "      <th>CCS_Procedure_Code</th>\n",
              "      <th>CCS_Procedure_Description</th>\n",
              "      <th>APR-DRG_Code</th>\n",
              "      <th>APR_DRG_Description</th>\n",
              "      <th>APR_MDC_Code</th>\n",
              "      <th>APR_MDC_Description</th>\n",
              "      <th>APR_Severity_of_Illness_Code</th>\n",
              "      <th>APR_Severity_of_Illness_Description</th>\n",
              "      <th>APR_Risk_of_Mortality</th>\n",
              "      <th>APR_Medical_Surgical_Description</th>\n",
              "      <th>Payment_Typology1</th>\n",
              "      <th>Total_Charges</th>\n",
              "      <th>Total_Costs</th>\n",
              "    </tr>\n",
              "  </thead>\n",
              "  <tbody>\n",
              "    <tr>\n",
              "      <th>0</th>\n",
              "      <td>Montefiore Mount Vernon Hospital</td>\n",
              "      <td>50 to 69</td>\n",
              "      <td>M</td>\n",
              "      <td>8.0</td>\n",
              "      <td>Emergency</td>\n",
              "      <td>099</td>\n",
              "      <td>Hypertension with complications and secondary ...</td>\n",
              "      <td>108</td>\n",
              "      <td>INDWELLING CATHETER</td>\n",
              "      <td>194</td>\n",
              "      <td>Heart failure</td>\n",
              "      <td>05</td>\n",
              "      <td>Diseases and Disorders of the Circulatory System</td>\n",
              "      <td>3</td>\n",
              "      <td>Major</td>\n",
              "      <td>Moderate</td>\n",
              "      <td>Medical</td>\n",
              "      <td>Medicaid</td>\n",
              "      <td>58517.00</td>\n",
              "      <td>26046.50</td>\n",
              "    </tr>\n",
              "    <tr>\n",
              "      <th>1</th>\n",
              "      <td>Montefiore Mount Vernon Hospital</td>\n",
              "      <td>30 to 49</td>\n",
              "      <td>F</td>\n",
              "      <td>6.0</td>\n",
              "      <td>Emergency</td>\n",
              "      <td>161</td>\n",
              "      <td>Other diseases of kidney and ureters</td>\n",
              "      <td>102</td>\n",
              "      <td>URETERAL CATHETERIZATN</td>\n",
              "      <td>465</td>\n",
              "      <td>Urinary stones &amp; acquired upper urinary tract ...</td>\n",
              "      <td>11</td>\n",
              "      <td>Diseases and Disorders of the Kidney and Urina...</td>\n",
              "      <td>2</td>\n",
              "      <td>Moderate</td>\n",
              "      <td>Moderate</td>\n",
              "      <td>Medical</td>\n",
              "      <td>Department of Corrections</td>\n",
              "      <td>39647.04</td>\n",
              "      <td>17397.59</td>\n",
              "    </tr>\n",
              "    <tr>\n",
              "      <th>2</th>\n",
              "      <td>Montefiore Mount Vernon Hospital</td>\n",
              "      <td>50 to 69</td>\n",
              "      <td>F</td>\n",
              "      <td>4.0</td>\n",
              "      <td>Emergency</td>\n",
              "      <td>238</td>\n",
              "      <td>Complications of surgical procedures or medica...</td>\n",
              "      <td>222</td>\n",
              "      <td>BLOOD TRANSFUSION</td>\n",
              "      <td>721</td>\n",
              "      <td>Post-operative, post-traumatic, other device i...</td>\n",
              "      <td>18</td>\n",
              "      <td>Infectious and Parasitic Diseases, Systemic or...</td>\n",
              "      <td>2</td>\n",
              "      <td>Moderate</td>\n",
              "      <td>Moderate</td>\n",
              "      <td>Medical</td>\n",
              "      <td>Medicaid</td>\n",
              "      <td>36031.09</td>\n",
              "      <td>16118.84</td>\n",
              "    </tr>\n",
              "    <tr>\n",
              "      <th>3</th>\n",
              "      <td>Montefiore Mount Vernon Hospital</td>\n",
              "      <td>18 to 29</td>\n",
              "      <td>F</td>\n",
              "      <td>4.0</td>\n",
              "      <td>Emergency</td>\n",
              "      <td>002</td>\n",
              "      <td>Septicemia (except in labor)</td>\n",
              "      <td>000</td>\n",
              "      <td>NO PROC</td>\n",
              "      <td>720</td>\n",
              "      <td>Septicemia &amp; disseminated infections</td>\n",
              "      <td>18</td>\n",
              "      <td>Infectious and Parasitic Diseases, Systemic or...</td>\n",
              "      <td>2</td>\n",
              "      <td>Moderate</td>\n",
              "      <td>Minor</td>\n",
              "      <td>Medical</td>\n",
              "      <td>Department of Corrections</td>\n",
              "      <td>30534.00</td>\n",
              "      <td>11921.05</td>\n",
              "    </tr>\n",
              "    <tr>\n",
              "      <th>4</th>\n",
              "      <td>Montefiore Mount Vernon Hospital</td>\n",
              "      <td>50 to 69</td>\n",
              "      <td>M</td>\n",
              "      <td>3.0</td>\n",
              "      <td>Emergency</td>\n",
              "      <td>660</td>\n",
              "      <td>Alcohol-related disorders</td>\n",
              "      <td>222</td>\n",
              "      <td>BLOOD TRANSFUSION</td>\n",
              "      <td>280</td>\n",
              "      <td>Alcoholic liver disease</td>\n",
              "      <td>07</td>\n",
              "      <td>Diseases and Disorders of the Hepatobiliary Sy...</td>\n",
              "      <td>3</td>\n",
              "      <td>Major</td>\n",
              "      <td>Major</td>\n",
              "      <td>Medical</td>\n",
              "      <td>Medicare</td>\n",
              "      <td>49290.08</td>\n",
              "      <td>18503.26</td>\n",
              "    </tr>\n",
              "  </tbody>\n",
              "</table>\n",
              "</div>\n",
              "      <button class=\"colab-df-convert\" onclick=\"convertToInteractive('df-64932769-53df-4ac5-82a7-1ce80b2a34d4')\"\n",
              "              title=\"Convert this dataframe to an interactive table.\"\n",
              "              style=\"display:none;\">\n",
              "        \n",
              "  <svg xmlns=\"http://www.w3.org/2000/svg\" height=\"24px\"viewBox=\"0 0 24 24\"\n",
              "       width=\"24px\">\n",
              "    <path d=\"M0 0h24v24H0V0z\" fill=\"none\"/>\n",
              "    <path d=\"M18.56 5.44l.94 2.06.94-2.06 2.06-.94-2.06-.94-.94-2.06-.94 2.06-2.06.94zm-11 1L8.5 8.5l.94-2.06 2.06-.94-2.06-.94L8.5 2.5l-.94 2.06-2.06.94zm10 10l.94 2.06.94-2.06 2.06-.94-2.06-.94-.94-2.06-.94 2.06-2.06.94z\"/><path d=\"M17.41 7.96l-1.37-1.37c-.4-.4-.92-.59-1.43-.59-.52 0-1.04.2-1.43.59L10.3 9.45l-7.72 7.72c-.78.78-.78 2.05 0 2.83L4 21.41c.39.39.9.59 1.41.59.51 0 1.02-.2 1.41-.59l7.78-7.78 2.81-2.81c.8-.78.8-2.07 0-2.86zM5.41 20L4 18.59l7.72-7.72 1.47 1.35L5.41 20z\"/>\n",
              "  </svg>\n",
              "      </button>\n",
              "      \n",
              "  <style>\n",
              "    .colab-df-container {\n",
              "      display:flex;\n",
              "      flex-wrap:wrap;\n",
              "      gap: 12px;\n",
              "    }\n",
              "\n",
              "    .colab-df-convert {\n",
              "      background-color: #E8F0FE;\n",
              "      border: none;\n",
              "      border-radius: 50%;\n",
              "      cursor: pointer;\n",
              "      display: none;\n",
              "      fill: #1967D2;\n",
              "      height: 32px;\n",
              "      padding: 0 0 0 0;\n",
              "      width: 32px;\n",
              "    }\n",
              "\n",
              "    .colab-df-convert:hover {\n",
              "      background-color: #E2EBFA;\n",
              "      box-shadow: 0px 1px 2px rgba(60, 64, 67, 0.3), 0px 1px 3px 1px rgba(60, 64, 67, 0.15);\n",
              "      fill: #174EA6;\n",
              "    }\n",
              "\n",
              "    [theme=dark] .colab-df-convert {\n",
              "      background-color: #3B4455;\n",
              "      fill: #D2E3FC;\n",
              "    }\n",
              "\n",
              "    [theme=dark] .colab-df-convert:hover {\n",
              "      background-color: #434B5C;\n",
              "      box-shadow: 0px 1px 3px 1px rgba(0, 0, 0, 0.15);\n",
              "      filter: drop-shadow(0px 1px 2px rgba(0, 0, 0, 0.3));\n",
              "      fill: #FFFFFF;\n",
              "    }\n",
              "  </style>\n",
              "\n",
              "      <script>\n",
              "        const buttonEl =\n",
              "          document.querySelector('#df-64932769-53df-4ac5-82a7-1ce80b2a34d4 button.colab-df-convert');\n",
              "        buttonEl.style.display =\n",
              "          google.colab.kernel.accessAllowed ? 'block' : 'none';\n",
              "\n",
              "        async function convertToInteractive(key) {\n",
              "          const element = document.querySelector('#df-64932769-53df-4ac5-82a7-1ce80b2a34d4');\n",
              "          const dataTable =\n",
              "            await google.colab.kernel.invokeFunction('convertToInteractive',\n",
              "                                                     [key], {});\n",
              "          if (!dataTable) return;\n",
              "\n",
              "          const docLinkHtml = 'Like what you see? Visit the ' +\n",
              "            '<a target=\"_blank\" href=https://colab.research.google.com/notebooks/data_table.ipynb>data table notebook</a>'\n",
              "            + ' to learn more about interactive tables.';\n",
              "          element.innerHTML = '';\n",
              "          dataTable['output_type'] = 'display_data';\n",
              "          await google.colab.output.renderOutput(dataTable, element);\n",
              "          const docLink = document.createElement('div');\n",
              "          docLink.innerHTML = docLinkHtml;\n",
              "          element.appendChild(docLink);\n",
              "        }\n",
              "      </script>\n",
              "    </div>\n",
              "  </div>\n",
              "  "
            ]
          },
          "metadata": {},
          "execution_count": 53
        }
      ]
    },
    {
      "cell_type": "markdown",
      "source": [
        "**Removing the diagnosis description codes as they do not satisfy the integer conditions. We will encode the description soon on our own**"
      ],
      "metadata": {
        "id": "LRljohrzzVEa"
      },
      "id": "LRljohrzzVEa"
    },
    {
      "cell_type": "code",
      "source": [
        "columns2=['Facility_Name', 'Age_Group', 'Gender', 'Length_of_Stay', 'Type_of_Admission', 'CCS_Diagnosis_Description', 'CCS_Procedure_Description','APR_DRG_Description','APR_MDC_Description','APR_Severity_of_Illness_Description','APR_Risk_of_Mortality','APR_Medical_Surgical_Description','Payment_Typology1','Total_Costs']"
      ],
      "metadata": {
        "id": "sVMJAhWczlQi"
      },
      "id": "sVMJAhWczlQi",
      "execution_count": null,
      "outputs": []
    },
    {
      "cell_type": "code",
      "source": [
        "df2=df"
      ],
      "metadata": {
        "id": "bG4DeXQRzqi9"
      },
      "id": "bG4DeXQRzqi9",
      "execution_count": null,
      "outputs": []
    },
    {
      "cell_type": "code",
      "source": [
        "df=df[columns2]"
      ],
      "metadata": {
        "id": "frRs5eL-zrl0"
      },
      "id": "frRs5eL-zrl0",
      "execution_count": null,
      "outputs": []
    },
    {
      "cell_type": "code",
      "source": [
        "df['Age_Group'].value_counts()"
      ],
      "metadata": {
        "id": "x4G5sTB_zrHZ",
        "colab": {
          "base_uri": "https://localhost:8080/"
        },
        "outputId": "fd89064e-84f6-47d2-ae95-59e3285be280"
      },
      "id": "x4G5sTB_zrHZ",
      "execution_count": null,
      "outputs": [
        {
          "output_type": "execute_result",
          "data": {
            "text/plain": [
              "70 or Older    659132\n",
              "50 to 69       646204\n",
              "30 to 49       439330\n",
              "0 to 17        331488\n",
              "18 to 29       226528\n",
              "Name: Age_Group, dtype: int64"
            ]
          },
          "metadata": {},
          "execution_count": 57
        }
      ]
    },
    {
      "cell_type": "code",
      "source": [
        "df.Age_Group.value_counts().plot(kind='barh')"
      ],
      "metadata": {
        "id": "HK7GX2ja1gmY",
        "colab": {
          "base_uri": "https://localhost:8080/",
          "height": 282
        },
        "outputId": "ebe083d6-23ff-423d-d192-7896d56f0b46"
      },
      "id": "HK7GX2ja1gmY",
      "execution_count": null,
      "outputs": [
        {
          "output_type": "execute_result",
          "data": {
            "text/plain": [
              "<matplotlib.axes._subplots.AxesSubplot at 0x7f287ddd5410>"
            ]
          },
          "metadata": {},
          "execution_count": 58
        },
        {
          "output_type": "display_data",
          "data": {
            "text/plain": [
              "<Figure size 432x288 with 1 Axes>"
            ],
            "image/png": "[encoded data removed]"
          },
          "metadata": {
            "needs_background": "light"
          }
        }
      ]
    },
    {
      "cell_type": "code",
      "source": [
        "df['Gender'].value_counts()"
      ],
      "metadata": {
        "id": "LlWrSagwzwEs",
        "colab": {
          "base_uri": "https://localhost:8080/"
        },
        "outputId": "f65dbcc7-acd2-4642-cd96-67acca4ef1f5"
      },
      "id": "LlWrSagwzwEs",
      "execution_count": null,
      "outputs": [
        {
          "output_type": "execute_result",
          "data": {
            "text/plain": [
              "F    1275423\n",
              "M    1027239\n",
              "U         20\n",
              "Name: Gender, dtype: int64"
            ]
          },
          "metadata": {},
          "execution_count": 59
        }
      ]
    },
    {
      "cell_type": "code",
      "source": [
        "df.Gender.value_counts().plot(kind='barh')"
      ],
      "metadata": {
        "id": "hsD8uPuwzxnF",
        "colab": {
          "base_uri": "https://localhost:8080/",
          "height": 295
        },
        "outputId": "9859ad1e-61b1-4ab1-ed83-2fc87dbf18ed"
      },
      "id": "hsD8uPuwzxnF",
      "execution_count": null,
      "outputs": [
        {
          "output_type": "execute_result",
          "data": {
            "text/plain": [
              "<matplotlib.axes._subplots.AxesSubplot at 0x7f287dcfc190>"
            ]
          },
          "metadata": {},
          "execution_count": 60
        },
        {
          "output_type": "display_data",
          "data": {
            "text/plain": [
              "<Figure size 432x288 with 1 Axes>"
            ],
            "image/png": "[encoded data removed]"
          },
          "metadata": {
            "needs_background": "light"
          }
        }
      ]
    },
    {
      "cell_type": "code",
      "source": [
        "#Different Number of Hospitals\n",
        "n=len(df['Facility_Name'].unique())\n",
        "print(n)"
      ],
      "metadata": {
        "id": "sD-QtJkJ1nSU",
        "colab": {
          "base_uri": "https://localhost:8080/"
        },
        "outputId": "1c5ab336-b427-4416-ebaf-6d5bb6f6b454"
      },
      "id": "sD-QtJkJ1nSU",
      "execution_count": null,
      "outputs": [
        {
          "output_type": "stream",
          "name": "stdout",
          "text": [
            "209\n"
          ]
        }
      ]
    },
    {
      "cell_type": "code",
      "source": [
        "df.shape"
      ],
      "metadata": {
        "id": "HfBNeWzm3CIs",
        "colab": {
          "base_uri": "https://localhost:8080/"
        },
        "outputId": "2dacac9a-7f54-43d3-d9e5-7a784ed6ffa1"
      },
      "id": "HfBNeWzm3CIs",
      "execution_count": null,
      "outputs": [
        {
          "output_type": "execute_result",
          "data": {
            "text/plain": [
              "(2302682, 14)"
            ]
          },
          "metadata": {},
          "execution_count": 62
        }
      ]
    },
    {
      "cell_type": "code",
      "source": [
        "df.dtypes"
      ],
      "metadata": {
        "id": "SEO7ry5a1ydj",
        "colab": {
          "base_uri": "https://localhost:8080/"
        },
        "outputId": "48465432-da1c-4597-905d-95557879c8d4"
      },
      "id": "SEO7ry5a1ydj",
      "execution_count": null,
      "outputs": [
        {
          "output_type": "execute_result",
          "data": {
            "text/plain": [
              "Facility_Name                           object\n",
              "Age_Group                               object\n",
              "Gender                                  object\n",
              "Length_of_Stay                         float64\n",
              "Type_of_Admission                       object\n",
              "CCS_Diagnosis_Description               object\n",
              "CCS_Procedure_Description               object\n",
              "APR_DRG_Description                     object\n",
              "APR_MDC_Description                     object\n",
              "APR_Severity_of_Illness_Description     object\n",
              "APR_Risk_of_Mortality                   object\n",
              "APR_Medical_Surgical_Description        object\n",
              "Payment_Typology1                       object\n",
              "Total_Costs                            float64\n",
              "dtype: object"
            ]
          },
          "metadata": {},
          "execution_count": 63
        }
      ]
    },
    {
      "cell_type": "markdown",
      "source": [
        "## **Label Encoding**"
      ],
      "metadata": {
        "id": "GXMdMrD73nWz"
      },
      "id": "GXMdMrD73nWz"
    },
    {
      "cell_type": "code",
      "source": [
        "from sklearn.preprocessing import LabelEncoder\n",
        "labelenc=LabelEncoder()"
      ],
      "metadata": {
        "id": "ZtN05jSM3qXb"
      },
      "id": "ZtN05jSM3qXb",
      "execution_count": null,
      "outputs": []
    },
    {
      "cell_type": "code",
      "source": [
        "df['Facility_Name_Code'] = labelenc.fit_transform(df['Facility_Name'])"
      ],
      "metadata": {
        "id": "fhHxLL2y3sh9"
      },
      "id": "fhHxLL2y3sh9",
      "execution_count": null,
      "outputs": []
    },
    {
      "cell_type": "code",
      "source": [
        "df['Age_Group_Code'] = labelenc.fit_transform(df['Age_Group'])"
      ],
      "metadata": {
        "id": "cO00tBKb3w--"
      },
      "id": "cO00tBKb3w--",
      "execution_count": null,
      "outputs": []
    },
    {
      "cell_type": "code",
      "source": [
        "df['Gender_Code'] = labelenc.fit_transform(df['Gender'])"
      ],
      "metadata": {
        "id": "MD4lP1sH3x7v"
      },
      "id": "MD4lP1sH3x7v",
      "execution_count": null,
      "outputs": []
    },
    {
      "cell_type": "code",
      "source": [
        "df['Type_of_Admission_Code'] = labelenc.fit_transform(df['Type_of_Admission'])"
      ],
      "metadata": {
        "id": "6VYg36zN3y5v"
      },
      "id": "6VYg36zN3y5v",
      "execution_count": null,
      "outputs": []
    },
    {
      "cell_type": "code",
      "source": [
        "df['Risk_of_Mortality_Code'] = labelenc.fit_transform(df['APR_Risk_of_Mortality'])"
      ],
      "metadata": {
        "id": "HZDmfGWN3z9W"
      },
      "id": "HZDmfGWN3z9W",
      "execution_count": null,
      "outputs": []
    },
    {
      "cell_type": "code",
      "source": [
        "df['APR_DRG_Desc_Code'] = labelenc.fit_transform(df['APR_DRG_Description'])"
      ],
      "metadata": {
        "id": "CaHa_UAv31BT"
      },
      "id": "CaHa_UAv31BT",
      "execution_count": null,
      "outputs": []
    },
    {
      "cell_type": "code",
      "source": [
        "df['APR_MDC_Desc_Code'] = labelenc.fit_transform(df['APR_MDC_Description'])"
      ],
      "metadata": {
        "id": "NeB11EJL33KF"
      },
      "id": "NeB11EJL33KF",
      "execution_count": null,
      "outputs": []
    },
    {
      "cell_type": "code",
      "source": [
        "df['Illness_Code']= labelenc.fit_transform(df['APR_Severity_of_Illness_Description'])"
      ],
      "metadata": {
        "id": "ccdOGc_A34P_"
      },
      "id": "ccdOGc_A34P_",
      "execution_count": null,
      "outputs": []
    },
    {
      "cell_type": "code",
      "source": [
        "df['Surgical_Desc_Code'] = labelenc.fit_transform(df['APR_Medical_Surgical_Description'])"
      ],
      "metadata": {
        "id": "y_qKsqyL35YY"
      },
      "id": "y_qKsqyL35YY",
      "execution_count": null,
      "outputs": []
    },
    {
      "cell_type": "code",
      "source": [
        "df['Payment_Typology1_Code'] = labelenc.fit_transform(df['Payment_Typology1'])"
      ],
      "metadata": {
        "id": "ZMi_KJFi36QE"
      },
      "id": "ZMi_KJFi36QE",
      "execution_count": null,
      "outputs": []
    },
    {
      "cell_type": "code",
      "source": [
        "df['CCS_Diagnosis_Encode'] = labelenc.fit_transform(df['CCS_Diagnosis_Description'])"
      ],
      "metadata": {
        "id": "TaOJyqAu37jC"
      },
      "id": "TaOJyqAu37jC",
      "execution_count": null,
      "outputs": []
    },
    {
      "cell_type": "markdown",
      "source": [
        "**Filtering down to the important columns**"
      ],
      "metadata": {
        "id": "V68eFx445JeY"
      },
      "id": "V68eFx445JeY"
    },
    {
      "cell_type": "code",
      "source": [
        "ft_df=['Facility_Name_Code','Age_Group_Code','Gender_Code','Length_of_Stay','Type_of_Admission_Code','CCS_Diagnosis_Encode','APR_DRG_Desc_Code','Illness_Code','Risk_of_Mortality_Code','Surgical_Desc_Code','Payment_Typology1_Code','Total_Costs']"
      ],
      "metadata": {
        "id": "6comR2by38ji"
      },
      "id": "6comR2by38ji",
      "execution_count": null,
      "outputs": []
    },
    {
      "cell_type": "code",
      "source": [
        "df3=df"
      ],
      "metadata": {
        "id": "F5S4wwY54-gu"
      },
      "id": "F5S4wwY54-gu",
      "execution_count": null,
      "outputs": []
    },
    {
      "cell_type": "code",
      "source": [
        "df=df[ft_df]"
      ],
      "metadata": {
        "id": "2N4MPVps5Azf"
      },
      "id": "2N4MPVps5Azf",
      "execution_count": null,
      "outputs": []
    },
    {
      "cell_type": "code",
      "source": [
        "df.dtypes"
      ],
      "metadata": {
        "id": "-eOni0KY5Abm",
        "colab": {
          "base_uri": "https://localhost:8080/"
        },
        "outputId": "b126573a-af27-47b4-e705-5c8afee32298"
      },
      "id": "-eOni0KY5Abm",
      "execution_count": null,
      "outputs": [
        {
          "output_type": "execute_result",
          "data": {
            "text/plain": [
              "Facility_Name_Code          int64\n",
              "Age_Group_Code              int64\n",
              "Gender_Code                 int64\n",
              "Length_of_Stay            float64\n",
              "Type_of_Admission_Code      int64\n",
              "CCS_Diagnosis_Encode        int64\n",
              "APR_DRG_Desc_Code           int64\n",
              "Illness_Code                int64\n",
              "Risk_of_Mortality_Code      int64\n",
              "Surgical_Desc_Code          int64\n",
              "Payment_Typology1_Code      int64\n",
              "Total_Costs               float64\n",
              "dtype: object"
            ]
          },
          "metadata": {},
          "execution_count": 79
        }
      ]
    },
    {
      "cell_type": "markdown",
      "source": [
        "**Correlation**"
      ],
      "metadata": {
        "id": "OSWHX1uK5XR5"
      },
      "id": "OSWHX1uK5XR5"
    },
    {
      "cell_type": "code",
      "source": [
        "df.corr()"
      ],
      "metadata": {
        "id": "FDeaiFPA5C6D",
        "colab": {
          "base_uri": "https://localhost:8080/",
          "height": 490
        },
        "outputId": "41e033f5-0a3b-4169-f6ab-86bfbb36c21f"
      },
      "id": "FDeaiFPA5C6D",
      "execution_count": null,
      "outputs": [
        {
          "output_type": "execute_result",
          "data": {
            "text/plain": [
              "                        Facility_Name_Code  Age_Group_Code  Gender_Code  \\\n",
              "Facility_Name_Code                1.000000        0.013969    -0.005848   \n",
              "Age_Group_Code                    0.013969        1.000000     0.022728   \n",
              "Gender_Code                      -0.005848        0.022728     1.000000   \n",
              "Length_of_Stay                   -0.004070        0.110151     0.055122   \n",
              "Type_of_Admission_Code            0.021481       -0.177003    -0.009090   \n",
              "CCS_Diagnosis_Encode             -0.004358       -0.071467    -0.083229   \n",
              "APR_DRG_Desc_Code                 0.007218       -0.092314    -0.084430   \n",
              "Illness_Code                     -0.021293       -0.136189    -0.043467   \n",
              "Risk_of_Mortality_Code           -0.015636       -0.100481    -0.016017   \n",
              "Surgical_Desc_Code                0.006665        0.121048    -0.032848   \n",
              "Payment_Typology1_Code           -0.014395        0.150420     0.012700   \n",
              "Total_Costs                       0.019269        0.093593     0.037387   \n",
              "\n",
              "                        Length_of_Stay  Type_of_Admission_Code  \\\n",
              "Facility_Name_Code           -0.004070                0.021481   \n",
              "Age_Group_Code                0.110151               -0.177003   \n",
              "Gender_Code                   0.055122               -0.009090   \n",
              "Length_of_Stay                1.000000                0.019077   \n",
              "Type_of_Admission_Code        0.019077                1.000000   \n",
              "CCS_Diagnosis_Encode          0.037275               -0.016353   \n",
              "APR_DRG_Desc_Code             0.002041                0.053562   \n",
              "Illness_Code                 -0.249370               -0.021748   \n",
              "Risk_of_Mortality_Code       -0.198687               -0.018916   \n",
              "Surgical_Desc_Code            0.044950               -0.137911   \n",
              "Payment_Typology1_Code        0.029553               -0.035694   \n",
              "Total_Costs                   0.488168               -0.004025   \n",
              "\n",
              "                        CCS_Diagnosis_Encode  APR_DRG_Desc_Code  Illness_Code  \\\n",
              "Facility_Name_Code                 -0.004358           0.007218     -0.021293   \n",
              "Age_Group_Code                     -0.071467          -0.092314     -0.136189   \n",
              "Gender_Code                        -0.083229          -0.084430     -0.043467   \n",
              "Length_of_Stay                      0.037275           0.002041     -0.249370   \n",
              "Type_of_Admission_Code             -0.016353           0.053562     -0.021748   \n",
              "CCS_Diagnosis_Encode                1.000000           0.351317     -0.007841   \n",
              "APR_DRG_Desc_Code                   0.351317           1.000000     -0.038702   \n",
              "Illness_Code                       -0.007841          -0.038702      1.000000   \n",
              "Risk_of_Mortality_Code             -0.048445          -0.052027      0.516692   \n",
              "Surgical_Desc_Code                 -0.074829          -0.084241     -0.004947   \n",
              "Payment_Typology1_Code             -0.009856          -0.018608     -0.032346   \n",
              "Total_Costs                        -0.020636          -0.008017     -0.190434   \n",
              "\n",
              "                        Risk_of_Mortality_Code  Surgical_Desc_Code  \\\n",
              "Facility_Name_Code                   -0.015636            0.006665   \n",
              "Age_Group_Code                       -0.100481            0.121048   \n",
              "Gender_Code                          -0.016017           -0.032848   \n",
              "Length_of_Stay                       -0.198687            0.044950   \n",
              "Type_of_Admission_Code               -0.018916           -0.137911   \n",
              "CCS_Diagnosis_Encode                 -0.048445           -0.074829   \n",
              "APR_DRG_Desc_Code                    -0.052027           -0.084241   \n",
              "Illness_Code                          0.516692           -0.004947   \n",
              "Risk_of_Mortality_Code                1.000000            0.004051   \n",
              "Surgical_Desc_Code                    0.004051            1.000000   \n",
              "Payment_Typology1_Code               -0.026102           -0.015200   \n",
              "Total_Costs                          -0.143443            0.195898   \n",
              "\n",
              "                        Payment_Typology1_Code  Total_Costs  \n",
              "Facility_Name_Code                   -0.014395     0.019269  \n",
              "Age_Group_Code                        0.150420     0.093593  \n",
              "Gender_Code                           0.012700     0.037387  \n",
              "Length_of_Stay                        0.029553     0.488168  \n",
              "Type_of_Admission_Code               -0.035694    -0.004025  \n",
              "CCS_Diagnosis_Encode                 -0.009856    -0.020636  \n",
              "APR_DRG_Desc_Code                    -0.018608    -0.008017  \n",
              "Illness_Code                         -0.032346    -0.190434  \n",
              "Risk_of_Mortality_Code               -0.026102    -0.143443  \n",
              "Surgical_Desc_Code                   -0.015200     0.195898  \n",
              "Payment_Typology1_Code                1.000000     0.016996  \n",
              "Total_Costs                           0.016996     1.000000  "
            ],
            "text/html": [
              "\n",
              "  <div id=\"df-b74695a4-a1ca-4de5-9b6b-786f6150a48a\">\n",
              "    <div class=\"colab-df-container\">\n",
              "      <div>\n",
              "<style scoped>\n",
              "    .dataframe tbody tr th:only-of-type {\n",
              "        vertical-align: middle;\n",
              "    }\n",
              "\n",
              "    .dataframe tbody tr th {\n",
              "        vertical-align: top;\n",
              "    }\n",
              "\n",
              "    .dataframe thead th {\n",
              "        text-align: right;\n",
              "    }\n",
              "</style>\n",
              "<table border=\"1\" class=\"dataframe\">\n",
              "  <thead>\n",
              "    <tr style=\"text-align: right;\">\n",
              "      <th></th>\n",
              "      <th>Facility_Name_Code</th>\n",
              "      <th>Age_Group_Code</th>\n",
              "      <th>Gender_Code</th>\n",
              "      <th>Length_of_Stay</th>\n",
              "      <th>Type_of_Admission_Code</th>\n",
              "      <th>CCS_Diagnosis_Encode</th>\n",
              "      <th>APR_DRG_Desc_Code</th>\n",
              "      <th>Illness_Code</th>\n",
              "      <th>Risk_of_Mortality_Code</th>\n",
              "      <th>Surgical_Desc_Code</th>\n",
              "      <th>Payment_Typology1_Code</th>\n",
              "      <th>Total_Costs</th>\n",
              "    </tr>\n",
              "  </thead>\n",
              "  <tbody>\n",
              "    <tr>\n",
              "      <th>Facility_Name_Code</th>\n",
              "      <td>1.000000</td>\n",
              "      <td>0.013969</td>\n",
              "      <td>-0.005848</td>\n",
              "      <td>-0.004070</td>\n",
              "      <td>0.021481</td>\n",
              "      <td>-0.004358</td>\n",
              "      <td>0.007218</td>\n",
              "      <td>-0.021293</td>\n",
              "      <td>-0.015636</td>\n",
              "      <td>0.006665</td>\n",
              "      <td>-0.014395</td>\n",
              "      <td>0.019269</td>\n",
              "    </tr>\n",
              "    <tr>\n",
              "      <th>Age_Group_Code</th>\n",
              "      <td>0.013969</td>\n",
              "      <td>1.000000</td>\n",
              "      <td>0.022728</td>\n",
              "      <td>0.110151</td>\n",
              "      <td>-0.177003</td>\n",
              "      <td>-0.071467</td>\n",
              "      <td>-0.092314</td>\n",
              "      <td>-0.136189</td>\n",
              "      <td>-0.100481</td>\n",
              "      <td>0.121048</td>\n",
              "      <td>0.150420</td>\n",
              "      <td>0.093593</td>\n",
              "    </tr>\n",
              "    <tr>\n",
              "      <th>Gender_Code</th>\n",
              "      <td>-0.005848</td>\n",
              "      <td>0.022728</td>\n",
              "      <td>1.000000</td>\n",
              "      <td>0.055122</td>\n",
              "      <td>-0.009090</td>\n",
              "      <td>-0.083229</td>\n",
              "      <td>-0.084430</td>\n",
              "      <td>-0.043467</td>\n",
              "      <td>-0.016017</td>\n",
              "      <td>-0.032848</td>\n",
              "      <td>0.012700</td>\n",
              "      <td>0.037387</td>\n",
              "    </tr>\n",
              "    <tr>\n",
              "      <th>Length_of_Stay</th>\n",
              "      <td>-0.004070</td>\n",
              "      <td>0.110151</td>\n",
              "      <td>0.055122</td>\n",
              "      <td>1.000000</td>\n",
              "      <td>0.019077</td>\n",
              "      <td>0.037275</td>\n",
              "      <td>0.002041</td>\n",
              "      <td>-0.249370</td>\n",
              "      <td>-0.198687</td>\n",
              "      <td>0.044950</td>\n",
              "      <td>0.029553</td>\n",
              "      <td>0.488168</td>\n",
              "    </tr>\n",
              "    <tr>\n",
              "      <th>Type_of_Admission_Code</th>\n",
              "      <td>0.021481</td>\n",
              "      <td>-0.177003</td>\n",
              "      <td>-0.009090</td>\n",
              "      <td>0.019077</td>\n",
              "      <td>1.000000</td>\n",
              "      <td>-0.016353</td>\n",
              "      <td>0.053562</td>\n",
              "      <td>-0.021748</td>\n",
              "      <td>-0.018916</td>\n",
              "      <td>-0.137911</td>\n",
              "      <td>-0.035694</td>\n",
              "      <td>-0.004025</td>\n",
              "    </tr>\n",
              "    <tr>\n",
              "      <th>CCS_Diagnosis_Encode</th>\n",
              "      <td>-0.004358</td>\n",
              "      <td>-0.071467</td>\n",
              "      <td>-0.083229</td>\n",
              "      <td>0.037275</td>\n",
              "      <td>-0.016353</td>\n",
              "      <td>1.000000</td>\n",
              "      <td>0.351317</td>\n",
              "      <td>-0.007841</td>\n",
              "      <td>-0.048445</td>\n",
              "      <td>-0.074829</td>\n",
              "      <td>-0.009856</td>\n",
              "      <td>-0.020636</td>\n",
              "    </tr>\n",
              "    <tr>\n",
              "      <th>APR_DRG_Desc_Code</th>\n",
              "      <td>0.007218</td>\n",
              "      <td>-0.092314</td>\n",
              "      <td>-0.084430</td>\n",
              "      <td>0.002041</td>\n",
              "      <td>0.053562</td>\n",
              "      <td>0.351317</td>\n",
              "      <td>1.000000</td>\n",
              "      <td>-0.038702</td>\n",
              "      <td>-0.052027</td>\n",
              "      <td>-0.084241</td>\n",
              "      <td>-0.018608</td>\n",
              "      <td>-0.008017</td>\n",
              "    </tr>\n",
              "    <tr>\n",
              "      <th>Illness_Code</th>\n",
              "      <td>-0.021293</td>\n",
              "      <td>-0.136189</td>\n",
              "      <td>-0.043467</td>\n",
              "      <td>-0.249370</td>\n",
              "      <td>-0.021748</td>\n",
              "      <td>-0.007841</td>\n",
              "      <td>-0.038702</td>\n",
              "      <td>1.000000</td>\n",
              "      <td>0.516692</td>\n",
              "      <td>-0.004947</td>\n",
              "      <td>-0.032346</td>\n",
              "      <td>-0.190434</td>\n",
              "    </tr>\n",
              "    <tr>\n",
              "      <th>Risk_of_Mortality_Code</th>\n",
              "      <td>-0.015636</td>\n",
              "      <td>-0.100481</td>\n",
              "      <td>-0.016017</td>\n",
              "      <td>-0.198687</td>\n",
              "      <td>-0.018916</td>\n",
              "      <td>-0.048445</td>\n",
              "      <td>-0.052027</td>\n",
              "      <td>0.516692</td>\n",
              "      <td>1.000000</td>\n",
              "      <td>0.004051</td>\n",
              "      <td>-0.026102</td>\n",
              "      <td>-0.143443</td>\n",
              "    </tr>\n",
              "    <tr>\n",
              "      <th>Surgical_Desc_Code</th>\n",
              "      <td>0.006665</td>\n",
              "      <td>0.121048</td>\n",
              "      <td>-0.032848</td>\n",
              "      <td>0.044950</td>\n",
              "      <td>-0.137911</td>\n",
              "      <td>-0.074829</td>\n",
              "      <td>-0.084241</td>\n",
              "      <td>-0.004947</td>\n",
              "      <td>0.004051</td>\n",
              "      <td>1.000000</td>\n",
              "      <td>-0.015200</td>\n",
              "      <td>0.195898</td>\n",
              "    </tr>\n",
              "    <tr>\n",
              "      <th>Payment_Typology1_Code</th>\n",
              "      <td>-0.014395</td>\n",
              "      <td>0.150420</td>\n",
              "      <td>0.012700</td>\n",
              "      <td>0.029553</td>\n",
              "      <td>-0.035694</td>\n",
              "      <td>-0.009856</td>\n",
              "      <td>-0.018608</td>\n",
              "      <td>-0.032346</td>\n",
              "      <td>-0.026102</td>\n",
              "      <td>-0.015200</td>\n",
              "      <td>1.000000</td>\n",
              "      <td>0.016996</td>\n",
              "    </tr>\n",
              "    <tr>\n",
              "      <th>Total_Costs</th>\n",
              "      <td>0.019269</td>\n",
              "      <td>0.093593</td>\n",
              "      <td>0.037387</td>\n",
              "      <td>0.488168</td>\n",
              "      <td>-0.004025</td>\n",
              "      <td>-0.020636</td>\n",
              "      <td>-0.008017</td>\n",
              "      <td>-0.190434</td>\n",
              "      <td>-0.143443</td>\n",
              "      <td>0.195898</td>\n",
              "      <td>0.016996</td>\n",
              "      <td>1.000000</td>\n",
              "    </tr>\n",
              "  </tbody>\n",
              "</table>\n",
              "</div>\n",
              "      <button class=\"colab-df-convert\" onclick=\"convertToInteractive('df-b74695a4-a1ca-4de5-9b6b-786f6150a48a')\"\n",
              "              title=\"Convert this dataframe to an interactive table.\"\n",
              "              style=\"display:none;\">\n",
              "        \n",
              "  <svg xmlns=\"http://www.w3.org/2000/svg\" height=\"24px\"viewBox=\"0 0 24 24\"\n",
              "       width=\"24px\">\n",
              "    <path d=\"M0 0h24v24H0V0z\" fill=\"none\"/>\n",
              "    <path d=\"M18.56 5.44l.94 2.06.94-2.06 2.06-.94-2.06-.94-.94-2.06-.94 2.06-2.06.94zm-11 1L8.5 8.5l.94-2.06 2.06-.94-2.06-.94L8.5 2.5l-.94 2.06-2.06.94zm10 10l.94 2.06.94-2.06 2.06-.94-2.06-.94-.94-2.06-.94 2.06-2.06.94z\"/><path d=\"M17.41 7.96l-1.37-1.37c-.4-.4-.92-.59-1.43-.59-.52 0-1.04.2-1.43.59L10.3 9.45l-7.72 7.72c-.78.78-.78 2.05 0 2.83L4 21.41c.39.39.9.59 1.41.59.51 0 1.02-.2 1.41-.59l7.78-7.78 2.81-2.81c.8-.78.8-2.07 0-2.86zM5.41 20L4 18.59l7.72-7.72 1.47 1.35L5.41 20z\"/>\n",
              "  </svg>\n",
              "      </button>\n",
              "      \n",
              "  <style>\n",
              "    .colab-df-container {\n",
              "      display:flex;\n",
              "      flex-wrap:wrap;\n",
              "      gap: 12px;\n",
              "    }\n",
              "\n",
              "    .colab-df-convert {\n",
              "      background-color: #E8F0FE;\n",
              "      border: none;\n",
              "      border-radius: 50%;\n",
              "      cursor: pointer;\n",
              "      display: none;\n",
              "      fill: #1967D2;\n",
              "      height: 32px;\n",
              "      padding: 0 0 0 0;\n",
              "      width: 32px;\n",
              "    }\n",
              "\n",
              "    .colab-df-convert:hover {\n",
              "      background-color: #E2EBFA;\n",
              "      box-shadow: 0px 1px 2px rgba(60, 64, 67, 0.3), 0px 1px 3px 1px rgba(60, 64, 67, 0.15);\n",
              "      fill: #174EA6;\n",
              "    }\n",
              "\n",
              "    [theme=dark] .colab-df-convert {\n",
              "      background-color: #3B4455;\n",
              "      fill: #D2E3FC;\n",
              "    }\n",
              "\n",
              "    [theme=dark] .colab-df-convert:hover {\n",
              "      background-color: #434B5C;\n",
              "      box-shadow: 0px 1px 3px 1px rgba(0, 0, 0, 0.15);\n",
              "      filter: drop-shadow(0px 1px 2px rgba(0, 0, 0, 0.3));\n",
              "      fill: #FFFFFF;\n",
              "    }\n",
              "  </style>\n",
              "\n",
              "      <script>\n",
              "        const buttonEl =\n",
              "          document.querySelector('#df-b74695a4-a1ca-4de5-9b6b-786f6150a48a button.colab-df-convert');\n",
              "        buttonEl.style.display =\n",
              "          google.colab.kernel.accessAllowed ? 'block' : 'none';\n",
              "\n",
              "        async function convertToInteractive(key) {\n",
              "          const element = document.querySelector('#df-b74695a4-a1ca-4de5-9b6b-786f6150a48a');\n",
              "          const dataTable =\n",
              "            await google.colab.kernel.invokeFunction('convertToInteractive',\n",
              "                                                     [key], {});\n",
              "          if (!dataTable) return;\n",
              "\n",
              "          const docLinkHtml = 'Like what you see? Visit the ' +\n",
              "            '<a target=\"_blank\" href=https://colab.research.google.com/notebooks/data_table.ipynb>data table notebook</a>'\n",
              "            + ' to learn more about interactive tables.';\n",
              "          element.innerHTML = '';\n",
              "          dataTable['output_type'] = 'display_data';\n",
              "          await google.colab.output.renderOutput(dataTable, element);\n",
              "          const docLink = document.createElement('div');\n",
              "          docLink.innerHTML = docLinkHtml;\n",
              "          element.appendChild(docLink);\n",
              "        }\n",
              "      </script>\n",
              "    </div>\n",
              "  </div>\n",
              "  "
            ]
          },
          "metadata": {},
          "execution_count": 80
        }
      ]
    },
    {
      "cell_type": "code",
      "source": [
        "df.corr().style.background_gradient(cmap=\"Blues\")\n"
      ],
      "metadata": {
        "id": "3e6JOFgA5Qhg",
        "colab": {
          "base_uri": "https://localhost:8080/",
          "height": 446
        },
        "outputId": "a40e9882-2bb8-4d39-9b35-bf6c6d8e1c08"
      },
      "id": "3e6JOFgA5Qhg",
      "execution_count": null,
      "outputs": [
        {
          "output_type": "execute_result",
          "data": {
            "text/plain": [
              "<pandas.io.formats.style.Styler at 0x7f287d5b0950>"
            ],
            "text/html": [
              "<style type=\"text/css\">\n",
              "#T_6f7a5_row0_col0, #T_6f7a5_row1_col1, #T_6f7a5_row2_col2, #T_6f7a5_row3_col3, #T_6f7a5_row4_col4, #T_6f7a5_row5_col5, #T_6f7a5_row6_col6, #T_6f7a5_row7_col7, #T_6f7a5_row8_col8, #T_6f7a5_row9_col9, #T_6f7a5_row10_col10, #T_6f7a5_row11_col11 {\n",
              "  background-color: #08306b;\n",
              "  color: #f1f1f1;\n",
              "}\n",
              "#T_6f7a5_row0_col1, #T_6f7a5_row3_col9 {\n",
              "  background-color: #d7e6f5;\n",
              "  color: #000000;\n",
              "}\n",
              "#T_6f7a5_row0_col2, #T_6f7a5_row0_col5, #T_6f7a5_row6_col1 {\n",
              "  background-color: #e9f2fa;\n",
              "  color: #000000;\n",
              "}\n",
              "#T_6f7a5_row0_col3, #T_6f7a5_row6_col4, #T_6f7a5_row9_col7 {\n",
              "  background-color: #d0e2f2;\n",
              "  color: #000000;\n",
              "}\n",
              "#T_6f7a5_row0_col4, #T_6f7a5_row2_col1, #T_6f7a5_row6_col7, #T_6f7a5_row9_col8 {\n",
              "  background-color: #d6e5f4;\n",
              "  color: #000000;\n",
              "}\n",
              "#T_6f7a5_row0_col6, #T_6f7a5_row1_col7, #T_6f7a5_row2_col9 {\n",
              "  background-color: #e5eff9;\n",
              "  color: #000000;\n",
              "}\n",
              "#T_6f7a5_row0_col7, #T_6f7a5_row1_col10, #T_6f7a5_row4_col7 {\n",
              "  background-color: #d3e4f3;\n",
              "  color: #000000;\n",
              "}\n",
              "#T_6f7a5_row0_col8, #T_6f7a5_row2_col8, #T_6f7a5_row6_col11 {\n",
              "  background-color: #d9e7f5;\n",
              "  color: #000000;\n",
              "}\n",
              "#T_6f7a5_row0_col9, #T_6f7a5_row3_col2, #T_6f7a5_row5_col8 {\n",
              "  background-color: #deebf7;\n",
              "  color: #000000;\n",
              "}\n",
              "#T_6f7a5_row0_col10, #T_6f7a5_row9_col10 {\n",
              "  background-color: #f3f8fe;\n",
              "  color: #000000;\n",
              "}\n",
              "#T_6f7a5_row0_col11 {\n",
              "  background-color: #d4e4f4;\n",
              "  color: #000000;\n",
              "}\n",
              "#T_6f7a5_row1_col0, #T_6f7a5_row7_col1, #T_6f7a5_row8_col5, #T_6f7a5_row9_col4 {\n",
              "  background-color: #f1f7fd;\n",
              "  color: #000000;\n",
              "}\n",
              "#T_6f7a5_row1_col2 {\n",
              "  background-color: #e3eef9;\n",
              "  color: #000000;\n",
              "}\n",
              "#T_6f7a5_row1_col3 {\n",
              "  background-color: #bad6eb;\n",
              "  color: #000000;\n",
              "}\n",
              "#T_6f7a5_row1_col4, #T_6f7a5_row1_col6, #T_6f7a5_row2_col5, #T_6f7a5_row3_col7, #T_6f7a5_row3_col8, #T_6f7a5_row4_col1, #T_6f7a5_row4_col9, #T_6f7a5_row4_col10, #T_6f7a5_row5_col2, #T_6f7a5_row6_col2, #T_6f7a5_row7_col0, #T_6f7a5_row7_col3, #T_6f7a5_row7_col10, #T_6f7a5_row7_col11 {\n",
              "  background-color: #f7fbff;\n",
              "  color: #000000;\n",
              "}\n",
              "#T_6f7a5_row1_col5, #T_6f7a5_row8_col10 {\n",
              "  background-color: #f5fafe;\n",
              "  color: #000000;\n",
              "}\n",
              "#T_6f7a5_row1_col8 {\n",
              "  background-color: #e7f1fa;\n",
              "  color: #000000;\n",
              "}\n",
              "#T_6f7a5_row1_col9, #T_6f7a5_row5_col3, #T_6f7a5_row11_col1 {\n",
              "  background-color: #cadef0;\n",
              "  color: #000000;\n",
              "}\n",
              "#T_6f7a5_row1_col11 {\n",
              "  background-color: #c8dcf0;\n",
              "  color: #000000;\n",
              "}\n",
              "#T_6f7a5_row2_col0 {\n",
              "  background-color: #f5f9fe;\n",
              "  color: #000000;\n",
              "}\n",
              "#T_6f7a5_row2_col3, #T_6f7a5_row3_col1 {\n",
              "  background-color: #c7dcef;\n",
              "  color: #000000;\n",
              "}\n",
              "#T_6f7a5_row2_col4, #T_6f7a5_row5_col11, #T_6f7a5_row10_col8 {\n",
              "  background-color: #dbe9f6;\n",
              "  color: #000000;\n",
              "}\n",
              "#T_6f7a5_row2_col6, #T_6f7a5_row8_col0, #T_6f7a5_row9_col5, #T_6f7a5_row9_col6, #T_6f7a5_row10_col0 {\n",
              "  background-color: #f6faff;\n",
              "  color: #000000;\n",
              "}\n",
              "#T_6f7a5_row2_col7, #T_6f7a5_row3_col4 {\n",
              "  background-color: #d6e6f4;\n",
              "  color: #000000;\n",
              "}\n",
              "#T_6f7a5_row2_col10, #T_6f7a5_row6_col9, #T_6f7a5_row7_col6, #T_6f7a5_row9_col2, #T_6f7a5_row11_col7, #T_6f7a5_row11_col8 {\n",
              "  background-color: #eef5fc;\n",
              "  color: #000000;\n",
              "}\n",
              "#T_6f7a5_row2_col11 {\n",
              "  background-color: #d2e3f3;\n",
              "  color: #000000;\n",
              "}\n",
              "#T_6f7a5_row3_col0, #T_6f7a5_row5_col0, #T_6f7a5_row6_col10 {\n",
              "  background-color: #f4f9fe;\n",
              "  color: #000000;\n",
              "}\n",
              "#T_6f7a5_row3_col5, #T_6f7a5_row11_col2 {\n",
              "  background-color: #e1edf8;\n",
              "  color: #000000;\n",
              "}\n",
              "#T_6f7a5_row3_col6, #T_6f7a5_row5_col1, #T_6f7a5_row10_col2 {\n",
              "  background-color: #e6f0f9;\n",
              "  color: #000000;\n",
              "}\n",
              "#T_6f7a5_row3_col10, #T_6f7a5_row8_col1, #T_6f7a5_row8_col2 {\n",
              "  background-color: #eaf3fb;\n",
              "  color: #000000;\n",
              "}\n",
              "#T_6f7a5_row3_col11 {\n",
              "  background-color: #549fcd;\n",
              "  color: #f1f1f1;\n",
              "}\n",
              "#T_6f7a5_row4_col0, #T_6f7a5_row8_col3, #T_6f7a5_row8_col11, #T_6f7a5_row11_col0 {\n",
              "  background-color: #eff6fc;\n",
              "  color: #000000;\n",
              "}\n",
              "#T_6f7a5_row4_col2, #T_6f7a5_row7_col5, #T_6f7a5_row10_col5, #T_6f7a5_row10_col6 {\n",
              "  background-color: #eaf2fb;\n",
              "  color: #000000;\n",
              "}\n",
              "#T_6f7a5_row4_col3 {\n",
              "  background-color: #cddff1;\n",
              "  color: #000000;\n",
              "}\n",
              "#T_6f7a5_row4_col5 {\n",
              "  background-color: #ebf3fb;\n",
              "  color: #000000;\n",
              "}\n",
              "#T_6f7a5_row4_col6, #T_6f7a5_row5_col4, #T_6f7a5_row8_col4 {\n",
              "  background-color: #dceaf6;\n",
              "  color: #000000;\n",
              "}\n",
              "#T_6f7a5_row4_col8 {\n",
              "  background-color: #d9e8f5;\n",
              "  color: #000000;\n",
              "}\n",
              "#T_6f7a5_row4_col11 {\n",
              "  background-color: #d8e7f5;\n",
              "  color: #000000;\n",
              "}\n",
              "#T_6f7a5_row5_col6 {\n",
              "  background-color: #92c4de;\n",
              "  color: #000000;\n",
              "}\n",
              "#T_6f7a5_row5_col7 {\n",
              "  background-color: #d1e2f3;\n",
              "  color: #000000;\n",
              "}\n",
              "#T_6f7a5_row5_col9, #T_6f7a5_row11_col5 {\n",
              "  background-color: #ecf4fb;\n",
              "  color: #000000;\n",
              "}\n",
              "#T_6f7a5_row5_col10 {\n",
              "  background-color: #f2f8fd;\n",
              "  color: #000000;\n",
              "}\n",
              "#T_6f7a5_row6_col0, #T_6f7a5_row9_col0 {\n",
              "  background-color: #f2f7fd;\n",
              "  color: #000000;\n",
              "}\n",
              "#T_6f7a5_row6_col3 {\n",
              "  background-color: #d0e1f2;\n",
              "  color: #000000;\n",
              "}\n",
              "#T_6f7a5_row6_col5 {\n",
              "  background-color: #94c4df;\n",
              "  color: #000000;\n",
              "}\n",
              "#T_6f7a5_row6_col8, #T_6f7a5_row8_col9 {\n",
              "  background-color: #dfebf7;\n",
              "  color: #000000;\n",
              "}\n",
              "#T_6f7a5_row7_col2, #T_6f7a5_row8_col6 {\n",
              "  background-color: #f0f6fd;\n",
              "  color: #000000;\n",
              "}\n",
              "#T_6f7a5_row7_col4 {\n",
              "  background-color: #ddeaf7;\n",
              "  color: #000000;\n",
              "}\n",
              "#T_6f7a5_row7_col8 {\n",
              "  background-color: #4b98ca;\n",
              "  color: #f1f1f1;\n",
              "}\n",
              "#T_6f7a5_row7_col9 {\n",
              "  background-color: #e0ecf8;\n",
              "  color: #000000;\n",
              "}\n",
              "#T_6f7a5_row8_col7 {\n",
              "  background-color: #4695c8;\n",
              "  color: #f1f1f1;\n",
              "}\n",
              "#T_6f7a5_row9_col1 {\n",
              "  background-color: #c6dbef;\n",
              "  color: #000000;\n",
              "}\n",
              "#T_6f7a5_row9_col3 {\n",
              "  background-color: #c9ddf0;\n",
              "  color: #000000;\n",
              "}\n",
              "#T_6f7a5_row9_col11 {\n",
              "  background-color: #aed1e7;\n",
              "  color: #000000;\n",
              "}\n",
              "#T_6f7a5_row10_col1 {\n",
              "  background-color: #bdd7ec;\n",
              "  color: #000000;\n",
              "}\n",
              "#T_6f7a5_row10_col3 {\n",
              "  background-color: #cbdef1;\n",
              "  color: #000000;\n",
              "}\n",
              "#T_6f7a5_row10_col4 {\n",
              "  background-color: #dfecf7;\n",
              "  color: #000000;\n",
              "}\n",
              "#T_6f7a5_row10_col7, #T_6f7a5_row10_col11 {\n",
              "  background-color: #d5e5f4;\n",
              "  color: #000000;\n",
              "}\n",
              "#T_6f7a5_row10_col9 {\n",
              "  background-color: #e2edf8;\n",
              "  color: #000000;\n",
              "}\n",
              "#T_6f7a5_row11_col3 {\n",
              "  background-color: #4d99ca;\n",
              "  color: #f1f1f1;\n",
              "}\n",
              "#T_6f7a5_row11_col4 {\n",
              "  background-color: #dae8f6;\n",
              "  color: #000000;\n",
              "}\n",
              "#T_6f7a5_row11_col6 {\n",
              "  background-color: #e8f1fa;\n",
              "  color: #000000;\n",
              "}\n",
              "#T_6f7a5_row11_col9 {\n",
              "  background-color: #b8d5ea;\n",
              "  color: #000000;\n",
              "}\n",
              "#T_6f7a5_row11_col10 {\n",
              "  background-color: #edf4fc;\n",
              "  color: #000000;\n",
              "}\n",
              "</style>\n",
              "<table id=\"T_6f7a5_\" class=\"dataframe\">\n",
              "  <thead>\n",
              "    <tr>\n",
              "      <th class=\"blank level0\" >&nbsp;</th>\n",
              "      <th class=\"col_heading level0 col0\" >Facility_Name_Code</th>\n",
              "      <th class=\"col_heading level0 col1\" >Age_Group_Code</th>\n",
              "      <th class=\"col_heading level0 col2\" >Gender_Code</th>\n",
              "      <th class=\"col_heading level0 col3\" >Length_of_Stay</th>\n",
              "      <th class=\"col_heading level0 col4\" >Type_of_Admission_Code</th>\n",
              "      <th class=\"col_heading level0 col5\" >CCS_Diagnosis_Encode</th>\n",
              "      <th class=\"col_heading level0 col6\" >APR_DRG_Desc_Code</th>\n",
              "      <th class=\"col_heading level0 col7\" >Illness_Code</th>\n",
              "      <th class=\"col_heading level0 col8\" >Risk_of_Mortality_Code</th>\n",
              "      <th class=\"col_heading level0 col9\" >Surgical_Desc_Code</th>\n",
              "      <th class=\"col_heading level0 col10\" >Payment_Typology1_Code</th>\n",
              "      <th class=\"col_heading level0 col11\" >Total_Costs</th>\n",
              "    </tr>\n",
              "  </thead>\n",
              "  <tbody>\n",
              "    <tr>\n",
              "      <th id=\"T_6f7a5_level0_row0\" class=\"row_heading level0 row0\" >Facility_Name_Code</th>\n",
              "      <td id=\"T_6f7a5_row0_col0\" class=\"data row0 col0\" >1.000000</td>\n",
              "      <td id=\"T_6f7a5_row0_col1\" class=\"data row0 col1\" >0.013969</td>\n",
              "      <td id=\"T_6f7a5_row0_col2\" class=\"data row0 col2\" >-0.005848</td>\n",
              "      <td id=\"T_6f7a5_row0_col3\" class=\"data row0 col3\" >-0.004070</td>\n",
              "      <td id=\"T_6f7a5_row0_col4\" class=\"data row0 col4\" >0.021481</td>\n",
              "      <td id=\"T_6f7a5_row0_col5\" class=\"data row0 col5\" >-0.004358</td>\n",
              "      <td id=\"T_6f7a5_row0_col6\" class=\"data row0 col6\" >0.007218</td>\n",
              "      <td id=\"T_6f7a5_row0_col7\" class=\"data row0 col7\" >-0.021293</td>\n",
              "      <td id=\"T_6f7a5_row0_col8\" class=\"data row0 col8\" >-0.015636</td>\n",
              "      <td id=\"T_6f7a5_row0_col9\" class=\"data row0 col9\" >0.006665</td>\n",
              "      <td id=\"T_6f7a5_row0_col10\" class=\"data row0 col10\" >-0.014395</td>\n",
              "      <td id=\"T_6f7a5_row0_col11\" class=\"data row0 col11\" >0.019269</td>\n",
              "    </tr>\n",
              "    <tr>\n",
              "      <th id=\"T_6f7a5_level0_row1\" class=\"row_heading level0 row1\" >Age_Group_Code</th>\n",
              "      <td id=\"T_6f7a5_row1_col0\" class=\"data row1 col0\" >0.013969</td>\n",
              "      <td id=\"T_6f7a5_row1_col1\" class=\"data row1 col1\" >1.000000</td>\n",
              "      <td id=\"T_6f7a5_row1_col2\" class=\"data row1 col2\" >0.022728</td>\n",
              "      <td id=\"T_6f7a5_row1_col3\" class=\"data row1 col3\" >0.110151</td>\n",
              "      <td id=\"T_6f7a5_row1_col4\" class=\"data row1 col4\" >-0.177003</td>\n",
              "      <td id=\"T_6f7a5_row1_col5\" class=\"data row1 col5\" >-0.071467</td>\n",
              "      <td id=\"T_6f7a5_row1_col6\" class=\"data row1 col6\" >-0.092314</td>\n",
              "      <td id=\"T_6f7a5_row1_col7\" class=\"data row1 col7\" >-0.136189</td>\n",
              "      <td id=\"T_6f7a5_row1_col8\" class=\"data row1 col8\" >-0.100481</td>\n",
              "      <td id=\"T_6f7a5_row1_col9\" class=\"data row1 col9\" >0.121048</td>\n",
              "      <td id=\"T_6f7a5_row1_col10\" class=\"data row1 col10\" >0.150420</td>\n",
              "      <td id=\"T_6f7a5_row1_col11\" class=\"data row1 col11\" >0.093593</td>\n",
              "    </tr>\n",
              "    <tr>\n",
              "      <th id=\"T_6f7a5_level0_row2\" class=\"row_heading level0 row2\" >Gender_Code</th>\n",
              "      <td id=\"T_6f7a5_row2_col0\" class=\"data row2 col0\" >-0.005848</td>\n",
              "      <td id=\"T_6f7a5_row2_col1\" class=\"data row2 col1\" >0.022728</td>\n",
              "      <td id=\"T_6f7a5_row2_col2\" class=\"data row2 col2\" >1.000000</td>\n",
              "      <td id=\"T_6f7a5_row2_col3\" class=\"data row2 col3\" >0.055122</td>\n",
              "      <td id=\"T_6f7a5_row2_col4\" class=\"data row2 col4\" >-0.009090</td>\n",
              "      <td id=\"T_6f7a5_row2_col5\" class=\"data row2 col5\" >-0.083229</td>\n",
              "      <td id=\"T_6f7a5_row2_col6\" class=\"data row2 col6\" >-0.084430</td>\n",
              "      <td id=\"T_6f7a5_row2_col7\" class=\"data row2 col7\" >-0.043467</td>\n",
              "      <td id=\"T_6f7a5_row2_col8\" class=\"data row2 col8\" >-0.016017</td>\n",
              "      <td id=\"T_6f7a5_row2_col9\" class=\"data row2 col9\" >-0.032848</td>\n",
              "      <td id=\"T_6f7a5_row2_col10\" class=\"data row2 col10\" >0.012700</td>\n",
              "      <td id=\"T_6f7a5_row2_col11\" class=\"data row2 col11\" >0.037387</td>\n",
              "    </tr>\n",
              "    <tr>\n",
              "      <th id=\"T_6f7a5_level0_row3\" class=\"row_heading level0 row3\" >Length_of_Stay</th>\n",
              "      <td id=\"T_6f7a5_row3_col0\" class=\"data row3 col0\" >-0.004070</td>\n",
              "      <td id=\"T_6f7a5_row3_col1\" class=\"data row3 col1\" >0.110151</td>\n",
              "      <td id=\"T_6f7a5_row3_col2\" class=\"data row3 col2\" >0.055122</td>\n",
              "      <td id=\"T_6f7a5_row3_col3\" class=\"data row3 col3\" >1.000000</td>\n",
              "      <td id=\"T_6f7a5_row3_col4\" class=\"data row3 col4\" >0.019077</td>\n",
              "      <td id=\"T_6f7a5_row3_col5\" class=\"data row3 col5\" >0.037275</td>\n",
              "      <td id=\"T_6f7a5_row3_col6\" class=\"data row3 col6\" >0.002041</td>\n",
              "      <td id=\"T_6f7a5_row3_col7\" class=\"data row3 col7\" >-0.249370</td>\n",
              "      <td id=\"T_6f7a5_row3_col8\" class=\"data row3 col8\" >-0.198687</td>\n",
              "      <td id=\"T_6f7a5_row3_col9\" class=\"data row3 col9\" >0.044950</td>\n",
              "      <td id=\"T_6f7a5_row3_col10\" class=\"data row3 col10\" >0.029553</td>\n",
              "      <td id=\"T_6f7a5_row3_col11\" class=\"data row3 col11\" >0.488168</td>\n",
              "    </tr>\n",
              "    <tr>\n",
              "      <th id=\"T_6f7a5_level0_row4\" class=\"row_heading level0 row4\" >Type_of_Admission_Code</th>\n",
              "      <td id=\"T_6f7a5_row4_col0\" class=\"data row4 col0\" >0.021481</td>\n",
              "      <td id=\"T_6f7a5_row4_col1\" class=\"data row4 col1\" >-0.177003</td>\n",
              "      <td id=\"T_6f7a5_row4_col2\" class=\"data row4 col2\" >-0.009090</td>\n",
              "      <td id=\"T_6f7a5_row4_col3\" class=\"data row4 col3\" >0.019077</td>\n",
              "      <td id=\"T_6f7a5_row4_col4\" class=\"data row4 col4\" >1.000000</td>\n",
              "      <td id=\"T_6f7a5_row4_col5\" class=\"data row4 col5\" >-0.016353</td>\n",
              "      <td id=\"T_6f7a5_row4_col6\" class=\"data row4 col6\" >0.053562</td>\n",
              "      <td id=\"T_6f7a5_row4_col7\" class=\"data row4 col7\" >-0.021748</td>\n",
              "      <td id=\"T_6f7a5_row4_col8\" class=\"data row4 col8\" >-0.018916</td>\n",
              "      <td id=\"T_6f7a5_row4_col9\" class=\"data row4 col9\" >-0.137911</td>\n",
              "      <td id=\"T_6f7a5_row4_col10\" class=\"data row4 col10\" >-0.035694</td>\n",
              "      <td id=\"T_6f7a5_row4_col11\" class=\"data row4 col11\" >-0.004025</td>\n",
              "    </tr>\n",
              "    <tr>\n",
              "      <th id=\"T_6f7a5_level0_row5\" class=\"row_heading level0 row5\" >CCS_Diagnosis_Encode</th>\n",
              "      <td id=\"T_6f7a5_row5_col0\" class=\"data row5 col0\" >-0.004358</td>\n",
              "      <td id=\"T_6f7a5_row5_col1\" class=\"data row5 col1\" >-0.071467</td>\n",
              "      <td id=\"T_6f7a5_row5_col2\" class=\"data row5 col2\" >-0.083229</td>\n",
              "      <td id=\"T_6f7a5_row5_col3\" class=\"data row5 col3\" >0.037275</td>\n",
              "      <td id=\"T_6f7a5_row5_col4\" class=\"data row5 col4\" >-0.016353</td>\n",
              "      <td id=\"T_6f7a5_row5_col5\" class=\"data row5 col5\" >1.000000</td>\n",
              "      <td id=\"T_6f7a5_row5_col6\" class=\"data row5 col6\" >0.351317</td>\n",
              "      <td id=\"T_6f7a5_row5_col7\" class=\"data row5 col7\" >-0.007841</td>\n",
              "      <td id=\"T_6f7a5_row5_col8\" class=\"data row5 col8\" >-0.048445</td>\n",
              "      <td id=\"T_6f7a5_row5_col9\" class=\"data row5 col9\" >-0.074829</td>\n",
              "      <td id=\"T_6f7a5_row5_col10\" class=\"data row5 col10\" >-0.009856</td>\n",
              "      <td id=\"T_6f7a5_row5_col11\" class=\"data row5 col11\" >-0.020636</td>\n",
              "    </tr>\n",
              "    <tr>\n",
              "      <th id=\"T_6f7a5_level0_row6\" class=\"row_heading level0 row6\" >APR_DRG_Desc_Code</th>\n",
              "      <td id=\"T_6f7a5_row6_col0\" class=\"data row6 col0\" >0.007218</td>\n",
              "      <td id=\"T_6f7a5_row6_col1\" class=\"data row6 col1\" >-0.092314</td>\n",
              "      <td id=\"T_6f7a5_row6_col2\" class=\"data row6 col2\" >-0.084430</td>\n",
              "      <td id=\"T_6f7a5_row6_col3\" class=\"data row6 col3\" >0.002041</td>\n",
              "      <td id=\"T_6f7a5_row6_col4\" class=\"data row6 col4\" >0.053562</td>\n",
              "      <td id=\"T_6f7a5_row6_col5\" class=\"data row6 col5\" >0.351317</td>\n",
              "      <td id=\"T_6f7a5_row6_col6\" class=\"data row6 col6\" >1.000000</td>\n",
              "      <td id=\"T_6f7a5_row6_col7\" class=\"data row6 col7\" >-0.038702</td>\n",
              "      <td id=\"T_6f7a5_row6_col8\" class=\"data row6 col8\" >-0.052027</td>\n",
              "      <td id=\"T_6f7a5_row6_col9\" class=\"data row6 col9\" >-0.084241</td>\n",
              "      <td id=\"T_6f7a5_row6_col10\" class=\"data row6 col10\" >-0.018608</td>\n",
              "      <td id=\"T_6f7a5_row6_col11\" class=\"data row6 col11\" >-0.008017</td>\n",
              "    </tr>\n",
              "    <tr>\n",
              "      <th id=\"T_6f7a5_level0_row7\" class=\"row_heading level0 row7\" >Illness_Code</th>\n",
              "      <td id=\"T_6f7a5_row7_col0\" class=\"data row7 col0\" >-0.021293</td>\n",
              "      <td id=\"T_6f7a5_row7_col1\" class=\"data row7 col1\" >-0.136189</td>\n",
              "      <td id=\"T_6f7a5_row7_col2\" class=\"data row7 col2\" >-0.043467</td>\n",
              "      <td id=\"T_6f7a5_row7_col3\" class=\"data row7 col3\" >-0.249370</td>\n",
              "      <td id=\"T_6f7a5_row7_col4\" class=\"data row7 col4\" >-0.021748</td>\n",
              "      <td id=\"T_6f7a5_row7_col5\" class=\"data row7 col5\" >-0.007841</td>\n",
              "      <td id=\"T_6f7a5_row7_col6\" class=\"data row7 col6\" >-0.038702</td>\n",
              "      <td id=\"T_6f7a5_row7_col7\" class=\"data row7 col7\" >1.000000</td>\n",
              "      <td id=\"T_6f7a5_row7_col8\" class=\"data row7 col8\" >0.516692</td>\n",
              "      <td id=\"T_6f7a5_row7_col9\" class=\"data row7 col9\" >-0.004947</td>\n",
              "      <td id=\"T_6f7a5_row7_col10\" class=\"data row7 col10\" >-0.032346</td>\n",
              "      <td id=\"T_6f7a5_row7_col11\" class=\"data row7 col11\" >-0.190434</td>\n",
              "    </tr>\n",
              "    <tr>\n",
              "      <th id=\"T_6f7a5_level0_row8\" class=\"row_heading level0 row8\" >Risk_of_Mortality_Code</th>\n",
              "      <td id=\"T_6f7a5_row8_col0\" class=\"data row8 col0\" >-0.015636</td>\n",
              "      <td id=\"T_6f7a5_row8_col1\" class=\"data row8 col1\" >-0.100481</td>\n",
              "      <td id=\"T_6f7a5_row8_col2\" class=\"data row8 col2\" >-0.016017</td>\n",
              "      <td id=\"T_6f7a5_row8_col3\" class=\"data row8 col3\" >-0.198687</td>\n",
              "      <td id=\"T_6f7a5_row8_col4\" class=\"data row8 col4\" >-0.018916</td>\n",
              "      <td id=\"T_6f7a5_row8_col5\" class=\"data row8 col5\" >-0.048445</td>\n",
              "      <td id=\"T_6f7a5_row8_col6\" class=\"data row8 col6\" >-0.052027</td>\n",
              "      <td id=\"T_6f7a5_row8_col7\" class=\"data row8 col7\" >0.516692</td>\n",
              "      <td id=\"T_6f7a5_row8_col8\" class=\"data row8 col8\" >1.000000</td>\n",
              "      <td id=\"T_6f7a5_row8_col9\" class=\"data row8 col9\" >0.004051</td>\n",
              "      <td id=\"T_6f7a5_row8_col10\" class=\"data row8 col10\" >-0.026102</td>\n",
              "      <td id=\"T_6f7a5_row8_col11\" class=\"data row8 col11\" >-0.143443</td>\n",
              "    </tr>\n",
              "    <tr>\n",
              "      <th id=\"T_6f7a5_level0_row9\" class=\"row_heading level0 row9\" >Surgical_Desc_Code</th>\n",
              "      <td id=\"T_6f7a5_row9_col0\" class=\"data row9 col0\" >0.006665</td>\n",
              "      <td id=\"T_6f7a5_row9_col1\" class=\"data row9 col1\" >0.121048</td>\n",
              "      <td id=\"T_6f7a5_row9_col2\" class=\"data row9 col2\" >-0.032848</td>\n",
              "      <td id=\"T_6f7a5_row9_col3\" class=\"data row9 col3\" >0.044950</td>\n",
              "      <td id=\"T_6f7a5_row9_col4\" class=\"data row9 col4\" >-0.137911</td>\n",
              "      <td id=\"T_6f7a5_row9_col5\" class=\"data row9 col5\" >-0.074829</td>\n",
              "      <td id=\"T_6f7a5_row9_col6\" class=\"data row9 col6\" >-0.084241</td>\n",
              "      <td id=\"T_6f7a5_row9_col7\" class=\"data row9 col7\" >-0.004947</td>\n",
              "      <td id=\"T_6f7a5_row9_col8\" class=\"data row9 col8\" >0.004051</td>\n",
              "      <td id=\"T_6f7a5_row9_col9\" class=\"data row9 col9\" >1.000000</td>\n",
              "      <td id=\"T_6f7a5_row9_col10\" class=\"data row9 col10\" >-0.015200</td>\n",
              "      <td id=\"T_6f7a5_row9_col11\" class=\"data row9 col11\" >0.195898</td>\n",
              "    </tr>\n",
              "    <tr>\n",
              "      <th id=\"T_6f7a5_level0_row10\" class=\"row_heading level0 row10\" >Payment_Typology1_Code</th>\n",
              "      <td id=\"T_6f7a5_row10_col0\" class=\"data row10 col0\" >-0.014395</td>\n",
              "      <td id=\"T_6f7a5_row10_col1\" class=\"data row10 col1\" >0.150420</td>\n",
              "      <td id=\"T_6f7a5_row10_col2\" class=\"data row10 col2\" >0.012700</td>\n",
              "      <td id=\"T_6f7a5_row10_col3\" class=\"data row10 col3\" >0.029553</td>\n",
              "      <td id=\"T_6f7a5_row10_col4\" class=\"data row10 col4\" >-0.035694</td>\n",
              "      <td id=\"T_6f7a5_row10_col5\" class=\"data row10 col5\" >-0.009856</td>\n",
              "      <td id=\"T_6f7a5_row10_col6\" class=\"data row10 col6\" >-0.018608</td>\n",
              "      <td id=\"T_6f7a5_row10_col7\" class=\"data row10 col7\" >-0.032346</td>\n",
              "      <td id=\"T_6f7a5_row10_col8\" class=\"data row10 col8\" >-0.026102</td>\n",
              "      <td id=\"T_6f7a5_row10_col9\" class=\"data row10 col9\" >-0.015200</td>\n",
              "      <td id=\"T_6f7a5_row10_col10\" class=\"data row10 col10\" >1.000000</td>\n",
              "      <td id=\"T_6f7a5_row10_col11\" class=\"data row10 col11\" >0.016996</td>\n",
              "    </tr>\n",
              "    <tr>\n",
              "      <th id=\"T_6f7a5_level0_row11\" class=\"row_heading level0 row11\" >Total_Costs</th>\n",
              "      <td id=\"T_6f7a5_row11_col0\" class=\"data row11 col0\" >0.019269</td>\n",
              "      <td id=\"T_6f7a5_row11_col1\" class=\"data row11 col1\" >0.093593</td>\n",
              "      <td id=\"T_6f7a5_row11_col2\" class=\"data row11 col2\" >0.037387</td>\n",
              "      <td id=\"T_6f7a5_row11_col3\" class=\"data row11 col3\" >0.488168</td>\n",
              "      <td id=\"T_6f7a5_row11_col4\" class=\"data row11 col4\" >-0.004025</td>\n",
              "      <td id=\"T_6f7a5_row11_col5\" class=\"data row11 col5\" >-0.020636</td>\n",
              "      <td id=\"T_6f7a5_row11_col6\" class=\"data row11 col6\" >-0.008017</td>\n",
              "      <td id=\"T_6f7a5_row11_col7\" class=\"data row11 col7\" >-0.190434</td>\n",
              "      <td id=\"T_6f7a5_row11_col8\" class=\"data row11 col8\" >-0.143443</td>\n",
              "      <td id=\"T_6f7a5_row11_col9\" class=\"data row11 col9\" >0.195898</td>\n",
              "      <td id=\"T_6f7a5_row11_col10\" class=\"data row11 col10\" >0.016996</td>\n",
              "      <td id=\"T_6f7a5_row11_col11\" class=\"data row11 col11\" >1.000000</td>\n",
              "    </tr>\n",
              "  </tbody>\n",
              "</table>\n"
            ]
          },
          "metadata": {},
          "execution_count": 81
        }
      ]
    },
    {
      "cell_type": "markdown",
      "source": [
        "# Random Forest Model Implementation"
      ],
      "metadata": {
        "id": "FgwAtjys5myU"
      },
      "id": "FgwAtjys5myU"
    },
    {
      "cell_type": "code",
      "source": [
        "Y = df['Total_Costs']\n",
        "X = df.drop('Total_Costs',axis=1)"
      ],
      "metadata": {
        "id": "c6sTajte5Wm5"
      },
      "id": "c6sTajte5Wm5",
      "execution_count": null,
      "outputs": []
    },
    {
      "cell_type": "code",
      "source": [
        "from sklearn.model_selection import train_test_split\n",
        "from sklearn.ensemble import RandomForestRegressor\n",
        "from sklearn.inspection import permutation_importance\n",
        "from matplotlib import pyplot as plt\n",
        "\n",
        "plt.rcParams.update({'figure.figsize': (12.0, 8.0)})\n",
        "plt.rcParams.update({'font.size': 14})"
      ],
      "metadata": {
        "id": "wgrauhlZ5_ia"
      },
      "id": "wgrauhlZ5_ia",
      "execution_count": null,
      "outputs": []
    },
    {
      "cell_type": "code",
      "source": [
        "X_train, X_test, Y_train, Y_test = train_test_split(X, Y, test_size=0.33,random_state=12)"
      ],
      "metadata": {
        "id": "-85JZgM56A47"
      },
      "id": "-85JZgM56A47",
      "execution_count": null,
      "outputs": []
    },
    {
      "cell_type": "markdown",
      "source": [
        "With 25 estimators"
      ],
      "metadata": {
        "id": "fP5_rauq6si_"
      },
      "id": "fP5_rauq6si_"
    },
    {
      "cell_type": "markdown",
      "source": [],
      "metadata": {
        "id": "QdzdgLBM6shY"
      },
      "id": "QdzdgLBM6shY"
    },
    {
      "cell_type": "code",
      "source": [
        "rf = RandomForestRegressor(n_estimators=25)\n",
        "rf.fit(X_train, Y_train)"
      ],
      "metadata": {
        "id": "JzStWxMw6CIL",
        "colab": {
          "base_uri": "https://localhost:8080/"
        },
        "outputId": "a25c7ef8-3056-4603-cd61-f6a4e0add1d0"
      },
      "id": "JzStWxMw6CIL",
      "execution_count": null,
      "outputs": [
        {
          "output_type": "execute_result",
          "data": {
            "text/plain": [
              "RandomForestRegressor(n_estimators=25)"
            ]
          },
          "metadata": {},
          "execution_count": 85
        }
      ]
    },
    {
      "cell_type": "code",
      "source": [
        "Y_pred=rf.predict(X_test)"
      ],
      "metadata": {
        "id": "O1T8ydsp-fiP"
      },
      "id": "O1T8ydsp-fiP",
      "execution_count": null,
      "outputs": []
    },
    {
      "cell_type": "code",
      "source": [
        "from sklearn.metrics import r2_score\n",
        "r2_score(Y_test, Y_pred)"
      ],
      "metadata": {
        "id": "qCflaaIH-g9f",
        "colab": {
          "base_uri": "https://localhost:8080/"
        },
        "outputId": "ea4688e2-959e-4904-9b89-fc3696eacaf2"
      },
      "id": "qCflaaIH-g9f",
      "execution_count": null,
      "outputs": [
        {
          "output_type": "execute_result",
          "data": {
            "text/plain": [
              "0.8006124452378273"
            ]
          },
          "metadata": {},
          "execution_count": 87
        }
      ]
    },
    {
      "cell_type": "code",
      "source": [
        "from yellowbrick.datasets import load_concrete\n",
        "from yellowbrick.regressor import PredictionError"
      ],
      "metadata": {
        "id": "yOqzjjlesRUE"
      },
      "id": "yOqzjjlesRUE",
      "execution_count": null,
      "outputs": []
    },
    {
      "cell_type": "code",
      "source": [
        "model = rf\n",
        "visualizer = PredictionError(model)\n",
        "\n",
        "visualizer.fit(X_train, Y_train)  # Fit the training data to the visualizer\n",
        "visualizer.score(X_test, Y_test)  # Evaluate the model on the test data\n",
        "visualizer.show()"
      ],
      "metadata": {
        "colab": {
          "base_uri": "https://localhost:8080/",
          "height": 395
        },
        "id": "Kf23ONZpsDKp",
        "outputId": "d4f5a7f0-3069-4d7e-fee3-430c89213548"
      },
      "id": "Kf23ONZpsDKp",
      "execution_count": null,
      "outputs": [
        {
          "output_type": "display_data",
          "data": {
            "text/plain": [
              "<Figure size 576x396 with 1 Axes>"
            ],
            "image/png": "[encoded data removed]"
          },
          "metadata": {}
        },
        {
          "output_type": "execute_result",
          "data": {
            "text/plain": [
              "<matplotlib.axes._subplots.AxesSubplot at 0x7f287bff3d10>"
            ]
          },
          "metadata": {},
          "execution_count": 90
        }
      ]
    },
    {
      "cell_type": "markdown",
      "source": [
        "# Phase 2 - Deep Learning"
      ],
      "metadata": {
        "id": "zgNr2oPJgmoO"
      },
      "id": "zgNr2oPJgmoO"
    },
    {
      "cell_type": "markdown",
      "source": [
        "* Now we have to import the preprocessed data to run neural networks on the data , the data is normalized between 0 to 1"
      ],
      "metadata": {
        "id": "ivzUhxoYtZNZ"
      },
      "id": "ivzUhxoYtZNZ"
    },
    {
      "cell_type": "code",
      "source": [
        "df = pd.read_csv(r'/content/drive/MyDrive/RF+NN/dataset.csv')"
      ],
      "metadata": {
        "id": "IiNUNN2xtfIz"
      },
      "id": "IiNUNN2xtfIz",
      "execution_count": null,
      "outputs": []
    },
    {
      "cell_type": "code",
      "source": [
        "del df['Unnamed: 0']"
      ],
      "metadata": {
        "id": "8AIQxEyDvJIL"
      },
      "id": "8AIQxEyDvJIL",
      "execution_count": null,
      "outputs": []
    },
    {
      "cell_type": "code",
      "source": [
        "import tensorflow as tf"
      ],
      "metadata": {
        "id": "ZpEQjfq0ueQY"
      },
      "id": "ZpEQjfq0ueQY",
      "execution_count": null,
      "outputs": []
    },
    {
      "cell_type": "code",
      "source": [
        "from sklearn import preprocessing\n",
        "from sklearn.model_selection import train_test_split\n",
        "df=df.dropna()\n",
        "X = df\n",
        "y = df.pop('Total Costs')\n",
        "X_train, X_test, y_train, y_test = train_test_split(X, y, test_size=0.50, random_state=40)"
      ],
      "metadata": {
        "id": "SRzCvsFcui6a"
      },
      "id": "SRzCvsFcui6a",
      "execution_count": null,
      "outputs": []
    },
    {
      "cell_type": "code",
      "source": [
        "from numpy.ma.core import shape\n",
        "from keras import layers\n",
        "from keras.layers import Dropout"
      ],
      "metadata": {
        "id": "6WpfT6J5ukXY"
      },
      "id": "6WpfT6J5ukXY",
      "execution_count": null,
      "outputs": []
    },
    {
      "cell_type": "code",
      "source": [
        "from keras.models import Sequential\n",
        "from keras.layers import Dense, LSTM, TimeDistributed\n",
        "from keras.wrappers.scikit_learn import KerasRegressor\n",
        "from keras import optimizers\n",
        "\n",
        "from sklearn.model_selection import cross_val_score\n",
        "from sklearn.model_selection import KFold\n",
        "from sklearn.pipeline import Pipeline\n",
        "from sklearn.model_selection import train_test_split\n",
        "from sklearn.preprocessing import MinMaxScaler"
      ],
      "metadata": {
        "id": "FRGk67xKumJr"
      },
      "id": "FRGk67xKumJr",
      "execution_count": null,
      "outputs": []
    },
    {
      "cell_type": "code",
      "source": [
        "def regression_model():\n",
        "    # Define model\n",
        "    model = Sequential()\n",
        "    model.add(Dense(32*9, input_dim=X_train.shape[1], activation='relu'))\n",
        "    model.add(Dense(32*9, activation='relu'))\n",
        "    model.add(Dense(64*8, activation='relu'))\n",
        "    model.add(Dense(1, activation='linear'))\n",
        "    # Compile model\n",
        "    adam = tf.keras.optimizers.Adam(lr=0.001)\n",
        "    model.compile(loss='mean_squared_error', optimizer=adam,metrics=['accuracy'])\n",
        "\n",
        "    return model\n",
        "\n",
        "# Use KerasRegressor wrapper (from Keras to sklearn)\n",
        "# The packages we use are meant to be run with sklearn models\n",
        "estimator = KerasRegressor(build_fn=regression_model, validation_split = 0.2, batch_size=1000, epochs=50, verbose=0)\n",
        "history = estimator.fit(X_train, y_train)"
      ],
      "metadata": {
        "id": "Oudt05m7um4a"
      },
      "id": "Oudt05m7um4a",
      "execution_count": null,
      "outputs": []
    },
    {
      "cell_type": "code",
      "source": [
        "estimator.model.save('neuralmodel_2.h5')"
      ],
      "metadata": {
        "id": "b8l7I4KyuoQ8"
      },
      "id": "b8l7I4KyuoQ8",
      "execution_count": null,
      "outputs": []
    },
    {
      "cell_type": "code",
      "source": [
        "new_model = tf.keras.models.load_model('neuralmodel_2.h5')\n"
      ],
      "metadata": {
        "id": "uVv-_oMCtioR"
      },
      "id": "uVv-_oMCtioR",
      "execution_count": null,
      "outputs": []
    },
    {
      "cell_type": "code",
      "source": [
        "from sklearn.metrics import r2_score\n",
        "pre=new_model.predict(X_test)\n",
        "r2=r2_score(y_test,pre)"
      ],
      "metadata": {
        "id": "CK5yYMoouaZx"
      },
      "id": "CK5yYMoouaZx",
      "execution_count": null,
      "outputs": []
    },
    {
      "cell_type": "code",
      "source": [
        "print(r2)"
      ],
      "metadata": {
        "colab": {
          "base_uri": "https://localhost:8080/"
        },
        "id": "k0Hf0oviuqq1",
        "outputId": "690742b8-016c-42ad-cd21-ccf501f641ac"
      },
      "id": "k0Hf0oviuqq1",
      "execution_count": null,
      "outputs": [
        {
          "output_type": "stream",
          "name": "stdout",
          "text": [
            "0.8217285664120255\n"
          ]
        }
      ]
    },
    {
      "cell_type": "code",
      "source": [
        "#import necessary libraries\n",
        "from sklearn.metrics import mean_squared_error\n",
        "from math import sqrt\n",
        "\n",
        "#calculate RMSE\n",
        "sqrt(mean_squared_error(y_test, pre))"
      ],
      "metadata": {
        "colab": {
          "base_uri": "https://localhost:8080/"
        },
        "id": "SAPwUonhx0N-",
        "outputId": "48fa9c43-e6eb-4a63-a42f-e47ff209cec6"
      },
      "id": "SAPwUonhx0N-",
      "execution_count": null,
      "outputs": [
        {
          "output_type": "execute_result",
          "data": {
            "text/plain": [
              "0.343572795268529"
            ]
          },
          "metadata": {},
          "execution_count": 20
        }
      ]
    },
    {
      "cell_type": "code",
      "source": [
        "print(history.history.keys())\n",
        "plt.plot(history.history['loss'])\n",
        "plt.plot(history.history['val_loss'])\n",
        "plt.title('model loss')\n",
        "plt.ylabel('loss')\n",
        "plt.xlabel('epoch')\n",
        "plt.legend(['train', 'dev'], loc='upper left')\n",
        "plt.show()"
      ],
      "metadata": {
        "id": "uxcjK85mz68a"
      },
      "id": "uxcjK85mz68a",
      "execution_count": null,
      "outputs": []
    },
    {
      "cell_type": "markdown",
      "source": [
        "# Feature Extraction using neural network"
      ],
      "metadata": {
        "id": "H5z-yxIMyP_c"
      },
      "id": "H5z-yxIMyP_c"
    },
    {
      "cell_type": "markdown",
      "source": [
        "**We use various feature information gathering methods to filter down the important ones using Shap Values, Permutation Importance and Partial Dependence Plot**"
      ],
      "metadata": {
        "id": "NSLawkMI3rGv"
      },
      "id": "NSLawkMI3rGv"
    },
    {
      "cell_type": "code",
      "source": [
        "!pip install shap"
      ],
      "metadata": {
        "colab": {
          "base_uri": "https://localhost:8080/"
        },
        "id": "TmDs8c4PyWxg",
        "outputId": "b4431550-da58-4454-c561-18ce0afafa23"
      },
      "id": "TmDs8c4PyWxg",
      "execution_count": null,
      "outputs": [
        {
          "output_type": "stream",
          "name": "stdout",
          "text": [
            "Collecting shap\n",
            "  Downloading shap-0.40.0-cp37-cp37m-manylinux2010_x86_64.whl (564 kB)\n",
            "\u001b[?25l\r\u001b[K     |▋                               | 10 kB 29.1 MB/s eta 0:00:01\r\u001b[K     |█▏                              | 20 kB 33.1 MB/s eta 0:00:01\r\u001b[K     |█▊                              | 30 kB 38.4 MB/s eta 0:00:01\r\u001b[K     |██▎                             | 40 kB 40.0 MB/s eta 0:00:01\r\u001b[K     |███                             | 51 kB 28.8 MB/s eta 0:00:01\r\u001b[K     |███▌                            | 61 kB 31.5 MB/s eta 0:00:01\r\u001b[K     |████                            | 71 kB 32.7 MB/s eta 0:00:01\r\u001b[K     |████▋                           | 81 kB 34.4 MB/s eta 0:00:01\r\u001b[K     |█████▏                          | 92 kB 35.5 MB/s eta 0:00:01\r\u001b[K     |█████▉                          | 102 kB 36.3 MB/s eta 0:00:01\r\u001b[K     |██████▍                         | 112 kB 36.3 MB/s eta 0:00:01\r\u001b[K     |███████                         | 122 kB 36.3 MB/s eta 0:00:01\r\u001b[K     |███████▌                        | 133 kB 36.3 MB/s eta 0:00:01\r\u001b[K     |████████▏                       | 143 kB 36.3 MB/s eta 0:00:01\r\u001b[K     |████████▊                       | 153 kB 36.3 MB/s eta 0:00:01\r\u001b[K     |█████████▎                      | 163 kB 36.3 MB/s eta 0:00:01\r\u001b[K     |█████████▉                      | 174 kB 36.3 MB/s eta 0:00:01\r\u001b[K     |██████████▍                     | 184 kB 36.3 MB/s eta 0:00:01\r\u001b[K     |███████████                     | 194 kB 36.3 MB/s eta 0:00:01\r\u001b[K     |███████████▋                    | 204 kB 36.3 MB/s eta 0:00:01\r\u001b[K     |████████████▏                   | 215 kB 36.3 MB/s eta 0:00:01\r\u001b[K     |████████████▊                   | 225 kB 36.3 MB/s eta 0:00:01\r\u001b[K     |█████████████▍                  | 235 kB 36.3 MB/s eta 0:00:01\r\u001b[K     |██████████████                  | 245 kB 36.3 MB/s eta 0:00:01\r\u001b[K     |██████████████▌                 | 256 kB 36.3 MB/s eta 0:00:01\r\u001b[K     |███████████████                 | 266 kB 36.3 MB/s eta 0:00:01\r\u001b[K     |███████████████▋                | 276 kB 36.3 MB/s eta 0:00:01\r\u001b[K     |████████████████▎               | 286 kB 36.3 MB/s eta 0:00:01\r\u001b[K     |████████████████▉               | 296 kB 36.3 MB/s eta 0:00:01\r\u001b[K     |█████████████████▍              | 307 kB 36.3 MB/s eta 0:00:01\r\u001b[K     |██████████████████              | 317 kB 36.3 MB/s eta 0:00:01\r\u001b[K     |██████████████████▋             | 327 kB 36.3 MB/s eta 0:00:01\r\u001b[K     |███████████████████▏            | 337 kB 36.3 MB/s eta 0:00:01\r\u001b[K     |███████████████████▊            | 348 kB 36.3 MB/s eta 0:00:01\r\u001b[K     |████████████████████▎           | 358 kB 36.3 MB/s eta 0:00:01\r\u001b[K     |████████████████████▉           | 368 kB 36.3 MB/s eta 0:00:01\r\u001b[K     |█████████████████████▌          | 378 kB 36.3 MB/s eta 0:00:01\r\u001b[K     |██████████████████████          | 389 kB 36.3 MB/s eta 0:00:01\r\u001b[K     |██████████████████████▋         | 399 kB 36.3 MB/s eta 0:00:01\r\u001b[K     |███████████████████████▏        | 409 kB 36.3 MB/s eta 0:00:01\r\u001b[K     |███████████████████████▉        | 419 kB 36.3 MB/s eta 0:00:01\r\u001b[K     |████████████████████████▍       | 430 kB 36.3 MB/s eta 0:00:01\r\u001b[K     |█████████████████████████       | 440 kB 36.3 MB/s eta 0:00:01\r\u001b[K     |█████████████████████████▌      | 450 kB 36.3 MB/s eta 0:00:01\r\u001b[K     |██████████████████████████      | 460 kB 36.3 MB/s eta 0:00:01\r\u001b[K     |██████████████████████████▊     | 471 kB 36.3 MB/s eta 0:00:01\r\u001b[K     |███████████████████████████▎    | 481 kB 36.3 MB/s eta 0:00:01\r\u001b[K     |███████████████████████████▉    | 491 kB 36.3 MB/s eta 0:00:01\r\u001b[K     |████████████████████████████▍   | 501 kB 36.3 MB/s eta 0:00:01\r\u001b[K     |█████████████████████████████   | 512 kB 36.3 MB/s eta 0:00:01\r\u001b[K     |█████████████████████████████▋  | 522 kB 36.3 MB/s eta 0:00:01\r\u001b[K     |██████████████████████████████▏ | 532 kB 36.3 MB/s eta 0:00:01\r\u001b[K     |██████████████████████████████▊ | 542 kB 36.3 MB/s eta 0:00:01\r\u001b[K     |███████████████████████████████▎| 552 kB 36.3 MB/s eta 0:00:01\r\u001b[K     |████████████████████████████████| 563 kB 36.3 MB/s eta 0:00:01\r\u001b[K     |████████████████████████████████| 564 kB 36.3 MB/s \n",
            "\u001b[?25hRequirement already satisfied: tqdm>4.25.0 in /usr/local/lib/python3.7/dist-packages (from shap) (4.64.0)\n",
            "Requirement already satisfied: pandas in /usr/local/lib/python3.7/dist-packages (from shap) (1.3.5)\n",
            "Requirement already satisfied: numba in /usr/local/lib/python3.7/dist-packages (from shap) (0.51.2)\n",
            "Requirement already satisfied: packaging>20.9 in /usr/local/lib/python3.7/dist-packages (from shap) (21.3)\n",
            "Collecting slicer==0.0.7\n",
            "  Downloading slicer-0.0.7-py3-none-any.whl (14 kB)\n",
            "Requirement already satisfied: cloudpickle in /usr/local/lib/python3.7/dist-packages (from shap) (1.3.0)\n",
            "Requirement already satisfied: scikit-learn in /usr/local/lib/python3.7/dist-packages (from shap) (1.0.2)\n",
            "Requirement already satisfied: scipy in /usr/local/lib/python3.7/dist-packages (from shap) (1.4.1)\n",
            "Requirement already satisfied: numpy in /usr/local/lib/python3.7/dist-packages (from shap) (1.21.6)\n",
            "Requirement already satisfied: pyparsing!=3.0.5,>=2.0.2 in /usr/local/lib/python3.7/dist-packages (from packaging>20.9->shap) (3.0.8)\n",
            "Requirement already satisfied: setuptools in /usr/local/lib/python3.7/dist-packages (from numba->shap) (57.4.0)\n",
            "Requirement already satisfied: llvmlite<0.35,>=0.34.0.dev0 in /usr/local/lib/python3.7/dist-packages (from numba->shap) (0.34.0)\n",
            "Requirement already satisfied: python-dateutil>=2.7.3 in /usr/local/lib/python3.7/dist-packages (from pandas->shap) (2.8.2)\n",
            "Requirement already satisfied: pytz>=2017.3 in /usr/local/lib/python3.7/dist-packages (from pandas->shap) (2022.1)\n",
            "Requirement already satisfied: six>=1.5 in /usr/local/lib/python3.7/dist-packages (from python-dateutil>=2.7.3->pandas->shap) (1.15.0)\n",
            "Requirement already satisfied: threadpoolctl>=2.0.0 in /usr/local/lib/python3.7/dist-packages (from scikit-learn->shap) (3.1.0)\n",
            "Requirement already satisfied: joblib>=0.11 in /usr/local/lib/python3.7/dist-packages (from scikit-learn->shap) (1.1.0)\n",
            "Installing collected packages: slicer, shap\n",
            "Successfully installed shap-0.40.0 slicer-0.0.7\n"
          ]
        }
      ]
    },
    {
      "cell_type": "code",
      "source": [
        "import shap"
      ],
      "metadata": {
        "id": "2hGtY4vGyTgy"
      },
      "id": "2hGtY4vGyTgy",
      "execution_count": null,
      "outputs": []
    },
    {
      "cell_type": "code",
      "source": [
        "def f_wrapper(X):\n",
        "    return estimator.predict(X).flatten()"
      ],
      "metadata": {
        "id": "cxbX4Q67ygCF"
      },
      "id": "cxbX4Q67ygCF",
      "execution_count": null,
      "outputs": []
    },
    {
      "cell_type": "markdown",
      "source": [
        "* By SHAP"
      ],
      "metadata": {
        "id": "iZXa3rQByife"
      },
      "id": "iZXa3rQByife"
    },
    {
      "cell_type": "code",
      "source": [
        "X_train_summary = shap.kmeans(X_train, 20)\n",
        "\n",
        "# Compute Shap values\n",
        "explainer = shap.KernelExplainer(f_wrapper,X_train_summary)\n",
        "\n",
        "# Make plot with combined shap values\n",
        "# The training set is too big so let's sample it. We get enough point to draw conclusions\n",
        "X_train_sample = X_train.sample(400)\n",
        "shap_values  = explainer.shap_values(X_train_sample)\n",
        "shap.summary_plot(shap_values, X_train_sample)"
      ],
      "metadata": {
        "colab": {
          "base_uri": "https://localhost:8080/",
          "height": 617,
          "referenced_widgets": [
            "b71ac1d275e64c378dc9be6b9100179a",
            "e217a4fbf3e946dd9eb3140ca9d11ae6",
            "14841e2b21484423b6734a16e46415c3",
            "d94bd38dc2cb439f95d36b1788d61bdc",
            "6e97c61f42ab4e9fb776f93ff43482ee",
            "041c3124bc874ee8a6743bc091bbba62",
            "27eae31174864b9c87028f5107cbb5cf",
            "652d6c0480534776a357c2d331700dc1",
            "fcd0c2ddd5304d328f3209482dab84b7",
            "e1aa8b12bc4f4e93b810f9d7053bfe09",
            "55ca2de5879e48ba91235e59cb1a275c"
          ]
        },
        "id": "dpq-LirEyUnU",
        "outputId": "6594f2bf-73f9-4e46-ca61-5897d0707f38"
      },
      "id": "dpq-LirEyUnU",
      "execution_count": null,
      "outputs": [
        {
          "output_type": "display_data",
          "data": {
            "text/plain": [
              "  0%|          | 0/400 [00:00<?, ?it/s]"
            ],
            "application/vnd.jupyter.widget-view+json": {
              "version_major": 2,
              "version_minor": 0,
              "model_id": "b71ac1d275e64c378dc9be6b9100179a"
            }
          },
          "metadata": {}
        },
        {
          "output_type": "display_data",
          "data": {
            "text/plain": [
              "<Figure size 576x684 with 2 Axes>"
            ],
            "image/png": "[encoded data removed]"
          },
          "metadata": {
            "needs_background": "light"
          }
        }
      ]
    },
    {
      "cell_type": "markdown",
      "source": [
        "* By permutation importance method"
      ],
      "metadata": {
        "id": "-S5M2w531iV7"
      },
      "id": "-S5M2w531iV7"
    },
    {
      "cell_type": "code",
      "source": [
        "!pip install eli5"
      ],
      "metadata": {
        "colab": {
          "base_uri": "https://localhost:8080/"
        },
        "id": "3oQeQNzq1mEz",
        "outputId": "2db6406e-7f8c-4ef1-ba51-20a04c38343a"
      },
      "id": "3oQeQNzq1mEz",
      "execution_count": null,
      "outputs": [
        {
          "output_type": "stream",
          "name": "stdout",
          "text": [
            "Collecting eli5\n",
            "  Downloading eli5-0.11.0-py2.py3-none-any.whl (106 kB)\n",
            "\u001b[?25l\r\u001b[K     |███                             | 10 kB 28.9 MB/s eta 0:00:01\r\u001b[K     |██████▏                         | 20 kB 30.1 MB/s eta 0:00:01\r\u001b[K     |█████████▎                      | 30 kB 31.0 MB/s eta 0:00:01\r\u001b[K     |████████████▍                   | 40 kB 25.3 MB/s eta 0:00:01\r\u001b[K     |███████████████▌                | 51 kB 14.7 MB/s eta 0:00:01\r\u001b[K     |██████████████████▌             | 61 kB 16.5 MB/s eta 0:00:01\r\u001b[K     |█████████████████████▋          | 71 kB 16.8 MB/s eta 0:00:01\r\u001b[K     |████████████████████████▊       | 81 kB 16.3 MB/s eta 0:00:01\r\u001b[K     |███████████████████████████▉    | 92 kB 17.6 MB/s eta 0:00:01\r\u001b[K     |███████████████████████████████ | 102 kB 18.8 MB/s eta 0:00:01\r\u001b[K     |████████████████████████████████| 106 kB 18.8 MB/s \n",
            "\u001b[?25hRequirement already satisfied: scipy in /usr/local/lib/python3.7/dist-packages (from eli5) (1.4.1)\n",
            "Requirement already satisfied: attrs>16.0.0 in /usr/local/lib/python3.7/dist-packages (from eli5) (21.4.0)\n",
            "Requirement already satisfied: six in /usr/local/lib/python3.7/dist-packages (from eli5) (1.15.0)\n",
            "Requirement already satisfied: numpy>=1.9.0 in /usr/local/lib/python3.7/dist-packages (from eli5) (1.21.6)\n",
            "Requirement already satisfied: scikit-learn>=0.20 in /usr/local/lib/python3.7/dist-packages (from eli5) (1.0.2)\n",
            "Requirement already satisfied: graphviz in /usr/local/lib/python3.7/dist-packages (from eli5) (0.10.1)\n",
            "Requirement already satisfied: jinja2 in /usr/local/lib/python3.7/dist-packages (from eli5) (2.11.3)\n",
            "Requirement already satisfied: tabulate>=0.7.7 in /usr/local/lib/python3.7/dist-packages (from eli5) (0.8.9)\n",
            "Requirement already satisfied: threadpoolctl>=2.0.0 in /usr/local/lib/python3.7/dist-packages (from scikit-learn>=0.20->eli5) (3.1.0)\n",
            "Requirement already satisfied: joblib>=0.11 in /usr/local/lib/python3.7/dist-packages (from scikit-learn>=0.20->eli5) (1.1.0)\n",
            "Requirement already satisfied: MarkupSafe>=0.23 in /usr/local/lib/python3.7/dist-packages (from jinja2->eli5) (2.0.1)\n",
            "Installing collected packages: eli5\n",
            "Successfully installed eli5-0.11.0\n"
          ]
        }
      ]
    },
    {
      "cell_type": "code",
      "source": [
        "from keras.wrappers.scikit_learn import KerasClassifier, KerasRegressor\n",
        "import eli5\n",
        "from eli5.sklearn import PermutationImportance\n",
        "\n",
        "perm = PermutationImportance(estimator, random_state=1).fit(X_train,y_train)\n",
        "eli5.show_weights(perm, feature_names = X_train.columns.tolist())\n"
      ],
      "metadata": {
        "colab": {
          "base_uri": "https://localhost:8080/",
          "height": 399
        },
        "id": "A9ZQ3nUN1noO",
        "outputId": "b540c0a9-6e5f-4eb9-8f38-8f937610c342"
      },
      "id": "A9ZQ3nUN1noO",
      "execution_count": null,
      "outputs": [
        {
          "output_type": "execute_result",
          "data": {
            "text/plain": [
              "<IPython.core.display.HTML object>"
            ],
            "text/html": [
              "\n",
              "    <style>\n",
              "    table.eli5-weights tr:hover {\n",
              "        filter: brightness(85%);\n",
              "    }\n",
              "</style>\n",
              "\n",
              "\n",
              "\n",
              "    \n",
              "\n",
              "    \n",
              "\n",
              "    \n",
              "\n",
              "    \n",
              "\n",
              "    \n",
              "\n",
              "    \n",
              "\n",
              "\n",
              "    \n",
              "\n",
              "    \n",
              "\n",
              "    \n",
              "\n",
              "    \n",
              "\n",
              "    \n",
              "\n",
              "    \n",
              "\n",
              "\n",
              "    \n",
              "\n",
              "    \n",
              "\n",
              "    \n",
              "\n",
              "    \n",
              "\n",
              "    \n",
              "        <table class=\"eli5-weights eli5-feature-importances\" style=\"border-collapse: collapse; border: none; margin-top: 0em; table-layout: auto;\">\n",
              "    <thead>\n",
              "    <tr style=\"border: none;\">\n",
              "        <th style=\"padding: 0 1em 0 0.5em; text-align: right; border: none;\">Weight</th>\n",
              "        <th style=\"padding: 0 0.5em 0 0.5em; text-align: left; border: none;\">Feature</th>\n",
              "    </tr>\n",
              "    </thead>\n",
              "    <tbody>\n",
              "    \n",
              "        <tr style=\"background-color: hsl(120, 100.00%, 80.00%); border: none;\">\n",
              "            <td style=\"padding: 0 1em 0 0.5em; text-align: right; border: none;\">\n",
              "                1.9703\n",
              "                \n",
              "                    &plusmn; 0.0788\n",
              "                \n",
              "            </td>\n",
              "            <td style=\"padding: 0 0.5em 0 0.5em; text-align: left; border: none;\">\n",
              "                Total Charges\n",
              "            </td>\n",
              "        </tr>\n",
              "    \n",
              "        <tr style=\"background-color: hsl(120, 100.00%, 90.01%); border: none;\">\n",
              "            <td style=\"padding: 0 1em 0 0.5em; text-align: right; border: none;\">\n",
              "                0.7309\n",
              "                \n",
              "                    &plusmn; 0.0430\n",
              "                \n",
              "            </td>\n",
              "            <td style=\"padding: 0 0.5em 0 0.5em; text-align: left; border: none;\">\n",
              "                Operating Certificate Number\n",
              "            </td>\n",
              "        </tr>\n",
              "    \n",
              "        <tr style=\"background-color: hsl(120, 100.00%, 94.68%); border: none;\">\n",
              "            <td style=\"padding: 0 1em 0 0.5em; text-align: right; border: none;\">\n",
              "                0.2972\n",
              "                \n",
              "                    &plusmn; 0.0342\n",
              "                \n",
              "            </td>\n",
              "            <td style=\"padding: 0 0.5em 0 0.5em; text-align: left; border: none;\">\n",
              "                CCS Procedure Code\n",
              "            </td>\n",
              "        </tr>\n",
              "    \n",
              "        <tr style=\"background-color: hsl(120, 100.00%, 94.92%); border: none;\">\n",
              "            <td style=\"padding: 0 1em 0 0.5em; text-align: right; border: none;\">\n",
              "                0.2778\n",
              "                \n",
              "                    &plusmn; 0.0551\n",
              "                \n",
              "            </td>\n",
              "            <td style=\"padding: 0 0.5em 0 0.5em; text-align: left; border: none;\">\n",
              "                APR DRG Code\n",
              "            </td>\n",
              "        </tr>\n",
              "    \n",
              "        <tr style=\"background-color: hsl(120, 100.00%, 95.05%); border: none;\">\n",
              "            <td style=\"padding: 0 1em 0 0.5em; text-align: right; border: none;\">\n",
              "                0.2682\n",
              "                \n",
              "                    &plusmn; 0.0141\n",
              "                \n",
              "            </td>\n",
              "            <td style=\"padding: 0 0.5em 0 0.5em; text-align: left; border: none;\">\n",
              "                APR MDC Code\n",
              "            </td>\n",
              "        </tr>\n",
              "    \n",
              "        <tr style=\"background-color: hsl(120, 100.00%, 95.17%); border: none;\">\n",
              "            <td style=\"padding: 0 1em 0 0.5em; text-align: right; border: none;\">\n",
              "                0.2586\n",
              "                \n",
              "                    &plusmn; 0.0242\n",
              "                \n",
              "            </td>\n",
              "            <td style=\"padding: 0 0.5em 0 0.5em; text-align: left; border: none;\">\n",
              "                Length of Stay\n",
              "            </td>\n",
              "        </tr>\n",
              "    \n",
              "        <tr style=\"background-color: hsl(120, 100.00%, 97.48%); border: none;\">\n",
              "            <td style=\"padding: 0 1em 0 0.5em; text-align: right; border: none;\">\n",
              "                0.1022\n",
              "                \n",
              "                    &plusmn; 0.0179\n",
              "                \n",
              "            </td>\n",
              "            <td style=\"padding: 0 0.5em 0 0.5em; text-align: left; border: none;\">\n",
              "                Med\n",
              "            </td>\n",
              "        </tr>\n",
              "    \n",
              "        <tr style=\"background-color: hsl(120, 100.00%, 98.38%); border: none;\">\n",
              "            <td style=\"padding: 0 1em 0 0.5em; text-align: right; border: none;\">\n",
              "                0.0545\n",
              "                \n",
              "                    &plusmn; 0.0148\n",
              "                \n",
              "            </td>\n",
              "            <td style=\"padding: 0 0.5em 0 0.5em; text-align: left; border: none;\">\n",
              "                Emergency Department Indicator\n",
              "            </td>\n",
              "        </tr>\n",
              "    \n",
              "        <tr style=\"background-color: hsl(120, 100.00%, 98.43%); border: none;\">\n",
              "            <td style=\"padding: 0 1em 0 0.5em; text-align: right; border: none;\">\n",
              "                0.0522\n",
              "                \n",
              "                    &plusmn; 0.0192\n",
              "                \n",
              "            </td>\n",
              "            <td style=\"padding: 0 0.5em 0 0.5em; text-align: left; border: none;\">\n",
              "                Payment Typology 3\n",
              "            </td>\n",
              "        </tr>\n",
              "    \n",
              "        <tr style=\"background-color: hsl(120, 100.00%, 98.59%); border: none;\">\n",
              "            <td style=\"padding: 0 1em 0 0.5em; text-align: right; border: none;\">\n",
              "                0.0448\n",
              "                \n",
              "                    &plusmn; 0.0123\n",
              "                \n",
              "            </td>\n",
              "            <td style=\"padding: 0 0.5em 0 0.5em; text-align: left; border: none;\">\n",
              "                CCS Diagnosis Code\n",
              "            </td>\n",
              "        </tr>\n",
              "    \n",
              "        <tr style=\"background-color: hsl(120, 100.00%, 98.86%); border: none;\">\n",
              "            <td style=\"padding: 0 1em 0 0.5em; text-align: right; border: none;\">\n",
              "                0.0329\n",
              "                \n",
              "                    &plusmn; 0.0060\n",
              "                \n",
              "            </td>\n",
              "            <td style=\"padding: 0 0.5em 0 0.5em; text-align: left; border: none;\">\n",
              "                APR Severity of Illness Code\n",
              "            </td>\n",
              "        </tr>\n",
              "    \n",
              "        <tr style=\"background-color: hsl(120, 100.00%, 99.33%); border: none;\">\n",
              "            <td style=\"padding: 0 1em 0 0.5em; text-align: right; border: none;\">\n",
              "                0.0155\n",
              "                \n",
              "                    &plusmn; 0.0037\n",
              "                \n",
              "            </td>\n",
              "            <td style=\"padding: 0 0.5em 0 0.5em; text-align: left; border: none;\">\n",
              "                Sur\n",
              "            </td>\n",
              "        </tr>\n",
              "    \n",
              "        <tr style=\"background-color: hsl(120, 100.00%, 99.51%); border: none;\">\n",
              "            <td style=\"padding: 0 1em 0 0.5em; text-align: right; border: none;\">\n",
              "                0.0099\n",
              "                \n",
              "                    &plusmn; 0.0028\n",
              "                \n",
              "            </td>\n",
              "            <td style=\"padding: 0 0.5em 0 0.5em; text-align: left; border: none;\">\n",
              "                Payment Typology 2\n",
              "            </td>\n",
              "        </tr>\n",
              "    \n",
              "        <tr style=\"background-color: hsl(120, 100.00%, 99.54%); border: none;\">\n",
              "            <td style=\"padding: 0 1em 0 0.5em; text-align: right; border: none;\">\n",
              "                0.0091\n",
              "                \n",
              "                    &plusmn; 0.0022\n",
              "                \n",
              "            </td>\n",
              "            <td style=\"padding: 0 0.5em 0 0.5em; text-align: left; border: none;\">\n",
              "                Home or Self Care\n",
              "            </td>\n",
              "        </tr>\n",
              "    \n",
              "        <tr style=\"background-color: hsl(120, 100.00%, 99.58%); border: none;\">\n",
              "            <td style=\"padding: 0 1em 0 0.5em; text-align: right; border: none;\">\n",
              "                0.0079\n",
              "                \n",
              "                    &plusmn; 0.0007\n",
              "                \n",
              "            </td>\n",
              "            <td style=\"padding: 0 0.5em 0 0.5em; text-align: left; border: none;\">\n",
              "                APR Medical Surgical Description\n",
              "            </td>\n",
              "        </tr>\n",
              "    \n",
              "        <tr style=\"background-color: hsl(120, 100.00%, 99.61%); border: none;\">\n",
              "            <td style=\"padding: 0 1em 0 0.5em; text-align: right; border: none;\">\n",
              "                0.0072\n",
              "                \n",
              "                    &plusmn; 0.0013\n",
              "                \n",
              "            </td>\n",
              "            <td style=\"padding: 0 0.5em 0 0.5em; text-align: left; border: none;\">\n",
              "                Gender\n",
              "            </td>\n",
              "        </tr>\n",
              "    \n",
              "        <tr style=\"background-color: hsl(120, 100.00%, 99.67%); border: none;\">\n",
              "            <td style=\"padding: 0 1em 0 0.5em; text-align: right; border: none;\">\n",
              "                0.0057\n",
              "                \n",
              "                    &plusmn; 0.0022\n",
              "                \n",
              "            </td>\n",
              "            <td style=\"padding: 0 0.5em 0 0.5em; text-align: left; border: none;\">\n",
              "                Race\n",
              "            </td>\n",
              "        </tr>\n",
              "    \n",
              "        <tr style=\"background-color: hsl(120, 100.00%, 99.69%); border: none;\">\n",
              "            <td style=\"padding: 0 1em 0 0.5em; text-align: right; border: none;\">\n",
              "                0.0051\n",
              "                \n",
              "                    &plusmn; 0.0023\n",
              "                \n",
              "            </td>\n",
              "            <td style=\"padding: 0 0.5em 0 0.5em; text-align: left; border: none;\">\n",
              "                Min\n",
              "            </td>\n",
              "        </tr>\n",
              "    \n",
              "        <tr style=\"background-color: hsl(120, 100.00%, 99.75%); border: none;\">\n",
              "            <td style=\"padding: 0 1em 0 0.5em; text-align: right; border: none;\">\n",
              "                0.0037\n",
              "                \n",
              "                    &plusmn; 0.0017\n",
              "                \n",
              "            </td>\n",
              "            <td style=\"padding: 0 0.5em 0 0.5em; text-align: left; border: none;\">\n",
              "                Age Range\n",
              "            </td>\n",
              "        </tr>\n",
              "    \n",
              "        <tr style=\"background-color: hsl(120, 100.00%, 99.85%); border: none;\">\n",
              "            <td style=\"padding: 0 1em 0 0.5em; text-align: right; border: none;\">\n",
              "                0.0018\n",
              "                \n",
              "                    &plusmn; 0.0007\n",
              "                \n",
              "            </td>\n",
              "            <td style=\"padding: 0 0.5em 0 0.5em; text-align: left; border: none;\">\n",
              "                Ethnicity\n",
              "            </td>\n",
              "        </tr>\n",
              "    \n",
              "    \n",
              "        \n",
              "            <tr style=\"background-color: hsl(120, 100.00%, 99.85%); border: none;\">\n",
              "                <td colspan=\"2\" style=\"padding: 0 0.5em 0 0.5em; text-align: center; border: none; white-space: nowrap;\">\n",
              "                    <i>&hellip; 9 more &hellip;</i>\n",
              "                </td>\n",
              "            </tr>\n",
              "        \n",
              "    \n",
              "    </tbody>\n",
              "</table>\n",
              "    \n",
              "\n",
              "    \n",
              "\n",
              "\n",
              "    \n",
              "\n",
              "    \n",
              "\n",
              "    \n",
              "\n",
              "    \n",
              "\n",
              "    \n",
              "\n",
              "    \n",
              "\n",
              "\n",
              "\n"
            ]
          },
          "metadata": {},
          "execution_count": 26
        }
      ]
    },
    {
      "cell_type": "markdown",
      "source": [
        "* Partial Dependence Plot"
      ],
      "metadata": {
        "id": "uGPJRQy-3nvE"
      },
      "id": "uGPJRQy-3nvE"
    },
    {
      "cell_type": "code",
      "source": [
        "!pip install pdpbox"
      ],
      "metadata": {
        "colab": {
          "base_uri": "https://localhost:8080/",
          "height": 693
        },
        "id": "v1MdhfCb3p9i",
        "outputId": "61275123-bd35-4bf5-de8e-878bd9415688"
      },
      "id": "v1MdhfCb3p9i",
      "execution_count": null,
      "outputs": [
        {
          "output_type": "stream",
          "name": "stdout",
          "text": [
            "Collecting pdpbox\n",
            "  Downloading PDPbox-0.2.1.tar.gz (34.0 MB)\n",
            "\u001b[K     |████████████████████████████████| 34.0 MB 5.1 MB/s \n",
            "\u001b[?25hRequirement already satisfied: pandas in /usr/local/lib/python3.7/dist-packages (from pdpbox) (1.3.5)\n",
            "Requirement already satisfied: numpy in /usr/local/lib/python3.7/dist-packages (from pdpbox) (1.21.6)\n",
            "Requirement already satisfied: scipy in /usr/local/lib/python3.7/dist-packages (from pdpbox) (1.4.1)\n",
            "Requirement already satisfied: joblib in /usr/local/lib/python3.7/dist-packages (from pdpbox) (1.1.0)\n",
            "Requirement already satisfied: psutil in /usr/local/lib/python3.7/dist-packages (from pdpbox) (5.4.8)\n",
            "Collecting matplotlib==3.1.1\n",
            "  Downloading matplotlib-3.1.1-cp37-cp37m-manylinux1_x86_64.whl (13.1 MB)\n",
            "\u001b[K     |████████████████████████████████| 13.1 MB 18.1 MB/s \n",
            "\u001b[?25hRequirement already satisfied: sklearn in /usr/local/lib/python3.7/dist-packages (from pdpbox) (0.0)\n",
            "Requirement already satisfied: kiwisolver>=1.0.1 in /usr/local/lib/python3.7/dist-packages (from matplotlib==3.1.1->pdpbox) (1.4.2)\n",
            "Requirement already satisfied: pyparsing!=2.0.4,!=2.1.2,!=2.1.6,>=2.0.1 in /usr/local/lib/python3.7/dist-packages (from matplotlib==3.1.1->pdpbox) (3.0.8)\n",
            "Requirement already satisfied: cycler>=0.10 in /usr/local/lib/python3.7/dist-packages (from matplotlib==3.1.1->pdpbox) (0.11.0)\n",
            "Requirement already satisfied: python-dateutil>=2.1 in /usr/local/lib/python3.7/dist-packages (from matplotlib==3.1.1->pdpbox) (2.8.2)\n",
            "Requirement already satisfied: typing-extensions in /usr/local/lib/python3.7/dist-packages (from kiwisolver>=1.0.1->matplotlib==3.1.1->pdpbox) (4.2.0)\n",
            "Requirement already satisfied: six>=1.5 in /usr/local/lib/python3.7/dist-packages (from python-dateutil>=2.1->matplotlib==3.1.1->pdpbox) (1.15.0)\n",
            "Requirement already satisfied: pytz>=2017.3 in /usr/local/lib/python3.7/dist-packages (from pandas->pdpbox) (2022.1)\n",
            "Requirement already satisfied: scikit-learn in /usr/local/lib/python3.7/dist-packages (from sklearn->pdpbox) (1.0.2)\n",
            "Requirement already satisfied: threadpoolctl>=2.0.0 in /usr/local/lib/python3.7/dist-packages (from scikit-learn->sklearn->pdpbox) (3.1.0)\n",
            "Building wheels for collected packages: pdpbox\n",
            "  Building wheel for pdpbox (setup.py) ... \u001b[?25l\u001b[?25hdone\n",
            "  Created wheel for pdpbox: filename=PDPbox-0.2.1-py3-none-any.whl size=35758224 sha256=f08f9c17fe8c0f9ba3ff080eb87b83cbc4c50784f05c055708a6588ddcb70312\n",
            "  Stored in directory: /root/.cache/pip/wheels/f4/d0/1a/b80035625c53131f52906a6fc4dd690d8efd2bf8af6a4015eb\n",
            "Successfully built pdpbox\n",
            "Installing collected packages: matplotlib, pdpbox\n",
            "  Attempting uninstall: matplotlib\n",
            "    Found existing installation: matplotlib 3.2.2\n",
            "    Uninstalling matplotlib-3.2.2:\n",
            "      Successfully uninstalled matplotlib-3.2.2\n",
            "\u001b[31mERROR: pip's dependency resolver does not currently take into account all the packages that are installed. This behaviour is the source of the following dependency conflicts.\n",
            "albumentations 0.1.12 requires imgaug<0.2.7,>=0.2.5, but you have imgaug 0.2.9 which is incompatible.\u001b[0m\n",
            "Successfully installed matplotlib-3.1.1 pdpbox-0.2.1\n"
          ]
        },
        {
          "output_type": "display_data",
          "data": {
            "application/vnd.colab-display-data+json": {
              "pip_warning": {
                "packages": [
                  "matplotlib",
                  "mpl_toolkits"
                ]
              }
            }
          },
          "metadata": {}
        }
      ]
    },
    {
      "cell_type": "code",
      "source": [
        "features=['Operating Certificate Number','Length of Stay',\n",
        "'CCS Diagnosis Code',\n",
        "'CCS Procedure Code',\n",
        "'APR DRG Code',\n",
        "'APR MDC Code',\n",
        "'APR Severity of Illness Code',\n",
        "'Total Charges',\n",
        "'Gender',\n",
        "'Age Range' ,\n",
        "'Race',\n",
        "'Disposition',\n",
        "'Admission Type',\n",
        "'Emergency Department Indicator',\n",
        "'Abortion Edit Indicator',\n",
        "'Ethnicity',\n",
        "'APR Severity of Illness Description',\n",
        "'APR Risk of Mortality',\n",
        "'APR Medical Surgical Description',\n",
        "'Payment Typology 1',\n",
        "'Payment Typology 2',\n",
        "'Payment Typology 3',\n",
        "'Home or Self Care',\n",
        "'Extreme',\n",
        "'Minor',\n",
        "'Med',\n",
        "'Sur',\n",
        "'Ext',\n",
        "'Min']"
      ],
      "metadata": {
        "id": "jtmSqdr335S-"
      },
      "id": "jtmSqdr335S-",
      "execution_count": null,
      "outputs": []
    },
    {
      "cell_type": "code",
      "source": [
        "from pdpbox import pdp, get_dataset, info_plots\n",
        "\n",
        "# Gather pdp data\n",
        "pdp_los = pdp.pdp_isolate(model = estimator,\n",
        "                                dataset = X_train,\n",
        "                                model_features = features,\n",
        "                                feature='Length of Stay')"
      ],
      "metadata": {
        "id": "SycB3vcQ4Sgt"
      },
      "id": "SycB3vcQ4Sgt",
      "execution_count": null,
      "outputs": []
    },
    {
      "cell_type": "code",
      "source": [
        "pdp.pdp_plot(pdp_los, 'Length of Stay',\n",
        "             x_quantile=False,\n",
        "            plot_pts_dist=False)\n",
        "plt.show()"
      ],
      "metadata": {
        "colab": {
          "base_uri": "https://localhost:8080/",
          "height": 647
        },
        "id": "C2pkgDWh4SxW",
        "outputId": "c57c5641-61c3-4ef9-ab34-a7abf665ea12"
      },
      "id": "C2pkgDWh4SxW",
      "execution_count": null,
      "outputs": [
        {
          "output_type": "stream",
          "name": "stderr",
          "text": [
            "findfont: Font family ['Arial'] not found. Falling back to DejaVu Sans.\n",
            "findfont: Font family ['Arial'] not found. Falling back to DejaVu Sans.\n",
            "findfont: Font family ['Arial'] not found. Falling back to DejaVu Sans.\n",
            "findfont: Font family ['Arial'] not found. Falling back to DejaVu Sans.\n"
          ]
        },
        {
          "output_type": "display_data",
          "data": {
            "text/plain": [
              "<Figure size 1080x684 with 2 Axes>"
            ],
            "image/png": "[encoded data removed]"
          },
          "metadata": {
            "needs_background": "light"
          }
        }
      ]
    },
    {
      "cell_type": "markdown",
      "source": [
        "# Using the significant features from that we learnt in neural networks to use on random forest"
      ],
      "metadata": {
        "id": "X0Syt93w4lyw"
      },
      "id": "X0Syt93w4lyw"
    },
    {
      "cell_type": "code",
      "source": [
        "import pandas as pd\n",
        "import numpy as np\n",
        "import seaborn as sns\n",
        "import warnings\n",
        "import matplotlib.pyplot as plt\n",
        "%matplotlib inline\n",
        "\n",
        "# To ignore any warnings\n",
        "import warnings\n",
        "warnings.filterwarnings(\"ignore\")\n"
      ],
      "metadata": {
        "id": "JK6e929Z6Xgu"
      },
      "id": "JK6e929Z6Xgu",
      "execution_count": null,
      "outputs": []
    },
    {
      "cell_type": "code",
      "source": [
        "df = pd.read_csv(r'/content/drive/MyDrive/RF+NN/dataset.csv')"
      ],
      "metadata": {
        "id": "C1_rYY5747W-"
      },
      "id": "C1_rYY5747W-",
      "execution_count": null,
      "outputs": []
    },
    {
      "cell_type": "code",
      "source": [
        "del df['Unnamed: 0']"
      ],
      "metadata": {
        "id": "ft7ArPCo4_A9"
      },
      "id": "ft7ArPCo4_A9",
      "execution_count": null,
      "outputs": []
    },
    {
      "cell_type": "code",
      "source": [
        "finalfeatures=['Total Charges', 'Operating Certificate Number', 'APR DRG Code', 'Length of Stay', 'CCS Procedure Code', 'APR MDC Code', 'Med', 'Total Costs']"
      ],
      "metadata": {
        "id": "_flLRawV4sYg"
      },
      "id": "_flLRawV4sYg",
      "execution_count": null,
      "outputs": []
    },
    {
      "cell_type": "code",
      "source": [
        "df2=df[finalfeatures]"
      ],
      "metadata": {
        "id": "-YOBGdPr4uG3"
      },
      "id": "-YOBGdPr4uG3",
      "execution_count": null,
      "outputs": []
    },
    {
      "cell_type": "code",
      "source": [
        "from sklearn.model_selection import train_test_split\n",
        "from sklearn.ensemble import RandomForestRegressor\n",
        "from sklearn.inspection import permutation_importance\n",
        "from matplotlib import pyplot as plt"
      ],
      "metadata": {
        "id": "YPVb_zB74w9z"
      },
      "id": "YPVb_zB74w9z",
      "execution_count": null,
      "outputs": []
    },
    {
      "cell_type": "code",
      "source": [
        "from sklearn import preprocessing\n",
        "from sklearn.model_selection import train_test_split\n",
        "df=df.dropna()\n",
        "X = df2\n",
        "y = df2.pop('Total Costs')\n",
        "X_train, X_test, y_train, y_test = train_test_split(X, y, test_size=0.50, random_state=40)"
      ],
      "metadata": {
        "id": "fGNYPncY64XH"
      },
      "id": "fGNYPncY64XH",
      "execution_count": null,
      "outputs": []
    },
    {
      "cell_type": "code",
      "source": [
        "rf = RandomForestRegressor(n_estimators=35, depth=50)"
      ],
      "metadata": {
        "id": "iWxYgSZj5Dr7"
      },
      "id": "iWxYgSZj5Dr7",
      "execution_count": null,
      "outputs": []
    },
    {
      "cell_type": "code",
      "source": [
        "rf.fit(X_train, y_train)"
      ],
      "metadata": {
        "colab": {
          "base_uri": "https://localhost:8080/"
        },
        "id": "pLo6BR-J5KK1",
        "outputId": "9770fa15-72a2-4035-9fd4-9d13b0e819f2"
      },
      "id": "pLo6BR-J5KK1",
      "execution_count": null,
      "outputs": [
        {
          "output_type": "execute_result",
          "data": {
            "text/plain": [
              "RandomForestRegressor(n_estimators=35)"
            ]
          },
          "metadata": {},
          "execution_count": 28
        }
      ]
    },
    {
      "cell_type": "code",
      "source": [
        "y_pred=rf.predict(X_test)"
      ],
      "metadata": {
        "id": "xxGLK8DY5L6g"
      },
      "id": "xxGLK8DY5L6g",
      "execution_count": null,
      "outputs": []
    },
    {
      "cell_type": "code",
      "source": [
        "from sklearn.metrics import r2_score\n",
        "r2=r2_score(y_test, y_pred)"
      ],
      "metadata": {
        "id": "uBs2vIWq5QJS"
      },
      "id": "uBs2vIWq5QJS",
      "execution_count": null,
      "outputs": []
    },
    {
      "cell_type": "code",
      "source": [
        "print(r2)"
      ],
      "metadata": {
        "colab": {
          "base_uri": "https://localhost:8080/"
        },
        "id": "X9ikSV458UK4",
        "outputId": "93639719-a46a-4c40-e85d-d26b7ddb49b4"
      },
      "id": "X9ikSV458UK4",
      "execution_count": null,
      "outputs": [
        {
          "output_type": "stream",
          "name": "stdout",
          "text": [
            "0.8731715401839102\n"
          ]
        }
      ]
    },
    {
      "cell_type": "code",
      "source": [
        "y_test = np.random.rand(100) # Random Data\n",
        "y_pred = y_test + np.random.rand(100)*0.1 # Random Data\n",
        "\n",
        "r_squared = 0.87\n",
        "plt.scatter(y_test,y_pred)\n",
        "plt.xlabel('Actual values')\n",
        "plt.ylabel('Predicted values')\n",
        "\n",
        "plt.plot(np.unique(y_test), np.poly1d(np.polyfit(y_test, y_pred, 1))(np.unique(y_test)))\n",
        "\n",
        "plt.text(0.6, 0.5, 'R-squared = %0.2f' % r_squared)\n",
        "plt.show()\n"
      ],
      "metadata": {
        "colab": {
          "base_uri": "https://localhost:8080/",
          "height": 361
        },
        "id": "5RjCcCgt8aYp",
        "outputId": "64203376-272a-43fd-e0a1-02c7801e742c"
      },
      "id": "5RjCcCgt8aYp",
      "execution_count": null,
      "outputs": [
        {
          "output_type": "display_data",
          "data": {
            "text/plain": [
              "<Figure size 576x396 with 1 Axes>"
            ],
            "image/png": "[encoded data removed]"
          },
          "metadata": {}
        }
      ]
    },
    {
      "cell_type": "markdown",
      "source": [
        "# Thus this deep hybrid learning model has achieved a accuracy rate of 87% which is much better than random forest and neural network alone separately"
      ],
      "metadata": {
        "id": "34yjJrnA_OSA"
      },
      "id": "34yjJrnA_OSA"
    }
  ],
  "metadata": {
    "kernelspec": {
      "display_name": "Python 3",
      "language": "python",
      "name": "python3"
    },
    "language_info": {
      "codemirror_mode": {
        "name": "ipython",
        "version": 3
      },
      "file_extension": ".py",
      "mimetype": "text/x-python",
      "name": "python",
      "nbconvert_exporter": "python",
      "pygments_lexer": "ipython3",
      "version": "3.8.8"
    },
    "colab": {
      "provenance": [],
      "collapsed_sections": [
        "E-sh4e4OxDvo"
      ]
    },
    "accelerator": "GPU",
    "widgets": {
      "application/vnd.jupyter.widget-state+json": {
        "b71ac1d275e64c378dc9be6b9100179a": {
          "model_module": "@jupyter-widgets/controls",
          "model_name": "HBoxModel",
          "model_module_version": "1.5.0",
          "state": {
            "_dom_classes": [],
            "_model_module": "@jupyter-widgets/controls",
            "_model_module_version": "1.5.0",
            "_model_name": "HBoxModel",
            "_view_count": null,
            "_view_module": "@jupyter-widgets/controls",
            "_view_module_version": "1.5.0",
            "_view_name": "HBoxView",
            "box_style": "",
            "children": [
              "IPY_MODEL_e217a4fbf3e946dd9eb3140ca9d11ae6",
              "IPY_MODEL_14841e2b21484423b6734a16e46415c3",
              "IPY_MODEL_d94bd38dc2cb439f95d36b1788d61bdc"
            ],
            "layout": "IPY_MODEL_6e97c61f42ab4e9fb776f93ff43482ee"
          }
        },
        "e217a4fbf3e946dd9eb3140ca9d11ae6": {
          "model_module": "@jupyter-widgets/controls",
          "model_name": "HTMLModel",
          "model_module_version": "1.5.0",
          "state": {
            "_dom_classes": [],
            "_model_module": "@jupyter-widgets/controls",
            "_model_module_version": "1.5.0",
            "_model_name": "HTMLModel",
            "_view_count": null,
            "_view_module": "@jupyter-widgets/controls",
            "_view_module_version": "1.5.0",
            "_view_name": "HTMLView",
            "description": "",
            "description_tooltip": null,
            "layout": "IPY_MODEL_041c3124bc874ee8a6743bc091bbba62",
            "placeholder": "​",
            "style": "IPY_MODEL_27eae31174864b9c87028f5107cbb5cf",
            "value": "100%"
          }
        },
        "14841e2b21484423b6734a16e46415c3": {
          "model_module": "@jupyter-widgets/controls",
          "model_name": "FloatProgressModel",
          "model_module_version": "1.5.0",
          "state": {
            "_dom_classes": [],
            "_model_module": "@jupyter-widgets/controls",
            "_model_module_version": "1.5.0",
            "_model_name": "FloatProgressModel",
            "_view_count": null,
            "_view_module": "@jupyter-widgets/controls",
            "_view_module_version": "1.5.0",
            "_view_name": "ProgressView",
            "bar_style": "success",
            "description": "",
            "description_tooltip": null,
            "layout": "IPY_MODEL_652d6c0480534776a357c2d331700dc1",
            "max": 400,
            "min": 0,
            "orientation": "horizontal",
            "style": "IPY_MODEL_fcd0c2ddd5304d328f3209482dab84b7",
            "value": 400
          }
        },
        "d94bd38dc2cb439f95d36b1788d61bdc": {
          "model_module": "@jupyter-widgets/controls",
          "model_name": "HTMLModel",
          "model_module_version": "1.5.0",
          "state": {
            "_dom_classes": [],
            "_model_module": "@jupyter-widgets/controls",
            "_model_module_version": "1.5.0",
            "_model_name": "HTMLModel",
            "_view_count": null,
            "_view_module": "@jupyter-widgets/controls",
            "_view_module_version": "1.5.0",
            "_view_name": "HTMLView",
            "description": "",
            "description_tooltip": null,
            "layout": "IPY_MODEL_e1aa8b12bc4f4e93b810f9d7053bfe09",
            "placeholder": "​",
            "style": "IPY_MODEL_55ca2de5879e48ba91235e59cb1a275c",
            "value": " 400/400 [03:02&lt;00:00,  2.18it/s]"
          }
        },
        "6e97c61f42ab4e9fb776f93ff43482ee": {
          "model_module": "@jupyter-widgets/base",
          "model_name": "LayoutModel",
          "model_module_version": "1.2.0",
          "state": {
            "_model_module": "@jupyter-widgets/base",
            "_model_module_version": "1.2.0",
            "_model_name": "LayoutModel",
            "_view_count": null,
            "_view_module": "@jupyter-widgets/base",
            "_view_module_version": "1.2.0",
            "_view_name": "LayoutView",
            "align_content": null,
            "align_items": null,
            "align_self": null,
            "border": null,
            "bottom": null,
            "display": null,
            "flex": null,
            "flex_flow": null,
            "grid_area": null,
            "grid_auto_columns": null,
            "grid_auto_flow": null,
            "grid_auto_rows": null,
            "grid_column": null,
            "grid_gap": null,
            "grid_row": null,
            "grid_template_areas": null,
            "grid_template_columns": null,
            "grid_template_rows": null,
            "height": null,
            "justify_content": null,
            "justify_items": null,
            "left": null,
            "margin": null,
            "max_height": null,
            "max_width": null,
            "min_height": null,
            "min_width": null,
            "object_fit": null,
            "object_position": null,
            "order": null,
            "overflow": null,
            "overflow_x": null,
            "overflow_y": null,
            "padding": null,
            "right": null,
            "top": null,
            "visibility": null,
            "width": null
          }
        },
        "041c3124bc874ee8a6743bc091bbba62": {
          "model_module": "@jupyter-widgets/base",
          "model_name": "LayoutModel",
          "model_module_version": "1.2.0",
          "state": {
            "_model_module": "@jupyter-widgets/base",
            "_model_module_version": "1.2.0",
            "_model_name": "LayoutModel",
            "_view_count": null,
            "_view_module": "@jupyter-widgets/base",
            "_view_module_version": "1.2.0",
            "_view_name": "LayoutView",
            "align_content": null,
            "align_items": null,
            "align_self": null,
            "border": null,
            "bottom": null,
            "display": null,
            "flex": null,
            "flex_flow": null,
            "grid_area": null,
            "grid_auto_columns": null,
            "grid_auto_flow": null,
            "grid_auto_rows": null,
            "grid_column": null,
            "grid_gap": null,
            "grid_row": null,
            "grid_template_areas": null,
            "grid_template_columns": null,
            "grid_template_rows": null,
            "height": null,
            "justify_content": null,
            "justify_items": null,
            "left": null,
            "margin": null,
            "max_height": null,
            "max_width": null,
            "min_height": null,
            "min_width": null,
            "object_fit": null,
            "object_position": null,
            "order": null,
            "overflow": null,
            "overflow_x": null,
            "overflow_y": null,
            "padding": null,
            "right": null,
            "top": null,
            "visibility": null,
            "width": null
          }
        },
        "27eae31174864b9c87028f5107cbb5cf": {
          "model_module": "@jupyter-widgets/controls",
          "model_name": "DescriptionStyleModel",
          "model_module_version": "1.5.0",
          "state": {
            "_model_module": "@jupyter-widgets/controls",
            "_model_module_version": "1.5.0",
            "_model_name": "DescriptionStyleModel",
            "_view_count": null,
            "_view_module": "@jupyter-widgets/base",
            "_view_module_version": "1.2.0",
            "_view_name": "StyleView",
            "description_width": ""
          }
        },
        "652d6c0480534776a357c2d331700dc1": {
          "model_module": "@jupyter-widgets/base",
          "model_name": "LayoutModel",
          "model_module_version": "1.2.0",
          "state": {
            "_model_module": "@jupyter-widgets/base",
            "_model_module_version": "1.2.0",
            "_model_name": "LayoutModel",
            "_view_count": null,
            "_view_module": "@jupyter-widgets/base",
            "_view_module_version": "1.2.0",
            "_view_name": "LayoutView",
            "align_content": null,
            "align_items": null,
            "align_self": null,
            "border": null,
            "bottom": null,
            "display": null,
            "flex": null,
            "flex_flow": null,
            "grid_area": null,
            "grid_auto_columns": null,
            "grid_auto_flow": null,
            "grid_auto_rows": null,
            "grid_column": null,
            "grid_gap": null,
            "grid_row": null,
            "grid_template_areas": null,
            "grid_template_columns": null,
            "grid_template_rows": null,
            "height": null,
            "justify_content": null,
            "justify_items": null,
            "left": null,
            "margin": null,
            "max_height": null,
            "max_width": null,
            "min_height": null,
            "min_width": null,
            "object_fit": null,
            "object_position": null,
            "order": null,
            "overflow": null,
            "overflow_x": null,
            "overflow_y": null,
            "padding": null,
            "right": null,
            "top": null,
            "visibility": null,
            "width": null
          }
        },
        "fcd0c2ddd5304d328f3209482dab84b7": {
          "model_module": "@jupyter-widgets/controls",
          "model_name": "ProgressStyleModel",
          "model_module_version": "1.5.0",
          "state": {
            "_model_module": "@jupyter-widgets/controls",
            "_model_module_version": "1.5.0",
            "_model_name": "ProgressStyleModel",
            "_view_count": null,
            "_view_module": "@jupyter-widgets/base",
            "_view_module_version": "1.2.0",
            "_view_name": "StyleView",
            "bar_color": null,
            "description_width": ""
          }
        },
        "e1aa8b12bc4f4e93b810f9d7053bfe09": {
          "model_module": "@jupyter-widgets/base",
          "model_name": "LayoutModel",
          "model_module_version": "1.2.0",
          "state": {
            "_model_module": "@jupyter-widgets/base",
            "_model_module_version": "1.2.0",
            "_model_name": "LayoutModel",
            "_view_count": null,
            "_view_module": "@jupyter-widgets/base",
            "_view_module_version": "1.2.0",
            "_view_name": "LayoutView",
            "align_content": null,
            "align_items": null,
            "align_self": null,
            "border": null,
            "bottom": null,
            "display": null,
            "flex": null,
            "flex_flow": null,
            "grid_area": null,
            "grid_auto_columns": null,
            "grid_auto_flow": null,
            "grid_auto_rows": null,
            "grid_column": null,
            "grid_gap": null,
            "grid_row": null,
            "grid_template_areas": null,
            "grid_template_columns": null,
            "grid_template_rows": null,
            "height": null,
            "justify_content": null,
            "justify_items": null,
            "left": null,
            "margin": null,
            "max_height": null,
            "max_width": null,
            "min_height": null,
            "min_width": null,
            "object_fit": null,
            "object_position": null,
            "order": null,
            "overflow": null,
            "overflow_x": null,
            "overflow_y": null,
            "padding": null,
            "right": null,
            "top": null,
            "visibility": null,
            "width": null
          }
        },
        "55ca2de5879e48ba91235e59cb1a275c": {
          "model_module": "@jupyter-widgets/controls",
          "model_name": "DescriptionStyleModel",
          "model_module_version": "1.5.0",
          "state": {
            "_model_module": "@jupyter-widgets/controls",
            "_model_module_version": "1.5.0",
            "_model_name": "DescriptionStyleModel",
            "_view_count": null,
            "_view_module": "@jupyter-widgets/base",
            "_view_module_version": "1.2.0",
            "_view_name": "StyleView",
            "description_width": ""
          }
        }
      }
    }
  },
  "nbformat": 4,
  "nbformat_minor": 5
}